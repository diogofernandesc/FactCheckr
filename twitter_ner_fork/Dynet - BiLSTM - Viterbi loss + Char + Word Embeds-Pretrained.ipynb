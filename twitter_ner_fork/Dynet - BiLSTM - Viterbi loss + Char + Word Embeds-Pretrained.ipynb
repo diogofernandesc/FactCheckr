{
 "cells": [
  {
   "cell_type": "code",
   "execution_count": 1,
   "metadata": {
    "collapsed": true
   },
   "outputs": [],
   "source": [
    "%matplotlib inline\n",
    "import matplotlib.pyplot as plt\n",
    "import seaborn as sns\n",
    "\n",
    "sns.set_context(\"poster\")\n",
    "sns.set_style(\"ticks\")\n",
    "\n",
    "from collections import Counter, defaultdict\n",
    "from itertools import count, chain\n",
    "import random\n",
    "import math\n",
    "\n",
    "import dynet as dy\n",
    "import numpy as np\n",
    "\n",
    "import pandas as pd\n",
    "\n",
    "from gensim.models.word2vec import Word2Vec\n",
    "\n",
    "from tqdm import tnrange, tqdm_notebook"
   ]
  },
  {
   "cell_type": "code",
   "execution_count": 2,
   "metadata": {
    "collapsed": true
   },
   "outputs": [],
   "source": [
    "# format of files: each line is \"word1/tag2 word2/tag2 ...\"\n",
    "train_file=\"data/cleaned/train.BIEOU.tsv\"\n",
    "test_file=\"data/cleaned/dev.BIEOU.tsv\"\n",
    "\n",
    "MAX_LIK_ITERS = 3\n",
    "SMALL_NUMBER = -1e10\n",
    "MARGIN = 0\n"
   ]
  },
  {
   "cell_type": "code",
   "execution_count": 3,
   "metadata": {
    "collapsed": true
   },
   "outputs": [],
   "source": [
    "class Vocab:\n",
    "    def __init__(self, w2i=None):\n",
    "        if w2i is None: w2i = defaultdict(count(0).next)\n",
    "        self.w2i = dict(w2i)\n",
    "        self.i2w = {i:w for w,i in w2i.iteritems()}\n",
    "    @classmethod\n",
    "    def from_corpus(cls, corpus):\n",
    "        w2i = defaultdict(count(0).next)\n",
    "        for sent in corpus:\n",
    "            [w2i[word] for word in sent]\n",
    "        return Vocab(w2i)\n",
    "\n",
    "    def size(self): \n",
    "        return len(self.w2i.keys())\n"
   ]
  },
  {
   "cell_type": "code",
   "execution_count": 4,
   "metadata": {
    "collapsed": true
   },
   "outputs": [],
   "source": [
    "BIO={\n",
    "    \"E\": \"I\",\n",
    "    \"U\": \"B\"\n",
    "}\n",
    "def read(fname, use_BIO=False, notypes=False):\n",
    "    \"\"\"\n",
    "    Read a NER-tagged file where each line is of the form \"word1 tag2\\nword2 tag2 ...\"\n",
    "    Yields lists of the form [(word1,tag1), (word2,tag2), ...]\n",
    "    \"\"\"\n",
    "    with file(fname) as fh:\n",
    "        sent = []\n",
    "        for line in fh:\n",
    "            line = line.strip()\n",
    "            if line == \"\":\n",
    "                if sent:\n",
    "                    yield sent\n",
    "                sent = []\n",
    "                continue\n",
    "            if line:\n",
    "                line = line.split(\"\\t\")\n",
    "                if notypes:\n",
    "                    line[1] = line[1][:1]\n",
    "                if use_BIO:\n",
    "                    tag = line[1]\n",
    "                    if tag[0] in BIO:\n",
    "                        line[1]=BIO[tag[0]] + tag[1:]\n",
    "                line = tuple(line)\n",
    "                sent.append(line)\n",
    "    if sent:\n",
    "        yield sent\n"
   ]
  },
  {
   "cell_type": "code",
   "execution_count": 5,
   "metadata": {
    "collapsed": false
   },
   "outputs": [
    {
     "name": "stdout",
     "output_type": "stream",
     "text": [
      "Train: 2394, Test: 1000\n"
     ]
    }
   ],
   "source": [
    "train=list(read(train_file, notypes=True))\n",
    "test=list(read(test_file, notypes=True))\n",
    "print(\"Train: %s, Test: %s\" % (len(train), len(test)))"
   ]
  },
  {
   "cell_type": "code",
   "execution_count": 6,
   "metadata": {
    "collapsed": false
   },
   "outputs": [
    {
     "name": "stdout",
     "output_type": "stream",
     "text": [
      "[(\"'\", 'O'), ('Breaking', 'B'), ('Dawn', 'E'), (\"'\", 'O'), ('Returns', 'O'), ('to', 'O'), ('Vancouver', 'U'), ('on', 'O'), ('January', 'O'), ('11th', 'O'), ('http://bit.ly/dbDMs8', 'O')]\n"
     ]
    }
   ],
   "source": [
    "print(train[2])"
   ]
  },
  {
   "cell_type": "code",
   "execution_count": 7,
   "metadata": {
    "collapsed": false
   },
   "outputs": [
    {
     "data": {
      "text/html": [
       "<div>\n",
       "<table border=\"1\" class=\"dataframe\">\n",
       "  <thead>\n",
       "    <tr style=\"text-align: right;\">\n",
       "      <th></th>\n",
       "      <th>0</th>\n",
       "      <th>1</th>\n",
       "    </tr>\n",
       "  </thead>\n",
       "  <tbody>\n",
       "    <tr>\n",
       "      <th>0</th>\n",
       "      <td>@ls_n</td>\n",
       "      <td>O</td>\n",
       "    </tr>\n",
       "    <tr>\n",
       "      <th>1</th>\n",
       "      <td>perhaps</td>\n",
       "      <td>O</td>\n",
       "    </tr>\n",
       "    <tr>\n",
       "      <th>2</th>\n",
       "      <td>,</td>\n",
       "      <td>O</td>\n",
       "    </tr>\n",
       "    <tr>\n",
       "      <th>3</th>\n",
       "      <td>but</td>\n",
       "      <td>O</td>\n",
       "    </tr>\n",
       "    <tr>\n",
       "      <th>4</th>\n",
       "      <td>folks</td>\n",
       "      <td>O</td>\n",
       "    </tr>\n",
       "    <tr>\n",
       "      <th>5</th>\n",
       "      <td>may</td>\n",
       "      <td>O</td>\n",
       "    </tr>\n",
       "    <tr>\n",
       "      <th>6</th>\n",
       "      <td>find</td>\n",
       "      <td>O</td>\n",
       "    </tr>\n",
       "    <tr>\n",
       "      <th>7</th>\n",
       "      <td>something</td>\n",
       "      <td>O</td>\n",
       "    </tr>\n",
       "    <tr>\n",
       "      <th>8</th>\n",
       "      <td>in</td>\n",
       "      <td>O</td>\n",
       "    </tr>\n",
       "    <tr>\n",
       "      <th>9</th>\n",
       "      <td>the</td>\n",
       "      <td>O</td>\n",
       "    </tr>\n",
       "    <tr>\n",
       "      <th>10</th>\n",
       "      <td>gallery</td>\n",
       "      <td>O</td>\n",
       "    </tr>\n",
       "    <tr>\n",
       "      <th>11</th>\n",
       "      <td>that</td>\n",
       "      <td>O</td>\n",
       "    </tr>\n",
       "    <tr>\n",
       "      <th>12</th>\n",
       "      <td>is</td>\n",
       "      <td>O</td>\n",
       "    </tr>\n",
       "    <tr>\n",
       "      <th>13</th>\n",
       "      <td>helpful</td>\n",
       "      <td>O</td>\n",
       "    </tr>\n",
       "    <tr>\n",
       "      <th>14</th>\n",
       "      <td>in</td>\n",
       "      <td>O</td>\n",
       "    </tr>\n",
       "    <tr>\n",
       "      <th>15</th>\n",
       "      <td>their</td>\n",
       "      <td>O</td>\n",
       "    </tr>\n",
       "    <tr>\n",
       "      <th>16</th>\n",
       "      <td>day-to-day</td>\n",
       "      <td>O</td>\n",
       "    </tr>\n",
       "    <tr>\n",
       "      <th>17</th>\n",
       "      <td>work</td>\n",
       "      <td>O</td>\n",
       "    </tr>\n",
       "    <tr>\n",
       "      <th>18</th>\n",
       "      <td>as</td>\n",
       "      <td>O</td>\n",
       "    </tr>\n",
       "    <tr>\n",
       "      <th>19</th>\n",
       "      <td>well</td>\n",
       "      <td>O</td>\n",
       "    </tr>\n",
       "    <tr>\n",
       "      <th>20</th>\n",
       "      <td>.</td>\n",
       "      <td>O</td>\n",
       "    </tr>\n",
       "    <tr>\n",
       "      <th>21</th>\n",
       "      <td>Even</td>\n",
       "      <td>O</td>\n",
       "    </tr>\n",
       "    <tr>\n",
       "      <th>22</th>\n",
       "      <td>just</td>\n",
       "      <td>O</td>\n",
       "    </tr>\n",
       "    <tr>\n",
       "      <th>23</th>\n",
       "      <td>to</td>\n",
       "      <td>O</td>\n",
       "    </tr>\n",
       "    <tr>\n",
       "      <th>24</th>\n",
       "      <td>use</td>\n",
       "      <td>O</td>\n",
       "    </tr>\n",
       "    <tr>\n",
       "      <th>25</th>\n",
       "      <td>it</td>\n",
       "      <td>O</td>\n",
       "    </tr>\n",
       "    <tr>\n",
       "      <th>26</th>\n",
       "      <td>.</td>\n",
       "      <td>O</td>\n",
       "    </tr>\n",
       "  </tbody>\n",
       "</table>\n",
       "</div>"
      ],
      "text/plain": [
       "             0  1\n",
       "0        @ls_n  O\n",
       "1      perhaps  O\n",
       "2            ,  O\n",
       "3          but  O\n",
       "4        folks  O\n",
       "5          may  O\n",
       "6         find  O\n",
       "7    something  O\n",
       "8           in  O\n",
       "9          the  O\n",
       "10     gallery  O\n",
       "11        that  O\n",
       "12          is  O\n",
       "13     helpful  O\n",
       "14          in  O\n",
       "15       their  O\n",
       "16  day-to-day  O\n",
       "17        work  O\n",
       "18          as  O\n",
       "19        well  O\n",
       "20           .  O\n",
       "21        Even  O\n",
       "22        just  O\n",
       "23          to  O\n",
       "24         use  O\n",
       "25          it  O\n",
       "26           .  O"
      ]
     },
     "execution_count": 7,
     "metadata": {},
     "output_type": "execute_result"
    }
   ],
   "source": [
    "def getCharClass(c):\n",
    "    if ord('A') <= ord(c) <= ord('Z'):\n",
    "        return \"C\"\n",
    "    if ord('z') <= ord(c) <= ord('z'):\n",
    "        return \"c\"\n",
    "    if ord('0') <= ord(c) <= ord('9'):\n",
    "        return \"n\"\n",
    "    return \"p\"\n",
    "    \n",
    "def get_words_golds(sent):\n",
    "    return zip(*sent)\n",
    "\n",
    "pd.DataFrame(zip(*get_words_golds(train[3])))"
   ]
  },
  {
   "cell_type": "code",
   "execution_count": 8,
   "metadata": {
    "collapsed": true
   },
   "outputs": [],
   "source": [
    "words=[]\n",
    "tags=[]\n",
    "ortho_words=[]\n",
    "chars=set()\n",
    "ortho_chars=set()\n",
    "wc=Counter()\n",
    "for sent in train:\n",
    "    for w,p in sent:\n",
    "        tags.append(p)\n",
    "        w_lower = w.lower()\n",
    "        words.append(w_lower)\n",
    "        chars.update([c for c in w])\n",
    "        ortho_w = \"\".join([getCharClass(c) for c in w])\n",
    "        ortho_words.append(ortho_w)\n",
    "        ortho_chars.update([c for c in ortho_w])\n",
    "        wc[w_lower]+=1\n",
    "words.append(\"_UNK_\")\n",
    "words.append(\"_S_\")\n",
    "chars.add(\"<*>\")\n",
    "\n",
    "ortho_words.append(\"_UNK_\")\n",
    "ortho_words.append(\"_S_\")\n",
    "ortho_chars.add(\"<*>\")\n",
    "\n",
    "\n",
    "tags.append(\"_S_\")"
   ]
  },
  {
   "cell_type": "code",
   "execution_count": 9,
   "metadata": {
    "collapsed": true
   },
   "outputs": [],
   "source": [
    "vw = Vocab.from_corpus([words]) # TODO Vocab\n",
    "vc = Vocab.from_corpus([chars])\n",
    "\n",
    "vwo = Vocab.from_corpus([ortho_words]) # TODO Vocab\n",
    "vco = Vocab.from_corpus([ortho_chars])\n",
    "\n",
    "vt = Vocab.from_corpus([tags])\n",
    "\n",
    "UNK = vw.w2i[\"_UNK_\"]\n",
    "S_W = vw.w2i[\"_S_\"]\n",
    "\n",
    "UNK_O = vwo.w2i[\"_UNK_\"]\n",
    "S_W_O = vwo.w2i[\"_S_\"]\n",
    "\n",
    "S_T = vt.w2i[\"_S_\"]"
   ]
  },
  {
   "cell_type": "code",
   "execution_count": 10,
   "metadata": {
    "collapsed": false
   },
   "outputs": [
    {
     "data": {
      "text/plain": [
       "{'B': 2, 'E': 3, 'I': 4, 'O': 0, 'U': 1, '_S_': 5}"
      ]
     },
     "execution_count": 10,
     "metadata": {},
     "output_type": "execute_result"
    }
   ],
   "source": [
    "vt.w2i"
   ]
  },
  {
   "cell_type": "code",
   "execution_count": 11,
   "metadata": {
    "collapsed": true
   },
   "outputs": [],
   "source": [
    "nwords = vw.size()\n",
    "nchars  = vc.size()\n",
    "\n",
    "nwords_ortho = vwo.size()\n",
    "nchars_ortho  = vco.size()\n",
    "\n",
    "ntags  = vt.size()"
   ]
  },
  {
   "cell_type": "code",
   "execution_count": 12,
   "metadata": {
    "collapsed": false
   },
   "outputs": [
    {
     "name": "stdout",
     "output_type": "stream",
     "text": [
      "(9070, 93, 1155, 5, 6)\n"
     ]
    }
   ],
   "source": [
    "print(nwords, nchars, nwords_ortho, nchars_ortho, ntags)"
   ]
  },
  {
   "cell_type": "code",
   "execution_count": 13,
   "metadata": {
    "collapsed": false
   },
   "outputs": [],
   "source": [
    "W_EMBED_SIZE=400\n",
    "WO_EMBED_SIZE=50\n",
    "C_EMBED_SIZE=30\n",
    "TAG_EMBED_SIZE=10\n",
    "CHAR_LSTM_OUTPUT_SIZE=200 # If it is seperate use a lower number\n",
    "LSTM_INPUT_SIZE=W_EMBED_SIZE # + WO_EMBED_SIZE + 4*CHAR_LSTM_OUTPUT_SIZE\n",
    "LSTM_OUTPUT_SIZE=100\n",
    "MLP_H_INPUT_SIZE=2*LSTM_OUTPUT_SIZE\n",
    "MLP_H_OUTPUT_SIZE=ntags"
   ]
  },
  {
   "cell_type": "code",
   "execution_count": 14,
   "metadata": {
    "collapsed": false
   },
   "outputs": [],
   "source": [
    "# DyNet Starts\n",
    "\n",
    "model = dy.Model()\n",
    "trainer = dy.AdamTrainer(model)\n",
    "\n",
    "WORDS_LOOKUP = model.add_lookup_parameters((nwords, W_EMBED_SIZE))\n",
    "CHARS_LOOKUP = model.add_lookup_parameters((nchars, C_EMBED_SIZE))\n",
    "\n",
    "WORDS_ORTHO_LOOKUP = model.add_lookup_parameters((nwords_ortho, WO_EMBED_SIZE))\n",
    "CHARS_ORTHO_LOOKUP = model.add_lookup_parameters((nchars_ortho, C_EMBED_SIZE))\n",
    "\n",
    "TRANS_LOOKUP = model.add_lookup_parameters((ntags, ntags))\n",
    "#p_t1  = model.add_lookup_parameters((ntags, TAG_EMBED_SIZE))\n",
    "\n",
    "# MLP on top of biLSTM outputs 100 -> 32 -> ntags\n",
    "pH = model.add_parameters((MLP_H_OUTPUT_SIZE, MLP_H_INPUT_SIZE))\n",
    "pO = model.add_parameters((ntags, MLP_H_OUTPUT_SIZE))\n",
    "\n",
    "# word-level LSTMs\n",
    "fwdRNN = dy.LSTMBuilder(1, LSTM_INPUT_SIZE, LSTM_OUTPUT_SIZE, model) # layers, in-dim, out-dim, model\n",
    "bwdRNN = dy.LSTMBuilder(1, LSTM_INPUT_SIZE, LSTM_OUTPUT_SIZE, model)\n",
    "\n",
    "# char-level LSTMs\n",
    "cFwdRNN = dy.LSTMBuilder(1, C_EMBED_SIZE, CHAR_LSTM_OUTPUT_SIZE, model)\n",
    "cBwdRNN = dy.LSTMBuilder(1, C_EMBED_SIZE, CHAR_LSTM_OUTPUT_SIZE, model)\n",
    "CHAR_ATTENTION = model.add_parameters((2*CHAR_LSTM_OUTPUT_SIZE, W_EMBED_SIZE))\n",
    "\n",
    "coFwdRNN = dy.LSTMBuilder(1, C_EMBED_SIZE, CHAR_LSTM_OUTPUT_SIZE, model)\n",
    "coBwdRNN = dy.LSTMBuilder(1, C_EMBED_SIZE, CHAR_LSTM_OUTPUT_SIZE, model)\n",
    "CHARO_ATTENTION = model.add_parameters((2*CHAR_LSTM_OUTPUT_SIZE, W_EMBED_SIZE))"
   ]
  },
  {
   "cell_type": "code",
   "execution_count": 15,
   "metadata": {
    "collapsed": true
   },
   "outputs": [],
   "source": [
    "TWEET_WORD2VEC_EMBEDDINGS_PATH='/home/entity/Downloads/word2vec_twitter_model/word2vec_twitter_model.bin'\n",
    "def process_wordvecs(filename, vw, WORDS_LOOKUP, dims=200):\n",
    "    t_word2vec = Word2Vec.load_word2vec_format(filename,\n",
    "                                           binary=True, unicode_errors=\"ignore\")\n",
    "    found_words = 0\n",
    "    words_read = len(t_word2vec.vocab)\n",
    "    for word, widx in vw.w2i.iteritems():\n",
    "        if word in t_word2vec:\n",
    "            found_words += 1\n",
    "            embedding = t_word2vec[word]\n",
    "            WORDS_LOOKUP.init_row(widx, embedding)\n",
    "    print \"Found embeddings for %s words, total read: %s\" % (found_words, words_read)"
   ]
  },
  {
   "cell_type": "code",
   "execution_count": 16,
   "metadata": {
    "collapsed": true
   },
   "outputs": [],
   "source": [
    "GLOVE_EMBEDDINGS_PATH=\"/home/entity/Downloads/GloVe/glove.6B.300d.txt\"\n",
    "def process_glovevectors(filename, vw, WORDS_LOOKUP, dims=200):\n",
    "    found_words = 0\n",
    "    words_read = 0\n",
    "    with open(filename) as fp:\n",
    "        for line in fp:\n",
    "            word, embedding = line.strip().split(\" \", 1)\n",
    "            words_read += 1\n",
    "            word = word.lower()\n",
    "            if word not in vw.w2i:\n",
    "                continue\n",
    "            found_words += 1\n",
    "            try:\n",
    "                embedding = map(float, embedding.split(\" \"))\n",
    "            except:\n",
    "                print \"Found embeddings for %s words, total read: %s\" % (found_words, words_read)\n",
    "                print word, embedding\n",
    "                raise\n",
    "            widx = vw.w2i[word]\n",
    "            WORDS_LOOKUP.init_row(widx, embedding)\n",
    "    print \"Found embeddings for %s words, total read: %s\" % (found_words, words_read)"
   ]
  },
  {
   "cell_type": "code",
   "execution_count": 17,
   "metadata": {
    "collapsed": false
   },
   "outputs": [
    {
     "name": "stdout",
     "output_type": "stream",
     "text": [
      "Found embeddings for 6536 words, total read: 3039345\n"
     ]
    }
   ],
   "source": [
    "use_glove=False\n",
    "use_w2v=True\n",
    "if use_glove:\n",
    "    process_glovevectors(GLOVE_EMBEDDINGS_PATH, vw, WORDS_LOOKUP, dims=W_EMBED_SIZE)\n",
    "elif use_w2v:\n",
    "    process_wordvecs(TWEET_WORD2VEC_EMBEDDINGS_PATH, vw, WORDS_LOOKUP, dims=W_EMBED_SIZE)\n",
    "else:\n",
    "    print \"using random init\""
   ]
  },
  {
   "cell_type": "code",
   "execution_count": 18,
   "metadata": {
    "collapsed": true
   },
   "outputs": [],
   "source": [
    "def word_rep_backoff(w, cf_init, cb_init, *args):\n",
    "    w_lowered = w.lower()\n",
    "    if wc[w_lowered] > 5:\n",
    "        w_index = vw.w2i[w_lowered]\n",
    "        return WORDS_LOOKUP[w_index]\n",
    "    else:\n",
    "        pad_char = vc.w2i[\"<*>\"]\n",
    "        char_ids = [pad_char] + [vc.w2i[getCharClass(c)] for c in w] + [pad_char]\n",
    "        char_embs = [CHARS_LOOKUP[cid] for cid in char_ids]\n",
    "        fw_exps = cf_init.transduce(char_embs)\n",
    "        bw_exps = cb_init.transduce(reversed(char_embs))\n",
    "        return dy.concatenate([ fw_exps[-1], bw_exps[-1] ])\n",
    "    \n",
    "    \n",
    "def word_rep_all(w, cf_init, cb_init, cof_init, cob_init):\n",
    "    w_lowered = w.lower()\n",
    "    if w_lowered in wc and wc[w_lowered] > 5:\n",
    "        w_index = vw.w2i[w_lowered]\n",
    "    else:\n",
    "        w_index = UNK\n",
    "    w_embed = WORDS_LOOKUP[w_index]\n",
    "    ## Add ortho word embeddings\n",
    "    ortho_w = \"\".join([getCharClass(c) for c in w])\n",
    "    if ortho_w in vwo.w2i:\n",
    "        w_index = vwo.w2i[ortho_w]\n",
    "    else:\n",
    "        w_index = UNK_O\n",
    "    wo_embed = WORDS_ORTHO_LOOKUP[w_index]\n",
    "    ## Add char embeddings\n",
    "    pad_char = vc.w2i[\"<*>\"]\n",
    "    char_ids = [pad_char] + [vc.w2i[c] for c in w] + [pad_char]\n",
    "    char_embs = [CHARS_LOOKUP[cid] for cid in char_ids]\n",
    "    fw_exps = cf_init.transduce(char_embs)\n",
    "    bw_exps = cb_init.transduce(reversed(char_embs))\n",
    "    \n",
    "    ## Add char ortho embeddings\n",
    "    pad_char = vco.w2i[\"<*>\"]\n",
    "    char_ids = [pad_char] + [vco.w2i[c] for c in ortho_w] + [pad_char]\n",
    "    char_embs = [CHARS_ORTHO_LOOKUP[cid] for cid in char_ids]\n",
    "    fwo_exps = cof_init.transduce(char_embs)\n",
    "    bwo_exps = cob_init.transduce(reversed(char_embs))\n",
    "    \n",
    "    return dy.concatenate([w_embed, fw_exps[-1], bw_exps[-1],\n",
    "                          wo_embed, fwo_exps[-1], bwo_exps[-1],])\n",
    "\n",
    "\n",
    "\n",
    "def word_rep_attention(w, cf_init, cb_init, cof_init, cob_init):\n",
    "    w_lowered = w.lower()\n",
    "    if w_lowered in wc and wc[w_lowered] > 5:\n",
    "        w_index = vw.w2i[w_lowered]\n",
    "    else:\n",
    "        w_index = UNK\n",
    "    w_embed = WORDS_LOOKUP[w_index]\n",
    "    ## Add ortho word embeddings\n",
    "    ortho_w = \"\".join([getCharClass(c) for c in w])\n",
    "    if ortho_w in vwo.w2i:\n",
    "        w_index = vwo.w2i[ortho_w]\n",
    "    else:\n",
    "        w_index = UNK_O\n",
    "    wo_embed = WORDS_ORTHO_LOOKUP[w_index]\n",
    "    ## Add char embeddings\n",
    "    pad_char = vc.w2i[\"<*>\"]\n",
    "    char_ids = [pad_char] + [vc.w2i[c] for c in w] + [pad_char]\n",
    "    char_embs = [CHARS_LOOKUP[cid] for cid in char_ids]\n",
    "    fw_exps = cf_init.transduce(char_embs)\n",
    "    bw_exps = cb_init.transduce(reversed(char_embs))\n",
    "    char_full_exps = [dy.concatenate([fw, bw]) for fw, bw in zip(fw_exps, bw_exps)]\n",
    "    ATT = dy.parameter(CHAR_ATTENTION)\n",
    "    #(dy.transpose(clp[1])*(A*e))\n",
    "    attn_w = dy.concatenate([dy.tanh(dy.transpose(cw)*(ATT*w_embed)) for cw in char_full_exps])\n",
    "    attn_w = dy.softmax(attn_w)\n",
    "    final_embed = []\n",
    "    for awi, cw in enumerate(char_full_exps):\n",
    "        final_embed.append(cw*attn_w[awi])\n",
    "    final_embed = dy.esum(final_embed)\n",
    "    \n",
    "    \n",
    "    ## Add char ortho embeddings\n",
    "    pad_char = vco.w2i[\"<*>\"]\n",
    "    char_ids = [pad_char] + [vco.w2i[c] for c in ortho_w] + [pad_char]\n",
    "    char_embs = [CHARS_ORTHO_LOOKUP[cid] for cid in char_ids]\n",
    "    fwo_exps = cof_init.transduce(char_embs)\n",
    "    bwo_exps = cob_init.transduce(reversed(char_embs))\n",
    "    \n",
    "    char_full_exps = [dy.concatenate([fw, bw]) for fw, bw in zip(fwo_exps, bwo_exps)]\n",
    "    ATT = dy.parameter(CHARO_ATTENTION)\n",
    "    #(dy.transpose(clp[1])*(A*e))\n",
    "    attn_w = dy.concatenate([dy.tanh(dy.transpose(cw)*(ATT*w_embed)) for cw in char_full_exps])\n",
    "    attn_w = dy.softmax(attn_w)\n",
    "    final_embed_o = dy.esum([cw*attn_w[awi] for awi, cw in enumerate(char_full_exps)])\n",
    "    \n",
    "    return dy.concatenate([w_embed, final_embed,\n",
    "                          wo_embed, final_embed_o,])\n"
   ]
  },
  {
   "cell_type": "code",
   "execution_count": 19,
   "metadata": {
    "collapsed": true
   },
   "outputs": [],
   "source": [
    "def build_tagging_graph(words, word_rep=word_rep_backoff):\n",
    "    dy.renew_cg()\n",
    "    # parameters -> expressions\n",
    "    H = dy.parameter(pH)\n",
    "    O = dy.parameter(pO)\n",
    "\n",
    "    # initialize the RNNs\n",
    "    f_init = fwdRNN.initial_state()\n",
    "    b_init = bwdRNN.initial_state()\n",
    "\n",
    "    cf_init = cFwdRNN.initial_state()\n",
    "    cb_init = cBwdRNN.initial_state()\n",
    "    \n",
    "    cof_init = coFwdRNN.initial_state()\n",
    "    cob_init = coBwdRNN.initial_state()\n",
    "\n",
    "    # get the word vectors. word_rep(...) returns a 128-dim vector expression for each word.\n",
    "    wembs = [word_rep(w, cf_init, cb_init, cof_init, cob_init) for w in words]\n",
    "    wembs = [dy.dropout(we,0.5) for we in wembs] # optional\n",
    "\n",
    "    # feed word vectors into biLSTM\n",
    "    fw_exps = f_init.transduce(wembs)\n",
    "    bw_exps = b_init.transduce(reversed(wembs))\n",
    "# OR\n",
    "#    fw_exps = []\n",
    "#    s = f_init\n",
    "#    for we in wembs:\n",
    "#        s = s.add_input(we)\n",
    "#        fw_exps.append(s.output())\n",
    "#    bw_exps = []\n",
    "#    s = b_init\n",
    "#    for we in reversed(wembs):\n",
    "#        s = s.add_input(we)\n",
    "#        bw_exps.append(s.output())\n",
    "\n",
    "    # biLSTM states\n",
    "    bi_exps = [dy.concatenate([f,b]) for f,b in zip(fw_exps, reversed(bw_exps))]\n",
    "\n",
    "    # feed each biLSTM state to an MLP\n",
    "    exps = []\n",
    "    for bi in bi_exps:\n",
    "        bi = dy.dropout(bi,0.5)\n",
    "        r_t = O*(dy.tanh(H * bi))\n",
    "        exps.append(r_t)\n",
    "\n",
    "    return exps"
   ]
  },
  {
   "cell_type": "code",
   "execution_count": 20,
   "metadata": {
    "collapsed": true
   },
   "outputs": [],
   "source": [
    "def viterbi_decoding(vecs, gold_tags = []):\n",
    "    # Initialize\n",
    "    init_prob = [SMALL_NUMBER] * ntags\n",
    "    init_prob[S_T] = 0\n",
    "    for_expr = dy.inputVector(init_prob)\n",
    "    best_ids = []\n",
    "    trans_exprs = [TRANS_LOOKUP[tid] for tid in range(ntags)]\n",
    "    # Perform the forward pass through the sentence\n",
    "    for i, vec in enumerate(vecs):\n",
    "        my_best_ids = []\n",
    "        my_best_exprs = []\n",
    "        for next_tag in range(ntags):\n",
    "            # Calculate vector for single next tag\n",
    "            next_single_expr = for_expr + trans_exprs[next_tag]\n",
    "            next_single = next_single_expr.npvalue()\n",
    "            # Find and save the best score\n",
    "            my_best_id = np.argmax(next_single)\n",
    "            my_best_ids.append(my_best_id)\n",
    "            my_best_exprs.append(dy.pick(next_single_expr, my_best_id))\n",
    "        # Concatenate the scores for all vectors together\n",
    "        for_expr = dy.concatenate(my_best_exprs) + vec\n",
    "        # Give a bonus to all but the correct tag if using margin\n",
    "        if MARGIN != 0 and len(gold_tags) != 0:\n",
    "            adjust = [MARGIN] * ntags\n",
    "            adjust[vt.w2i[gold_tags[i]]] = 0\n",
    "            for_expr = for_expr + dy.inputVector(adjust)\n",
    "        # Save the best ids\n",
    "        best_ids.append(my_best_ids)\n",
    "    # Perform the final step to the sentence terminal symbol\n",
    "    next_single_expr = for_expr + trans_exprs[S_T]\n",
    "    next_single = next_single_expr.npvalue()\n",
    "    my_best_id = np.argmax(next_single)\n",
    "    best_expr = dy.pick(next_single_expr, my_best_id)\n",
    "    # Perform the reverse pass\n",
    "    best_path = [vt.i2w[my_best_id]]\n",
    "    for my_best_ids in reversed(best_ids):\n",
    "        my_best_id = my_best_ids[my_best_id]\n",
    "        best_path.append(vt.i2w[my_best_id])\n",
    "    best_path.pop() # Remove final <s>\n",
    "    best_path.reverse()\n",
    "    # Return the best path and best score as an expression\n",
    "    return best_path, best_expr\n",
    "\n",
    "def forced_decoding(vecs, tags):\n",
    "    # Initialize\n",
    "    for_expr = dy.scalarInput(0)\n",
    "    for_tag = S_T\n",
    "    # Perform the forward pass through the sentence\n",
    "    for i, vec in enumerate(vecs): \n",
    "        my_tag = vt.w2i[tags[i]]\n",
    "        for_expr = for_expr + dy.pick(TRANS_LOOKUP[my_tag], for_tag) + vec[my_tag]\n",
    "        for_tag = my_tag\n",
    "    for_expr = for_expr + dy.pick(TRANS_LOOKUP[S_T], for_tag)\n",
    "    return for_expr\n",
    "\n",
    "def viterbi_sent_loss(vecs, tags):\n",
    "    #vecs = build_tagging_graph(words)\n",
    "    viterbi_tags, viterbi_score = viterbi_decoding(vecs, tags)\n",
    "    if viterbi_tags != tags:\n",
    "        reference_score = forced_decoding(vecs, tags)\n",
    "        return viterbi_score - reference_score\n",
    "    else:\n",
    "        return dy.scalarInput(0)\n",
    "\n",
    "def sent_loss(vecs, tags):\n",
    "    #vecs = build_tagging_graph(words)\n",
    "    errs = []\n",
    "    for v,t in zip(vecs,tags):\n",
    "        tid = vt.w2i[t]\n",
    "        err = dy.pickneglogsoftmax(v, tid)\n",
    "        errs.append(err)\n",
    "    return dy.esum(errs)\n",
    "\n",
    "def tag_sent(vecs):\n",
    "    #vecs = build_tagging_graph(words)\n",
    "    vecs = [dy.softmax(v) for v in vecs]\n",
    "    probs = [v.npvalue() for v in vecs]\n",
    "    tags = []\n",
    "    for prb in probs:\n",
    "        tag = np.argmax(prb)\n",
    "        tags.append(vt.i2w[tag])\n",
    "    return tags\n",
    "\n",
    "def predict(sent, viterbi=True, word_rep=word_rep_backoff):\n",
    "    words, golds = get_words_golds(sent)\n",
    "    vecs = build_tagging_graph(words, word_rep=word_rep)\n",
    "    if viterbi:\n",
    "        tags, loss_exp = viterbi_decoding(vecs)\n",
    "    else:\n",
    "        tags = tag_sent(vecs)\n",
    "    return tags\n",
    "\n",
    "def print_sequences(sequences, predictions, filename, test_data=False, notypes=False):\n",
    "    with open(filename, \"wb+\") as fp:\n",
    "        for seq, pred in zip(sequences, predictions):\n",
    "            for t, p in zip(seq, pred):\n",
    "                token, tag = t\n",
    "                if tag[0] == \"U\":\n",
    "                    tag = \"B%s\" % tag[1:]\n",
    "                if tag[0] == \"E\":\n",
    "                    tag = \"I%s\" % tag[1:]\n",
    "                if p[0] == \"U\":\n",
    "                    p = \"B%s\" % p[1:]\n",
    "                if p[0] == \"E\":\n",
    "                    p = \"I%s\" % p[1:]\n",
    "                if notypes:\n",
    "                    tag = tag[0]\n",
    "                    p = p[0]\n",
    "                if test_data:\n",
    "                    line = \"\\t\".join((token, p))\n",
    "                else:\n",
    "                    line = \"\\t\".join((token, tag, p))\n",
    "                print >> fp, line\n",
    "            print >> fp, \"\"\n",
    "    print \"Done\""
   ]
  },
  {
   "cell_type": "code",
   "execution_count": 21,
   "metadata": {
    "collapsed": false
   },
   "outputs": [
    {
     "name": "stdout",
     "output_type": "stream",
     "text": [
      "\n"
     ]
    }
   ],
   "source": [
    "num_tagged = cum_loss = 0\n",
    "token_scores = []\n",
    "sent_scores = []\n",
    "avg_loss = []\n",
    "word_rep=word_rep_backoff\n",
    "for ITER in tnrange(10, desc=\"Iterations\"):\n",
    "    random.shuffle(train)\n",
    "    for i,s in enumerate(tqdm_notebook(train, desc=\"Training Items\", leave=False),\n",
    "                         start=1):\n",
    "        if i % 500 == 0:\n",
    "            trainer.status()\n",
    "            avg_loss.append(cum_loss / num_tagged)\n",
    "            cum_loss = 0\n",
    "            num_tagged = 0\n",
    "        if i % 10000 == 0 or i == len(train)-1: \n",
    "            good_sent = bad_sent = good = bad = 0.0\n",
    "            for sent in tqdm_notebook(test, desc=\"Test instances\", leave=False):\n",
    "                words, golds = get_words_golds(sent)\n",
    "                vecs = build_tagging_graph(words, word_rep=word_rep)\n",
    "                if ITER < MAX_LIK_ITERS:\n",
    "                    tags = tag_sent(vecs)\n",
    "                else:\n",
    "                    tags, loss_exp = viterbi_decoding(vecs)\n",
    "                if tags == golds: good_sent += 1\n",
    "                else: bad_sent += 1\n",
    "                for go,gu in zip(golds,tags):\n",
    "                    if go == gu: good += 1\n",
    "                    else: bad += 1\n",
    "            #print good/(good+bad), good_sent/(good_sent+bad_sent)\n",
    "            token_scores.append(good/(good+bad))\n",
    "            sent_scores.append(good_sent/(good_sent+bad_sent))\n",
    "        # train on sent\n",
    "        words, golds = get_words_golds(s)\n",
    "        vecs = build_tagging_graph(words, word_rep=word_rep)\n",
    "        if ITER < MAX_LIK_ITERS:\n",
    "            loss_exp =  sent_loss(vecs, golds)\n",
    "        else:\n",
    "            loss_exp =  viterbi_sent_loss(vecs, golds)\n",
    "        cum_loss += loss_exp.scalar_value()\n",
    "        num_tagged += len(golds)\n",
    "        loss_exp.backward()\n",
    "        trainer.update()\n",
    "    #print \"epoch %r finished\" % ITER\n",
    "    trainer.update_epoch(1.0)"
   ]
  },
  {
   "cell_type": "code",
   "execution_count": 22,
   "metadata": {
    "collapsed": false
   },
   "outputs": [
    {
     "data": {
      "image/png": "[encoded data removed]",
      "text/plain": [
       "<matplotlib.figure.Figure at 0x7f3c558be8d0>"
      ]
     },
     "metadata": {},
     "output_type": "display_data"
    }
   ],
   "source": [
    "ax = plt.subplot2grid((2,2), (0,0), colspan=2)\n",
    "ax.plot(avg_loss)\n",
    "ax.set_ylabel(\"Avg. Loss\")\n",
    "ax.set_yscale(\"log\")\n",
    "ax = plt.subplot2grid((2,2), (1,0))\n",
    "ax.plot(token_scores)\n",
    "ax.set_ylabel(\"Token Scores\")\n",
    "ax = plt.subplot2grid((2,2), (1,1))\n",
    "ax.plot(sent_scores)\n",
    "ax.set_ylabel(\"Sent Scores\")\n",
    "plt.tight_layout()"
   ]
  },
  {
   "cell_type": "code",
   "execution_count": 23,
   "metadata": {
    "collapsed": false
   },
   "outputs": [
    {
     "data": {
      "text/plain": [
       "[(('RT', 'O'), 'O'),\n",
       " (('@shashiranjanttv', 'O'), 'O'),\n",
       " ((':', 'O'), 'O'),\n",
       " (('@shashiranjanttv', 'O'), 'O'),\n",
       " (('second', 'O'), 'O'),\n",
       " (('is', 'O'), 'O'),\n",
       " (('Bawana', 'U'), 'O'),\n",
       " (('constituency', 'O'), 'O'),\n",
       " (('on', 'O'), 'O'),\n",
       " (('Feb', 'O'), 'O'),\n",
       " (('4', 'O'), 'O'),\n",
       " (('-', 'O'), 'O'),\n",
       " (('Final', 'O'), 'O')]"
      ]
     },
     "execution_count": 23,
     "metadata": {},
     "output_type": "execute_result"
    }
   ],
   "source": [
    "zip(test[2], predict(test[2], word_rep=word_rep))"
   ]
  },
  {
   "cell_type": "code",
   "execution_count": 24,
   "metadata": {
    "collapsed": false
   },
   "outputs": [
    {
     "name": "stdout",
     "output_type": "stream",
     "text": [
      "Done\n",
      "processed 46469 tokens with 1499 phrases; found: 214 phrases; correct: 117.\n",
      "accuracy:  95.08%; precision:  54.67%; recall:   7.81%; FB1:  13.66\n",
      "                 : precision:  54.67%; recall:   7.81%; FB1:  13.66  214\n"
     ]
    }
   ],
   "source": [
    "print_sequences(train, [predict(s,word_rep=word_rep) for s in train], \"train.dynet.tsv\")\n",
    "! cat train.dynet.tsv | tr '\\t' ' ' | perl -ne '{chomp;s/\\r//g;print $_,\"\\n\";}' | python data/conlleval.py"
   ]
  },
  {
   "cell_type": "code",
   "execution_count": 25,
   "metadata": {
    "collapsed": false
   },
   "outputs": [
    {
     "name": "stdout",
     "output_type": "stream",
     "text": [
      "Done\n"
     ]
    }
   ],
   "source": [
    "print_sequences(test, [predict(s,word_rep=word_rep) for s in test], \"test.dynet.tsv\")"
   ]
  },
  {
   "cell_type": "code",
   "execution_count": 26,
   "metadata": {
    "collapsed": false,
    "scrolled": true
   },
   "outputs": [
    {
     "name": "stdout",
     "output_type": "stream",
     "text": [
      "processed 16261 tokens with 665 phrases; found: 69 phrases; correct: 17.\r\n",
      "accuracy:  92.98%; precision:  24.64%; recall:   2.56%; FB1:   4.63\r\n",
      "                 : precision:  24.64%; recall:   2.56%; FB1:   4.63  69\r\n"
     ]
    }
   ],
   "source": [
    "! cat test.dynet.tsv | tr '\\t' ' ' | perl -ne '{chomp;s/\\r//g;print $_,\"\\n\";}' | python data/conlleval.py"
   ]
  },
  {
   "cell_type": "code",
   "execution_count": 27,
   "metadata": {
    "collapsed": false
   },
   "outputs": [
    {
     "data": {
      "text/plain": [
       "<matplotlib.image.AxesImage at 0x7f3c723b8f50>"
      ]
     },
     "execution_count": 27,
     "metadata": {},
     "output_type": "execute_result"
    },
    {
     "data": {
      "image/png": "[encoded data removed]",
      "text/plain": [
       "<matplotlib.figure.Figure at 0x7f3dd5062fd0>"
      ]
     },
     "metadata": {},
     "output_type": "display_data"
    }
   ],
   "source": [
    "plt.matshow(TRANS_LOOKUP.as_array())"
   ]
  },
  {
   "cell_type": "code",
   "execution_count": 28,
   "metadata": {
    "collapsed": false
   },
   "outputs": [
    {
     "data": {
      "text/plain": [
       "{0: 'O', 1: 'U', 2: 'B', 3: 'E', 4: 'I', 5: '_S_'}"
      ]
     },
     "execution_count": 28,
     "metadata": {},
     "output_type": "execute_result"
    }
   ],
   "source": [
    "vt.i2w"
   ]
  },
  {
   "cell_type": "code",
   "execution_count": 29,
   "metadata": {
    "collapsed": false
   },
   "outputs": [
    {
     "data": {
      "text/plain": [
       "(6,)"
      ]
     },
     "execution_count": 29,
     "metadata": {},
     "output_type": "execute_result"
    }
   ],
   "source": [
    "sorted_ids = np.array([vt.w2i[t] for t in sorted(vt.i2w.values(), key=lambda x: x[2:] + x[:2])])\n",
    "sorted_ids.shape"
   ]
  },
  {
   "cell_type": "code",
   "execution_count": 30,
   "metadata": {
    "collapsed": false
   },
   "outputs": [
    {
     "data": {
      "text/plain": [
       "(6, 6)"
      ]
     },
     "execution_count": 30,
     "metadata": {},
     "output_type": "execute_result"
    }
   ],
   "source": [
    "TRANS_LOOKUP.as_array()[sorted_ids][:, sorted_ids].shape"
   ]
  },
  {
   "cell_type": "code",
   "execution_count": 31,
   "metadata": {
    "collapsed": false
   },
   "outputs": [
    {
     "data": {
      "text/plain": [
       "<matplotlib.image.AxesImage at 0x7f3c80a817d0>"
      ]
     },
     "execution_count": 31,
     "metadata": {},
     "output_type": "execute_result"
    },
    {
     "data": {
      "image/png": "[encoded data removed]",
      "text/plain": [
       "<matplotlib.figure.Figure at 0x7f3c6b4b6950>"
      ]
     },
     "metadata": {},
     "output_type": "display_data"
    }
   ],
   "source": [
    "plt.matshow(TRANS_LOOKUP.as_array()[sorted_ids][:, sorted_ids])"
   ]
  },
  {
   "cell_type": "code",
   "execution_count": 32,
   "metadata": {
    "collapsed": false
   },
   "outputs": [
    {
     "data": {
      "text/plain": [
       "(6, 6)"
      ]
     },
     "execution_count": 32,
     "metadata": {},
     "output_type": "execute_result"
    }
   ],
   "source": [
    "TRANS_LOOKUP.shape()"
   ]
  },
  {
   "cell_type": "code",
   "execution_count": null,
   "metadata": {
    "collapsed": true
   },
   "outputs": [],
   "source": []
  }
 ],
 "metadata": {
  "anaconda-cloud": {},
  "kernelspec": {
   "display_name": "Python [default]",
   "language": "python",
   "name": "python2"
  },
  "language_info": {
   "codemirror_mode": {
    "name": "ipython",
    "version": 2
   },
   "file_extension": ".py",
   "mimetype": "text/x-python",
   "name": "python",
   "nbconvert_exporter": "python",
   "pygments_lexer": "ipython2",
   "version": "2.7.12"
  },
  "widgets": {
   "state": {
    "0160c4fcc9594a0c8d94f5f3482a5a3e": {
     "views": [
      {
       "cell_index": 20
      }
     ]
    },
    "05726b7fd8b8462a8f1b702e1454fb92": {
     "views": [
      {
       "cell_index": 20
      }
     ]
    },
    "0582d6378991469281c9b6c562958bdf": {
     "views": [
      {
       "cell_index": 20
      }
     ]
    },
    "09073f956bca4913b57acd89984bcf40": {
     "views": [
      {
       "cell_index": 20
      }
     ]
    },
    "09505d4a03454e35a075e738b98bd499": {
     "views": [
      {
       "cell_index": 20
      }
     ]
    },
    "0dc568d9008a4e2987c430f261a7cf78": {
     "views": [
      {
       "cell_index": 20
      }
     ]
    },
    "284266d0aa8c4655a234514670413cfd": {
     "views": [
      {
       "cell_index": 20
      }
     ]
    },
    "28ac6f1f2b1140abb133a3bf3b0a4dca": {
     "views": [
      {
       "cell_index": 20
      }
     ]
    },
    "2c9c8491532448919c14d7ad2186667e": {
     "views": [
      {
       "cell_index": 20
      }
     ]
    },
    "45a0c3a42d0f4f80a576d57cb18e3990": {
     "views": [
      {
       "cell_index": 20
      }
     ]
    },
    "4b420fc5f23545b598c25658bf06a6fb": {
     "views": [
      {
       "cell_index": 20
      }
     ]
    },
    "4df6ac78c0c749519358d083b429d54e": {
     "views": [
      {
       "cell_index": 20
      }
     ]
    },
    "521e08e1e0a84891a91e6996fbc68e84": {
     "views": [
      {
       "cell_index": 20
      }
     ]
    },
    "54fb433242c3412fa2d68389315c81da": {
     "views": [
      {
       "cell_index": 20
      }
     ]
    },
    "56ecabbf6d5d40b4996c0773c000105c": {
     "views": [
      {
       "cell_index": 20
      }
     ]
    },
    "5b748318a7944c45807f2b9f71d0884e": {
     "views": [
      {
       "cell_index": 20
      }
     ]
    },
    "5c5354c1a1904009a7e0094d241ce971": {
     "views": [
      {
       "cell_index": 20
      }
     ]
    },
    "6617ba0bcff94b6e902ec3601a4cf395": {
     "views": [
      {
       "cell_index": 20
      }
     ]
    },
    "6967bfcd1f7c464ca007bf573ede595f": {
     "views": [
      {
       "cell_index": 20
      }
     ]
    },
    "7d53569dfd674825b25003976c3b35fc": {
     "views": [
      {
       "cell_index": 20
      }
     ]
    },
    "7dcd210dc3a044688691094112bc037a": {
     "views": [
      {
       "cell_index": 20
      }
     ]
    },
    "835e43f1b8344f1d8a3dca52130cbcea": {
     "views": [
      {
       "cell_index": 20
      }
     ]
    },
    "888490199073452fb12cb43974a49625": {
     "views": [
      {
       "cell_index": 20
      }
     ]
    },
    "8a3bcc9e69654f2c94b2ca8a9d70a754": {
     "views": [
      {
       "cell_index": 20
      }
     ]
    },
    "8d26cf9f5bab4aa5a35ecb099564abca": {
     "views": [
      {
       "cell_index": 20
      }
     ]
    },
    "8d411500daf54b40be0a3661bea156d3": {
     "views": [
      {
       "cell_index": 20
      }
     ]
    },
    "9296efef87074fbc9b34e5c5c5a59a0e": {
     "views": [
      {
       "cell_index": 20
      }
     ]
    },
    "94cfffa2210745389ad3f5c915f3740f": {
     "views": [
      {
       "cell_index": 20
      }
     ]
    },
    "967047292b394e7db9007d855522bb2e": {
     "views": [
      {
       "cell_index": 20
      }
     ]
    },
    "995aafaffd5f4a11aaf5c34168cf311a": {
     "views": [
      {
       "cell_index": 20
      }
     ]
    },
    "9e54895f1a7e4a9fa8eaaf77eac287d7": {
     "views": [
      {
       "cell_index": 20
      }
     ]
    },
    "9ee9c7445a9e44b4935f1232339f3e55": {
     "views": [
      {
       "cell_index": 20
      }
     ]
    },
    "9fbb02342a414686890a71f4f20d4dd5": {
     "views": [
      {
       "cell_index": 20
      }
     ]
    },
    "a96c46b09bb340d09d2771fe737aded6": {
     "views": [
      {
       "cell_index": 20
      }
     ]
    },
    "b0f9c12a285b4bc6a7ce95cc403af52f": {
     "views": [
      {
       "cell_index": 20
      }
     ]
    },
    "b4cb6606c50346b2a3d8af17363b089c": {
     "views": [
      {
       "cell_index": 20
      }
     ]
    },
    "c5c2188fa98e498db2ea18bfddcc0c72": {
     "views": [
      {
       "cell_index": 20
      }
     ]
    },
    "c5dba4ea82804bbfbc26fcf040bd5e5f": {
     "views": [
      {
       "cell_index": 20
      }
     ]
    },
    "c60c4b76ec73419a8fe350810e987a57": {
     "views": [
      {
       "cell_index": 20
      }
     ]
    },
    "c80e14c219854d6682660c7ca4b3a8b8": {
     "views": [
      {
       "cell_index": 20
      }
     ]
    },
    "d499cba1df674facb037168949c19291": {
     "views": [
      {
       "cell_index": 20
      }
     ]
    },
    "d6830886f3374d4ebc4431a63a8f0a4f": {
     "views": [
      {
       "cell_index": 20
      }
     ]
    },
    "d790d5e1edf847ec9ac9efab60a3646b": {
     "views": [
      {
       "cell_index": 20
      }
     ]
    },
    "db99983281dc4ef0bfaab479a72ba6d8": {
     "views": [
      {
       "cell_index": 20
      }
     ]
    },
    "e4982b2e04694330b8bf27eb59437a05": {
     "views": [
      {
       "cell_index": 20
      }
     ]
    },
    "fbe8e68fd8434a9eb82dad4663c66361": {
     "views": [
      {
       "cell_index": 20
      }
     ]
    }
   },
   "version": "1.2.0"
  }
 },
 "nbformat": 4,
 "nbformat_minor": 1
}
