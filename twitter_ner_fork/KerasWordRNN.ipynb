{
 "cells": [
  {
   "cell_type": "code",
   "execution_count": 1,
   "metadata": {
    "collapsed": false
   },
   "outputs": [],
   "source": [
    "%matplotlib inline\n",
    "\n",
    "import numpy as np\n",
    "import pandas as pd\n",
    "\n",
    "import matplotlib.pyplot as plt\n",
    "import seaborn as sns\n",
    "\n",
    "from collections import namedtuple, defaultdict, Counter"
   ]
  },
  {
   "cell_type": "code",
   "execution_count": 2,
   "metadata": {
    "collapsed": true
   },
   "outputs": [],
   "source": [
    "sns.set_context(\"poster\")\n",
    "sns.set_style(\"ticks\")"
   ]
  },
  {
   "cell_type": "code",
   "execution_count": 3,
   "metadata": {
    "collapsed": false
   },
   "outputs": [],
   "source": [
    "Tag = namedtuple(\"Tag\", [\"token\", \"tag\"])\n",
    "BEGIN_TAG = Tag(\"^\", \"<BOS>\")\n",
    "END_TAG = Tag(\"$\", \"<EOS>\")\n",
    "\n",
    "def load_sequences(filename, sep=\"\\t\", notypes=False):\n",
    "    sequences = []\n",
    "    prev_char_tag = \"O\"\n",
    "    with open(filename) as fp:\n",
    "        seq = []\n",
    "        for line in fp:\n",
    "            line = line.strip()\n",
    "            if line:\n",
    "                if not seq:\n",
    "                    seq = [BEGIN_TAG]\n",
    "                line = line.split(sep)\n",
    "                if notypes:\n",
    "                    line[1] = line[1][0]\n",
    "                seq.append(Tag(*line))\n",
    "            else:\n",
    "                seq.append(END_TAG)\n",
    "                sequences.append(seq)\n",
    "                seq = []\n",
    "        if seq:\n",
    "            seq.append(END_TAG)\n",
    "            sequences.append(seq)\n",
    "    return sequences\n",
    "    "
   ]
  },
  {
   "cell_type": "code",
   "execution_count": 11,
   "metadata": {
    "collapsed": false
   },
   "outputs": [],
   "source": [
    "train = load_sequences(\"data/cleaned/train.BIEOU.tsv\", notypes=True)\n",
    "test = load_sequences(\"data/cleaned/dev.BIEOU.tsv\", notypes=True)"
   ]
  },
  {
   "cell_type": "code",
   "execution_count": 12,
   "metadata": {
    "collapsed": false
   },
   "outputs": [
    {
     "data": {
      "text/plain": [
       "<matplotlib.text.Text at 0x7f8a6cdd4ad0>"
      ]
     },
     "execution_count": 12,
     "metadata": {},
     "output_type": "execute_result"
    },
    {
     "data": {
      "image/png": "[encoded data removed]",
      "text/plain": [
       "<matplotlib.figure.Figure at 0x7f8a6a077690>"
      ]
     },
     "metadata": {},
     "output_type": "display_data"
    }
   ],
   "source": [
    "fig, ax = plt.subplots(1,2)\n",
    "ax[0].hist([len(seq) for seq in train], bins=range(0,50,1))\n",
    "ax[1].hist([len(seq) for seq in test], bins=range(0,50,1))\n",
    "ax[0].set_title(\"Train\")\n",
    "ax[1].set_title(\"Validation\")"
   ]
  },
  {
   "cell_type": "code",
   "execution_count": 13,
   "metadata": {
    "collapsed": false
   },
   "outputs": [
    {
     "data": {
      "text/plain": [
       "['<BOS>', '<EOS>', 'B', 'E', 'I', 'O', 'U']"
      ]
     },
     "execution_count": 13,
     "metadata": {},
     "output_type": "execute_result"
    }
   ],
   "source": [
    "labels = sorted(Counter(t.tag for seq in train for t in seq).keys(), key=lambda x: x.split(\"-\")[-1])\n",
    "labels"
   ]
  },
  {
   "cell_type": "code",
   "execution_count": 14,
   "metadata": {
    "collapsed": false
   },
   "outputs": [
    {
     "data": {
      "text/plain": [
       "{'<BOS>': 1, '<EOS>': 2, 'B': 3, 'E': 4, 'I': 5, 'MASK': 0, 'O': 6, 'U': 7}"
      ]
     },
     "execution_count": 14,
     "metadata": {},
     "output_type": "execute_result"
    }
   ],
   "source": [
    "labels = [\"MASK\"] + labels\n",
    "label2id = {l: i for i, l in enumerate(labels)}\n",
    "label2id"
   ]
  },
  {
   "cell_type": "code",
   "execution_count": 21,
   "metadata": {
    "collapsed": false
   },
   "outputs": [
    {
     "name": "stdout",
     "output_type": "stream",
     "text": [
      "10589\n"
     ]
    }
   ],
   "source": [
    "vocab = sorted(Counter(t.token for seq in train for t in seq).keys())\n",
    "vocab = [\"<MASK>\", \"<OOV>\"] + vocab\n",
    "word2id = {l: i for i, l in enumerate(vocab)}\n",
    "print len(vocab)"
   ]
  },
  {
   "cell_type": "markdown",
   "metadata": {},
   "source": [
    "## Modeling"
   ]
  },
  {
   "cell_type": "code",
   "execution_count": 18,
   "metadata": {
    "collapsed": false
   },
   "outputs": [
    {
     "name": "stderr",
     "output_type": "stream",
     "text": [
      "Using TensorFlow backend.\n"
     ]
    }
   ],
   "source": [
    "from keras.preprocessing import sequence\n",
    "from keras.models import Sequential, Model\n",
    "from keras.layers import Dense, Dropout, Embedding, LSTM, Input, TimeDistributed, Merge, merge\n",
    "from keras.callbacks import TensorBoard, ModelCheckpoint"
   ]
  },
  {
   "cell_type": "code",
   "execution_count": 43,
   "metadata": {
    "collapsed": true
   },
   "outputs": [],
   "source": [
    "INPUT_DIM=len(vocab)\n",
    "EMBED_DIM=64\n",
    "MAXLENGTH=50\n",
    "NUM_LABELS=len(label2id)"
   ]
  },
  {
   "cell_type": "code",
   "execution_count": 22,
   "metadata": {
    "collapsed": false
   },
   "outputs": [
    {
     "name": "stdout",
     "output_type": "stream",
     "text": [
      "('X_train shape:', (2394, 50))\n",
      "('X_test shape:', (1000, 50))\n"
     ]
    }
   ],
   "source": [
    "X_train = sequence.pad_sequences([[word2id.get(t.token, word2id[\"<OOV>\"])\n",
    "                                   for t in seq] for seq in train], maxlen=MAXLENGTH)\n",
    "X_test = sequence.pad_sequences([[word2id.get(t.token, word2id[\"<OOV>\"])\n",
    "                                  for t in seq] for seq in test], maxlen=MAXLENGTH)\n",
    "print('X_train shape:', X_train.shape)\n",
    "print('X_test shape:', X_test.shape)"
   ]
  },
  {
   "cell_type": "code",
   "execution_count": 23,
   "metadata": {
    "collapsed": false
   },
   "outputs": [
    {
     "name": "stdout",
     "output_type": "stream",
     "text": [
      "('y_train shape:', (2394, 50, 1))\n",
      "('y_test shape:', (1000, 50, 1))\n",
      "('train_sample_weight shape:', (2394, 50))\n",
      "('test_sample_weight shape:', (1000, 50))\n"
     ]
    }
   ],
   "source": [
    "Y_train = sequence.pad_sequences([[label2id[t.tag] for t in seq] for seq in train], maxlen=MAXLENGTH)\n",
    "Y_test = sequence.pad_sequences([[label2id[t.tag] for t in seq] for seq in test], maxlen=MAXLENGTH)\n",
    "\n",
    "train_sample_weight = Y_train != 0\n",
    "test_sample_weight = Y_test != 0\n",
    "\n",
    "Y_train = np.expand_dims(Y_train, -1)\n",
    "Y_test = np.expand_dims(Y_test, -1)\n",
    "\n",
    "\n",
    "print('y_train shape:', Y_train.shape)\n",
    "print('y_test shape:', Y_test.shape)\n",
    "\n",
    "print('train_sample_weight shape:', train_sample_weight.shape)\n",
    "print('test_sample_weight shape:', test_sample_weight.shape)"
   ]
  },
  {
   "cell_type": "code",
   "execution_count": 44,
   "metadata": {
    "collapsed": false
   },
   "outputs": [],
   "source": [
    "num_layers=3\n",
    "lstm_units=32\n",
    "dense_units=32\n",
    "dropout_p=0.5\n",
    "\n",
    "input_layer = Input(shape=(MAXLENGTH,), dtype='int32')\n",
    "emb = Embedding(input_dim=INPUT_DIM, output_dim=EMBED_DIM,\n",
    "                           input_length=MAXLENGTH, mask_zero=True,\n",
    "                dropout=dropout_p)(input_layer)\n",
    "# apply forwards LSTM\n",
    "forward_lstms = []\n",
    "prev_layer = emb\n",
    "for i in xrange(num_layers):\n",
    "    fw_lstm = LSTM(lstm_units, return_sequences=True,\n",
    "                   dropout_U=dropout_p, dropout_W=dropout_p)(prev_layer)\n",
    "    prev_layer = fw_lstm\n",
    "    forward_lstms.append(fw_lstm)\n",
    "\n",
    "# apply backwards LSTM\n",
    "backward_lstms = []\n",
    "prev_layer = emb\n",
    "for i in xrange(num_layers):\n",
    "    bw_lstm = LSTM(lstm_units, return_sequences=True,\n",
    "                   go_backwards=True, dropout_U=dropout_p, dropout_W=dropout_p)(prev_layer)\n",
    "    prev_layer = bw_lstm\n",
    "    backward_lstms.append(bw_lstm)\n",
    "\n",
    "merged_layer = merge([fw_lstm, bw_lstm], mode=\"concat\")\n",
    "dropout = Dropout(p=dropout_p)(merged_layer)\n",
    "dense = TimeDistributed(Dense(dense_units, activation='tanh'))(dropout)\n",
    "dense2 = TimeDistributed(Dense(dense_units, activation='tanh'))(dense)\n",
    "out = TimeDistributed(Dense(NUM_LABELS, activation='softmax'))(dense2)"
   ]
  },
  {
   "cell_type": "code",
   "execution_count": 45,
   "metadata": {
    "collapsed": false
   },
   "outputs": [],
   "source": [
    "model = Model(input=input_layer, output=out)\n",
    "model.compile(optimizer='adam', loss='sparse_categorical_crossentropy', sample_weight_mode=\"temporal\",  metrics=['accuracy'])\n",
    "tb_callback = TensorBoard(log_dir='./tb_logs', histogram_freq=0, write_graph=True)\n",
    "mc_callback = ModelCheckpoint(\"models/LSTM1_word.hdf5\", monitor='val_loss', save_best_only=True)"
   ]
  },
  {
   "cell_type": "code",
   "execution_count": null,
   "metadata": {
    "collapsed": false
   },
   "outputs": [
    {
     "name": "stderr",
     "output_type": "stream",
     "text": [
      "/home/entity/anaconda2/lib/python2.7/site-packages/tensorflow/python/ops/gradients.py:90: UserWarning: Converting sparse IndexedSlices to a dense Tensor of unknown shape. This may consume a large amount of memory.\n",
      "  \"Converting sparse IndexedSlices to a dense Tensor of unknown shape. \"\n"
     ]
    },
    {
     "name": "stdout",
     "output_type": "stream",
     "text": [
      "Train on 2394 samples, validate on 1000 samples\n",
      "Epoch 1/30\n",
      "2394/2394 [==============================] - 142s - loss: 1.6753 - acc: 0.3605 - val_loss: 1.6171 - val_acc: 0.3223\n",
      "Epoch 2/30\n",
      "2394/2394 [==============================] - 112s - loss: 1.1358 - acc: 0.3841 - val_loss: 1.4676 - val_acc: 0.3227\n",
      "Epoch 3/30\n",
      "2394/2394 [==============================] - 111s - loss: 1.0858 - acc: 0.3870 - val_loss: 1.4444 - val_acc: 0.3227\n",
      "Epoch 4/30\n",
      "2394/2394 [==============================] - 112s - loss: 1.0814 - acc: 0.3872 - val_loss: 1.4323 - val_acc: 0.3227\n",
      "Epoch 5/30\n",
      "2394/2394 [==============================] - 111s - loss: 1.0686 - acc: 0.3873 - val_loss: 1.4229 - val_acc: 0.3227\n",
      "Epoch 6/30\n",
      "2394/2394 [==============================] - 113s - loss: 1.0543 - acc: 0.3874 - val_loss: 1.4017 - val_acc: 0.3227\n",
      "Epoch 7/30\n",
      "2394/2394 [==============================] - 110s - loss: 1.0505 - acc: 0.3874 - val_loss: 1.4112 - val_acc: 0.3227\n",
      "Epoch 8/30\n",
      "2394/2394 [==============================] - 111s - loss: 1.0373 - acc: 0.3875 - val_loss: 1.4043 - val_acc: 0.3227\n",
      "Epoch 9/30\n",
      "2394/2394 [==============================] - 109s - loss: 1.0287 - acc: 0.3875 - val_loss: 1.3810 - val_acc: 0.3227\n",
      "Epoch 10/30\n",
      "2394/2394 [==============================] - 110s - loss: 1.0016 - acc: 0.3875 - val_loss: 1.3678 - val_acc: 0.3227\n",
      "Epoch 11/30\n",
      "2394/2394 [==============================] - 112s - loss: 0.9634 - acc: 0.3888 - val_loss: 1.0418 - val_acc: 0.3351\n",
      "Epoch 12/30\n",
      "2394/2394 [==============================] - 104s - loss: 0.8995 - acc: 0.3962 - val_loss: 0.9385 - val_acc: 0.3419\n",
      "Epoch 13/30\n",
      "2394/2394 [==============================] - 99s - loss: 0.8679 - acc: 0.3967 - val_loss: 0.9154 - val_acc: 0.3423\n",
      "Epoch 14/30\n",
      "2394/2394 [==============================] - 104s - loss: 0.8632 - acc: 0.3971 - val_loss: 0.9306 - val_acc: 0.3423\n",
      "Epoch 15/30\n",
      "2394/2394 [==============================] - 109s - loss: 0.8361 - acc: 0.3969 - val_loss: 0.8857 - val_acc: 0.3423\n",
      "Epoch 16/30\n",
      " 105/2394 [>.............................] - ETA: 91s - loss: 0.8747 - acc: 0.3949"
     ]
    }
   ],
   "source": [
    "model.fit(X_train, Y_train, nb_epoch=30, batch_size=5,\n",
    "          sample_weight=train_sample_weight,\n",
    "         validation_data=(X_test, Y_test, test_sample_weight),\n",
    "         callbacks=[tb_callback, mc_callback])"
   ]
  },
  {
   "cell_type": "code",
   "execution_count": 47,
   "metadata": {
    "collapsed": false
   },
   "outputs": [
    {
     "data": {
      "text/plain": [
       "['acc', 'loss', 'val_acc', 'val_loss']"
      ]
     },
     "execution_count": 47,
     "metadata": {},
     "output_type": "execute_result"
    }
   ],
   "source": [
    "model.history.history.keys()"
   ]
  },
  {
   "cell_type": "code",
   "execution_count": 48,
   "metadata": {
    "collapsed": false
   },
   "outputs": [
    {
     "data": {
      "text/plain": [
       "<matplotlib.legend.Legend at 0x7f883770fe10>"
      ]
     },
     "execution_count": 48,
     "metadata": {},
     "output_type": "execute_result"
    },
    {
     "data": {
      "image/png": "[encoded data removed]",
      "text/plain": [
       "<matplotlib.figure.Figure at 0x7f884095fa90>"
      ]
     },
     "metadata": {},
     "output_type": "display_data"
    }
   ],
   "source": [
    "fig, ax = plt.subplots(1,2 ,figsize=(16,8))\n",
    "\n",
    "\n",
    "ax[0].plot(model.history.epoch, model.history.history[\"acc\"], \"-bo\", label=\"Train\")\n",
    "ax[0].plot(model.history.epoch, model.history.history[\"val_acc\"], \"-rs\", label=\"Validation\")\n",
    "ax[0].set_xlabel(\"Epoch\")\n",
    "ax[0].set_ylabel(\"Accuracy\")\n",
    "ax[0].legend(loc=\"upper left\")\n",
    "\n",
    "ax[1].plot(model.history.epoch, model.history.history[\"loss\"], \"-bo\", label=\"Train\")\n",
    "ax[1].plot(model.history.epoch, model.history.history[\"val_loss\"], \"-rs\", label=\"Validation\")\n",
    "ax[1].set_xlabel(\"Epoch\")\n",
    "ax[1].set_ylabel(\"Loss\")\n",
    "ax[1].legend(loc=\"upper left\")"
   ]
  },
  {
   "cell_type": "code",
   "execution_count": 49,
   "metadata": {
    "collapsed": true
   },
   "outputs": [],
   "source": [
    "predictions = model.predict(X_train)"
   ]
  },
  {
   "cell_type": "code",
   "execution_count": 50,
   "metadata": {
    "collapsed": false
   },
   "outputs": [
    {
     "data": {
      "text/plain": [
       "array([1, 1, 1, 1, 1, 1, 1, 1, 1, 1, 1, 1, 1, 1, 1, 1, 6, 6, 6, 6, 6, 6, 6,\n",
       "       6, 6, 6, 6, 6, 6, 6, 6, 6, 6, 6, 6, 6, 6, 6, 6, 6, 6, 6, 6, 6, 6, 6,\n",
       "       6, 6, 6, 2])"
      ]
     },
     "execution_count": 50,
     "metadata": {},
     "output_type": "execute_result"
    }
   ],
   "source": [
    "predictions.argmax(axis=-1)[1]"
   ]
  },
  {
   "cell_type": "code",
   "execution_count": 51,
   "metadata": {
    "collapsed": false,
    "scrolled": false
   },
   "outputs": [
    {
     "data": {
      "text/plain": [
       "array([0, 0, 0, 0, 0, 0, 0, 0, 0, 0, 0, 0, 0, 0, 0, 1, 6, 6, 6, 6, 6, 7, 6,\n",
       "       6, 6, 6, 6, 6, 6, 3, 4, 6, 6, 6, 6, 6, 6, 6, 6, 6, 6, 6, 6, 6, 6, 3,\n",
       "       4, 6, 6, 2], dtype=int32)"
      ]
     },
     "execution_count": 51,
     "metadata": {},
     "output_type": "execute_result"
    }
   ],
   "source": [
    "Y_train[1].flatten()"
   ]
  },
  {
   "cell_type": "code",
   "execution_count": 52,
   "metadata": {
    "collapsed": false
   },
   "outputs": [
    {
     "data": {
      "text/plain": [
       "array([False, False, False, False, False, False, False, False, False,\n",
       "       False, False, False, False, False, False,  True,  True,  True,\n",
       "        True,  True,  True, False,  True,  True,  True,  True,  True,\n",
       "        True,  True, False, False,  True,  True,  True,  True,  True,\n",
       "        True,  True,  True,  True,  True,  True,  True,  True,  True,\n",
       "       False, False,  True,  True,  True], dtype=bool)"
      ]
     },
     "execution_count": 52,
     "metadata": {},
     "output_type": "execute_result"
    }
   ],
   "source": [
    "predictions.argmax(axis=-1)[1] == Y_train[1].flatten()"
   ]
  },
  {
   "cell_type": "code",
   "execution_count": 53,
   "metadata": {
    "collapsed": true
   },
   "outputs": [],
   "source": [
    "predictions_val = model.predict(X_test)"
   ]
  },
  {
   "cell_type": "code",
   "execution_count": 54,
   "metadata": {
    "collapsed": false
   },
   "outputs": [
    {
     "data": {
      "text/plain": [
       "array([1, 1, 1, 1, 1, 1, 1, 1, 1, 1, 1, 1, 1, 1, 1, 1, 1, 1, 1, 1, 1, 1, 1,\n",
       "       1, 1, 1, 1, 1, 1, 1, 1, 1, 6, 6, 6, 6, 6, 6, 6, 6, 6, 6, 6, 6, 6, 6,\n",
       "       6, 6, 6, 2])"
      ]
     },
     "execution_count": 54,
     "metadata": {},
     "output_type": "execute_result"
    }
   ],
   "source": [
    "predictions_val.argmax(axis=-1)[0]"
   ]
  },
  {
   "cell_type": "code",
   "execution_count": 55,
   "metadata": {
    "collapsed": false
   },
   "outputs": [
    {
     "data": {
      "text/plain": [
       "array([0, 0, 0, 0, 0, 0, 0, 0, 0, 0, 0, 0, 0, 0, 0, 0, 0, 0, 0, 0, 0, 0, 0,\n",
       "       0, 0, 0, 0, 0, 0, 0, 0, 1, 6, 6, 6, 6, 6, 6, 6, 6, 6, 7, 6, 6, 6, 6,\n",
       "       6, 6, 6, 2], dtype=int32)"
      ]
     },
     "execution_count": 55,
     "metadata": {},
     "output_type": "execute_result"
    }
   ],
   "source": [
    "Y_test[0].flatten()"
   ]
  },
  {
   "cell_type": "code",
   "execution_count": 57,
   "metadata": {
    "collapsed": true
   },
   "outputs": [],
   "source": [
    "from sklearn.metrics import classification_report, confusion_matrix"
   ]
  },
  {
   "cell_type": "code",
   "execution_count": 58,
   "metadata": {
    "collapsed": false
   },
   "outputs": [
    {
     "data": {
      "text/plain": [
       "array([[    0, 68443,     0,     0,     0,     0,     0,     0],\n",
       "       [    0,  2394,     0,     0,     0,     0,     0,     0],\n",
       "       [    0,     0,  2394,     0,     0,     0,     0,     0],\n",
       "       [    0,     0,     0,     0,     0,     0,   666,     0],\n",
       "       [    0,     0,     0,     0,     0,     0,   655,     0],\n",
       "       [    0,     0,     0,     0,     0,     0,   308,     0],\n",
       "       [    0,     0,    10,     0,     0,     0, 43997,     0],\n",
       "       [    0,     0,     0,     0,     0,     0,   833,     0]])"
      ]
     },
     "execution_count": 58,
     "metadata": {},
     "output_type": "execute_result"
    }
   ],
   "source": [
    "confusion_matrix(Y_train.flatten(),\n",
    "                            predictions.argmax(axis=-1).flatten(),\n",
    "                labels=range(len(labels)))"
   ]
  },
  {
   "cell_type": "code",
   "execution_count": 59,
   "metadata": {
    "collapsed": false
   },
   "outputs": [
    {
     "data": {
      "text/plain": [
       "array([[ 2394,     0,     0,     0,     0,     0,     0],\n",
       "       [    0,  2394,     0,     0,     0,     0,     0],\n",
       "       [    0,     0,     0,     0,     0,   666,     0],\n",
       "       [    0,     0,     0,     0,     0,   655,     0],\n",
       "       [    0,     0,     0,     0,     0,   308,     0],\n",
       "       [    0,    10,     0,     0,     0, 43997,     0],\n",
       "       [    0,     0,     0,     0,     0,   833,     0]])"
      ]
     },
     "execution_count": 59,
     "metadata": {},
     "output_type": "execute_result"
    }
   ],
   "source": [
    "confusion_matrix(Y_train.flatten()[Y_train.flatten() != 0],\n",
    "                            predictions.argmax(axis=-1).flatten()[Y_train.flatten() != 0],\n",
    "                labels=range(1,len(labels)))"
   ]
  },
  {
   "cell_type": "code",
   "execution_count": 60,
   "metadata": {
    "collapsed": false
   },
   "outputs": [
    {
     "name": "stdout",
     "output_type": "stream",
     "text": [
      "             precision    recall  f1-score   support\n",
      "\n",
      "      <BOS>       1.00      1.00      1.00      2394\n",
      "      <EOS>       1.00      1.00      1.00      2394\n",
      "          B       0.00      0.00      0.00       666\n",
      "          E       0.00      0.00      0.00       655\n",
      "          I       0.00      0.00      0.00       308\n",
      "          O       0.95      1.00      0.97     44007\n",
      "          U       0.00      0.00      0.00       833\n",
      "\n",
      "avg / total       0.91      0.95      0.93     51257\n",
      "\n"
     ]
    },
    {
     "name": "stderr",
     "output_type": "stream",
     "text": [
      "/home/entity/anaconda2/lib/python2.7/site-packages/sklearn/metrics/classification.py:1074: UndefinedMetricWarning: Precision and F-score are ill-defined and being set to 0.0 in labels with no predicted samples.\n",
      "  'precision', 'predicted', average, warn_for)\n"
     ]
    }
   ],
   "source": [
    "print classification_report(Y_train.flatten()[Y_train.flatten() != 0],\n",
    "                            predictions.argmax(axis=-1).flatten()[Y_train.flatten() != 0],\n",
    "                labels=range(1,len(labels)), target_names=labels[1:])"
   ]
  },
  {
   "cell_type": "code",
   "execution_count": 61,
   "metadata": {
    "collapsed": false
   },
   "outputs": [
    {
     "data": {
      "text/html": [
       "<div>\n",
       "<table border=\"1\" class=\"dataframe\">\n",
       "  <thead>\n",
       "    <tr style=\"text-align: right;\">\n",
       "      <th></th>\n",
       "      <th>&lt;BOS&gt;</th>\n",
       "      <th>&lt;EOS&gt;</th>\n",
       "      <th>B</th>\n",
       "      <th>E</th>\n",
       "      <th>I</th>\n",
       "      <th>O</th>\n",
       "      <th>U</th>\n",
       "    </tr>\n",
       "  </thead>\n",
       "  <tbody>\n",
       "    <tr>\n",
       "      <th>&lt;BOS&gt;</th>\n",
       "      <td>2394</td>\n",
       "      <td>0</td>\n",
       "      <td>0</td>\n",
       "      <td>0</td>\n",
       "      <td>0</td>\n",
       "      <td>0</td>\n",
       "      <td>0</td>\n",
       "    </tr>\n",
       "    <tr>\n",
       "      <th>&lt;EOS&gt;</th>\n",
       "      <td>0</td>\n",
       "      <td>2394</td>\n",
       "      <td>0</td>\n",
       "      <td>0</td>\n",
       "      <td>0</td>\n",
       "      <td>0</td>\n",
       "      <td>0</td>\n",
       "    </tr>\n",
       "    <tr>\n",
       "      <th>B</th>\n",
       "      <td>0</td>\n",
       "      <td>0</td>\n",
       "      <td>0</td>\n",
       "      <td>0</td>\n",
       "      <td>0</td>\n",
       "      <td>666</td>\n",
       "      <td>0</td>\n",
       "    </tr>\n",
       "    <tr>\n",
       "      <th>E</th>\n",
       "      <td>0</td>\n",
       "      <td>0</td>\n",
       "      <td>0</td>\n",
       "      <td>0</td>\n",
       "      <td>0</td>\n",
       "      <td>655</td>\n",
       "      <td>0</td>\n",
       "    </tr>\n",
       "    <tr>\n",
       "      <th>I</th>\n",
       "      <td>0</td>\n",
       "      <td>0</td>\n",
       "      <td>0</td>\n",
       "      <td>0</td>\n",
       "      <td>0</td>\n",
       "      <td>308</td>\n",
       "      <td>0</td>\n",
       "    </tr>\n",
       "    <tr>\n",
       "      <th>O</th>\n",
       "      <td>0</td>\n",
       "      <td>10</td>\n",
       "      <td>0</td>\n",
       "      <td>0</td>\n",
       "      <td>0</td>\n",
       "      <td>43997</td>\n",
       "      <td>0</td>\n",
       "    </tr>\n",
       "    <tr>\n",
       "      <th>U</th>\n",
       "      <td>0</td>\n",
       "      <td>0</td>\n",
       "      <td>0</td>\n",
       "      <td>0</td>\n",
       "      <td>0</td>\n",
       "      <td>833</td>\n",
       "      <td>0</td>\n",
       "    </tr>\n",
       "  </tbody>\n",
       "</table>\n",
       "</div>"
      ],
      "text/plain": [
       "       <BOS>  <EOS>  B  E  I      O  U\n",
       "<BOS>   2394      0  0  0  0      0  0\n",
       "<EOS>      0   2394  0  0  0      0  0\n",
       "B          0      0  0  0  0    666  0\n",
       "E          0      0  0  0  0    655  0\n",
       "I          0      0  0  0  0    308  0\n",
       "O          0     10  0  0  0  43997  0\n",
       "U          0      0  0  0  0    833  0"
      ]
     },
     "execution_count": 61,
     "metadata": {},
     "output_type": "execute_result"
    }
   ],
   "source": [
    "df_cfr = confusion_matrix(Y_train.flatten()[Y_train.flatten() != 0],\n",
    "                            predictions.argmax(axis=-1).flatten()[Y_train.flatten() != 0],\n",
    "                labels=range(1,len(labels)))\n",
    "\n",
    "df_cfr = pd.DataFrame(df_cfr, index=labels[1:], columns=labels[1:])\n",
    "df_cfr"
   ]
  },
  {
   "cell_type": "code",
   "execution_count": 62,
   "metadata": {
    "collapsed": false
   },
   "outputs": [
    {
     "data": {
      "text/plain": [
       "<matplotlib.axes._subplots.AxesSubplot at 0x7f87c0292390>"
      ]
     },
     "execution_count": 62,
     "metadata": {},
     "output_type": "execute_result"
    },
    {
     "data": {
      "image/png": "[encoded data removed]",
      "text/plain": [
       "<matplotlib.figure.Figure at 0x7f87c0292d90>"
      ]
     },
     "metadata": {},
     "output_type": "display_data"
    }
   ],
   "source": [
    "sns.heatmap(df_cfr.divide(df_cfr.sum()))"
   ]
  },
  {
   "cell_type": "code",
   "execution_count": 63,
   "metadata": {
    "collapsed": false
   },
   "outputs": [
    {
     "data": {
      "text/html": [
       "<div>\n",
       "<table border=\"1\" class=\"dataframe\">\n",
       "  <thead>\n",
       "    <tr style=\"text-align: right;\">\n",
       "      <th></th>\n",
       "      <th>&lt;BOS&gt;</th>\n",
       "      <th>&lt;EOS&gt;</th>\n",
       "      <th>B</th>\n",
       "      <th>E</th>\n",
       "      <th>I</th>\n",
       "      <th>O</th>\n",
       "      <th>U</th>\n",
       "    </tr>\n",
       "  </thead>\n",
       "  <tbody>\n",
       "    <tr>\n",
       "      <th>&lt;BOS&gt;</th>\n",
       "      <td>1000</td>\n",
       "      <td>0</td>\n",
       "      <td>0</td>\n",
       "      <td>0</td>\n",
       "      <td>0</td>\n",
       "      <td>0</td>\n",
       "      <td>0</td>\n",
       "    </tr>\n",
       "    <tr>\n",
       "      <th>&lt;EOS&gt;</th>\n",
       "      <td>0</td>\n",
       "      <td>1000</td>\n",
       "      <td>0</td>\n",
       "      <td>0</td>\n",
       "      <td>0</td>\n",
       "      <td>0</td>\n",
       "      <td>0</td>\n",
       "    </tr>\n",
       "    <tr>\n",
       "      <th>B</th>\n",
       "      <td>0</td>\n",
       "      <td>0</td>\n",
       "      <td>0</td>\n",
       "      <td>0</td>\n",
       "      <td>0</td>\n",
       "      <td>270</td>\n",
       "      <td>0</td>\n",
       "    </tr>\n",
       "    <tr>\n",
       "      <th>E</th>\n",
       "      <td>0</td>\n",
       "      <td>0</td>\n",
       "      <td>0</td>\n",
       "      <td>0</td>\n",
       "      <td>0</td>\n",
       "      <td>259</td>\n",
       "      <td>0</td>\n",
       "    </tr>\n",
       "    <tr>\n",
       "      <th>I</th>\n",
       "      <td>0</td>\n",
       "      <td>0</td>\n",
       "      <td>0</td>\n",
       "      <td>0</td>\n",
       "      <td>0</td>\n",
       "      <td>204</td>\n",
       "      <td>0</td>\n",
       "    </tr>\n",
       "    <tr>\n",
       "      <th>O</th>\n",
       "      <td>0</td>\n",
       "      <td>21</td>\n",
       "      <td>0</td>\n",
       "      <td>0</td>\n",
       "      <td>0</td>\n",
       "      <td>15112</td>\n",
       "      <td>0</td>\n",
       "    </tr>\n",
       "    <tr>\n",
       "      <th>U</th>\n",
       "      <td>0</td>\n",
       "      <td>0</td>\n",
       "      <td>0</td>\n",
       "      <td>0</td>\n",
       "      <td>0</td>\n",
       "      <td>395</td>\n",
       "      <td>0</td>\n",
       "    </tr>\n",
       "  </tbody>\n",
       "</table>\n",
       "</div>"
      ],
      "text/plain": [
       "       <BOS>  <EOS>  B  E  I      O  U\n",
       "<BOS>   1000      0  0  0  0      0  0\n",
       "<EOS>      0   1000  0  0  0      0  0\n",
       "B          0      0  0  0  0    270  0\n",
       "E          0      0  0  0  0    259  0\n",
       "I          0      0  0  0  0    204  0\n",
       "O          0     21  0  0  0  15112  0\n",
       "U          0      0  0  0  0    395  0"
      ]
     },
     "execution_count": 63,
     "metadata": {},
     "output_type": "execute_result"
    }
   ],
   "source": [
    "df_cfr = confusion_matrix(Y_test.flatten()[Y_test.flatten() != 0],\n",
    "                            predictions_val.argmax(axis=-1).flatten()[Y_test.flatten() != 0],\n",
    "                labels=range(1,len(labels)))\n",
    "\n",
    "df_cfr = pd.DataFrame(df_cfr, index=labels[1:], columns=labels[1:])\n",
    "df_cfr"
   ]
  },
  {
   "cell_type": "code",
   "execution_count": 64,
   "metadata": {
    "collapsed": false
   },
   "outputs": [
    {
     "data": {
      "text/plain": [
       "<matplotlib.axes._subplots.AxesSubplot at 0x7f8837e17590>"
      ]
     },
     "execution_count": 64,
     "metadata": {},
     "output_type": "execute_result"
    },
    {
     "data": {
      "image/png": "[encoded data removed]",
      "text/plain": [
       "<matplotlib.figure.Figure at 0x7f87a71fbc90>"
      ]
     },
     "metadata": {},
     "output_type": "display_data"
    }
   ],
   "source": [
    "sns.heatmap(df_cfr.divide(df_cfr.sum()))"
   ]
  },
  {
   "cell_type": "code",
   "execution_count": 65,
   "metadata": {
    "collapsed": false
   },
   "outputs": [
    {
     "data": {
      "text/plain": [
       "<BOS>     1000\n",
       "<EOS>     1000\n",
       "B          270\n",
       "E          259\n",
       "I          204\n",
       "O        15133\n",
       "U          395\n",
       "dtype: int64"
      ]
     },
     "execution_count": 65,
     "metadata": {},
     "output_type": "execute_result"
    }
   ],
   "source": [
    "df_cfr.sum(axis=1)"
   ]
  },
  {
   "cell_type": "code",
   "execution_count": 66,
   "metadata": {
    "collapsed": false
   },
   "outputs": [
    {
     "data": {
      "text/plain": [
       "<matplotlib.axes._subplots.AxesSubplot at 0x7f8821e25390>"
      ]
     },
     "execution_count": 66,
     "metadata": {},
     "output_type": "execute_result"
    },
    {
     "data": {
      "image/png": "[encoded data removed]",
      "text/plain": [
       "<matplotlib.figure.Figure at 0x7f8837e08a90>"
      ]
     },
     "metadata": {},
     "output_type": "display_data"
    }
   ],
   "source": [
    "sns.heatmap(df_cfr.divide(df_cfr.sum(axis=1), axis=0))"
   ]
  },
  {
   "cell_type": "code",
   "execution_count": 70,
   "metadata": {
    "collapsed": true
   },
   "outputs": [],
   "source": [
    "def write_predictions(data, y_true, y_pred, labels, filename):\n",
    "    with open(filename, \"wb+\") as fp:\n",
    "        for i, seq in enumerate(data):\n",
    "            y = y_pred[i, (y_true[i, :]!= 0).flatten()]\n",
    "            for t, pred in zip(seq, y):\n",
    "                if t.tag in [\"<BOS>\", \"<EOS>\"]:\n",
    "                    continue\n",
    "                print_line = \"%s\\t%s\\t%s\" % (t.token, t.tag, labels[pred])\n",
    "                if t.token == \" \":\n",
    "                    print_line = \"%s\\t%s\\t%s\" % (\"<space>\", t.tag, labels[pred])\n",
    "                print >> fp, print_line\n"
   ]
  },
  {
   "cell_type": "code",
   "execution_count": 71,
   "metadata": {
    "collapsed": false
   },
   "outputs": [],
   "source": [
    "write_predictions(test, Y_test, predictions_val.argmax(axis=-1), labels, \"dev_notypes.word.tsv\")"
   ]
  },
  {
   "cell_type": "code",
   "execution_count": null,
   "metadata": {
    "collapsed": true
   },
   "outputs": [],
   "source": []
  }
 ],
 "metadata": {
  "kernelspec": {
   "display_name": "Python 2",
   "language": "python",
   "name": "python2"
  },
  "language_info": {
   "codemirror_mode": {
    "name": "ipython",
    "version": 2
   },
   "file_extension": ".py",
   "mimetype": "text/x-python",
   "name": "python",
   "nbconvert_exporter": "python",
   "pygments_lexer": "ipython2",
   "version": "2.7.12"
  }
 },
 "nbformat": 4,
 "nbformat_minor": 1
}
