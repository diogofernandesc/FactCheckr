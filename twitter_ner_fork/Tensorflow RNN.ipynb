{
 "cells": [
  {
   "cell_type": "code",
   "execution_count": 1,
   "metadata": {
    "collapsed": true
   },
   "outputs": [],
   "source": [
    "%matplotlib inline\n",
    "\n",
    "import tensorflow as tf\n",
    "import numpy as np\n",
    "\n",
    "import matplotlib.pyplot as plt\n",
    "import seaborn as sns\n",
    "\n",
    "from tqdm import tqdm, tqdm_notebook"
   ]
  },
  {
   "cell_type": "code",
   "execution_count": 2,
   "metadata": {
    "collapsed": false
   },
   "outputs": [],
   "source": [
    "sns.set_context(\"poster\")\n",
    "sns.set_style(\"ticks\")\n",
    "np.random.seed(1)"
   ]
  },
  {
   "cell_type": "code",
   "execution_count": 3,
   "metadata": {
    "collapsed": true
   },
   "outputs": [],
   "source": [
    "num_neurons = 10\n",
    "num_layers = 3\n",
    "max_length = 100\n",
    "input_size = 1\n",
    "output_size = 1"
   ]
  },
  {
   "cell_type": "code",
   "execution_count": 4,
   "metadata": {
    "collapsed": true
   },
   "outputs": [],
   "source": [
    "def variable_summaries(var, name):\n",
    "    \"\"\"Attach a lot of summaries to a Tensor.\"\"\"\n",
    "    with tf.name_scope('summaries'):\n",
    "        mean = tf.reduce_mean(var)\n",
    "        tf.scalar_summary('mean/' + name, mean)\n",
    "    with tf.name_scope('stddev'):\n",
    "        stddev = tf.sqrt(tf.reduce_sum(tf.square(var - mean)))\n",
    "    tf.scalar_summary('sttdev/' + name, stddev)\n",
    "    tf.scalar_summary('max/' + name, tf.reduce_max(var))\n",
    "    tf.scalar_summary('min/' + name, tf.reduce_min(var))\n",
    "    tf.histogram_summary(name, var)"
   ]
  },
  {
   "cell_type": "code",
   "execution_count": 5,
   "metadata": {
    "collapsed": true
   },
   "outputs": [],
   "source": [
    "class SequenceModel(object):\n",
    "    def __init__(self, num_neurons, num_layers, max_length, input_size, output_size):\n",
    "        self.num_neurons = num_neurons\n",
    "        self.num_layers = num_layers\n",
    "        self.max_length = max_length\n",
    "        self.input_size = input_size\n",
    "        self.output_size = output_size\n",
    "        self._gen_model()\n",
    "\n",
    "    def _gen_model(self):\n",
    "        self.dropout = tf.placeholder(tf.float32)\n",
    "        self.cell = tf.nn.rnn_cell.LSTMCell(self.num_neurons, state_is_tuple=True)\n",
    "        self.cell = tf.nn.rnn_cell.DropoutWrapper(self.cell, output_keep_prob=self.dropout)\n",
    "        self.cell = tf.nn.rnn_cell.MultiRNNCell([self.cell]*self.num_layers, state_is_tuple=True)\n",
    "        self.data = tf.placeholder(tf.float32, [None, self.max_length, self.input_size], name=\"input_data\")\n",
    "        self.weight = tf.Variable(tf.truncated_normal([self.num_neurons, self.output_size], stddev=0.01), name=\"weights\")\n",
    "        self.bias = tf.Variable(tf.constant(0.1, shape=[self.output_size]), name=\"bias\")\n",
    "        self.output, self.state = tf.nn.dynamic_rnn(self.cell, self.data, dtype=tf.float32)\n",
    "        print self.weight.get_shape(), self.bias.get_shape(), self.output.get_shape()\n",
    "        self.predictions = tf.matmul(tf.reshape(self.output, [-1, self.num_neurons]), self.weight) + self.bias\n",
    "        self.predictions = tf.reshape(self.predictions, [-1, self.max_length, self.output_size])\n",
    "        print self.output.get_shape(), self.predictions.get_shape()\n",
    "        self.labels = tf.placeholder(tf.float32, [None, self.max_length, self.output_size])\n",
    "        self.cost = tf.reduce_mean(tf.reduce_sum(tf.square(self.labels-self.predictions), reduction_indices=[1]))\n",
    "        self.optimizer = tf.train.RMSPropOptimizer(0.01).minimize(self.cost)\n",
    "    "
   ]
  },
  {
   "cell_type": "code",
   "execution_count": 6,
   "metadata": {
    "collapsed": false
   },
   "outputs": [],
   "source": [
    "tf.python.framework.ops.reset_default_graph()\n",
    "sess = tf.InteractiveSession()"
   ]
  },
  {
   "cell_type": "code",
   "execution_count": 7,
   "metadata": {
    "collapsed": false,
    "scrolled": false
   },
   "outputs": [
    {
     "name": "stdout",
     "output_type": "stream",
     "text": [
      "(10, 1) (1,) (?, 100, 10)\n",
      "(?, 100, 10) (?, 100, 1)\n"
     ]
    }
   ],
   "source": [
    "model = SequenceModel(num_neurons, num_layers, max_length, input_size, output_size)"
   ]
  },
  {
   "cell_type": "code",
   "execution_count": 8,
   "metadata": {
    "collapsed": true
   },
   "outputs": [],
   "source": [
    "sess.run(tf.initialize_all_variables())"
   ]
  },
  {
   "cell_type": "code",
   "execution_count": 32,
   "metadata": {
    "collapsed": false
   },
   "outputs": [
    {
     "data": {
      "text/plain": [
       "((1, 100, 1), (1, 100, 1))"
      ]
     },
     "execution_count": 32,
     "metadata": {},
     "output_type": "execute_result"
    }
   ],
   "source": [
    "N = 1\n",
    "x = np.array([np.linspace(-2, 2, num=max_length)[:, np.newaxis] for i in xrange(N)])\n",
    "y = np.exp(x)\n",
    "x.shape, y.shape"
   ]
  },
  {
   "cell_type": "code",
   "execution_count": 33,
   "metadata": {
    "collapsed": false
   },
   "outputs": [
    {
     "data": {
      "image/png": "[encoded data removed]",
      "text/plain": [
       "<matplotlib.figure.Figure at 0x7f2d08311c90>"
      ]
     },
     "metadata": {},
     "output_type": "display_data"
    }
   ],
   "source": [
    "fig, ax = plt.subplots(2,5, sharex=True, sharey=False, figsize=(15, 6))\n",
    "ax = ax.flatten()\n",
    "for i in xrange(x.shape[0]):\n",
    "    ax[i].plot(x[i, :, 0], y[i, :, 0], \"bo\")\n",
    "    \n",
    "fig.tight_layout()"
   ]
  },
  {
   "cell_type": "code",
   "execution_count": 34,
   "metadata": {
    "collapsed": false
   },
   "outputs": [
    {
     "name": "stdout",
     "output_type": "stream",
     "text": [
      "Cost: 243.630\n",
      "Cost: 281.543\n",
      "Cost: 191.777\n",
      "Cost: 165.435\n",
      "Cost: 151.189\n",
      "Cost: 208.458\n",
      "Cost: 236.159\n",
      "Cost: 165.464\n",
      "Cost: 197.491\n",
      "Cost: 231.745\n",
      "Cost: 245.712\n",
      "Cost: 280.075\n",
      "Cost: 189.489\n",
      "Cost: 258.715\n",
      "Cost: 212.815\n",
      "Cost: 213.596\n",
      "Cost: 175.838\n",
      "Cost: 208.578\n",
      "Cost: 207.583\n",
      "Cost: 208.471\n",
      "Cost: 223.685\n",
      "Cost: 228.321\n",
      "Cost: 166.584\n",
      "Cost: 218.225\n",
      "Cost: 146.425\n",
      "Cost: 210.301\n",
      "Cost: 181.365\n",
      "Cost: 264.536\n",
      "Cost: 177.047\n",
      "Cost: 134.752\n",
      "Cost: 259.609\n",
      "Cost: 261.562\n",
      "Cost: 199.340\n",
      "Cost: 216.860\n",
      "Cost: 241.115\n",
      "Cost: 200.299\n",
      "Cost: 180.526\n",
      "Cost: 213.483\n",
      "Cost: 156.912\n",
      "Cost: 209.787\n",
      "Cost: 210.995\n",
      "Cost: 204.536\n",
      "Cost: 222.581\n",
      "Cost: 220.950\n",
      "Cost: 192.564\n",
      "Cost: 167.316\n",
      "Cost: 223.811\n",
      "Cost: 280.984\n",
      "Cost: 286.348\n",
      "Cost: 153.858\n",
      "Cost: 210.456\n",
      "Cost: 236.955\n",
      "Cost: 236.724\n",
      "Cost: 178.825\n",
      "Cost: 266.192\n",
      "Cost: 119.447\n",
      "Cost: 175.057\n",
      "Cost: 209.548\n",
      "Cost: 241.940\n",
      "Cost: 160.880\n",
      "Cost: 270.824\n",
      "Cost: 195.387\n",
      "Cost: 191.301\n",
      "Cost: 205.250\n",
      "Cost: 239.187\n",
      "Cost: 219.441\n",
      "Cost: 168.914\n",
      "Cost: 189.310\n",
      "Cost: 188.218\n",
      "Cost: 217.161\n",
      "Cost: 176.616\n",
      "Cost: 214.811\n",
      "Cost: 175.277\n",
      "Cost: 220.515\n",
      "Cost: 186.706\n",
      "Cost: 252.329\n",
      "Cost: 180.589\n",
      "Cost: 191.276\n",
      "Cost: 217.249\n",
      "Cost: 200.937\n",
      "Cost: 197.251\n",
      "Cost: 208.918\n",
      "Cost: 272.913\n",
      "Cost: 203.065\n",
      "Cost: 215.984\n",
      "Cost: 198.326\n",
      "Cost: 188.218\n",
      "Cost: 307.453\n",
      "Cost: 183.889\n",
      "Cost: 168.911\n",
      "Cost: 190.859\n",
      "Cost: 201.625\n",
      "Cost: 250.165\n",
      "Cost: 153.570\n",
      "Cost: 237.959\n",
      "Cost: 203.081\n",
      "Cost: 209.177\n",
      "Cost: 143.373\n",
      "Cost: 188.683\n",
      "Cost: 212.269\n",
      "100/|/100%|| 100/100 [00:00<00:00,  9.97it/s]\n",
      "212.269\n"
     ]
    }
   ],
   "source": [
    "with tqdm_notebook(total=100, desc=\"Cost\") as pbar:\n",
    "    for i in xrange(100):\n",
    "        outputs = sess.run([model.optimizer, model.cost], {model.data: x,\n",
    "                                                           model.labels: y,\n",
    "                                                           model.dropout: 0.1})\n",
    "        pbar.update(1)\n",
    "        pbar.write(\"Cost: %.3f\" % outputs[1])\n",
    "print outputs[1]"
   ]
  },
  {
   "cell_type": "code",
   "execution_count": 35,
   "metadata": {
    "collapsed": false
   },
   "outputs": [
    {
     "name": "stdout",
     "output_type": "stream",
     "text": [
      "212.269\n"
     ]
    }
   ],
   "source": [
    "print outputs[1]\n",
    "prediction = sess.run(model.predictions, {model.data: x, model.labels: y, model.dropout: 0.1})"
   ]
  },
  {
   "cell_type": "code",
   "execution_count": 36,
   "metadata": {
    "collapsed": false
   },
   "outputs": [
    {
     "data": {
      "text/plain": [
       "(1, 100, 1)"
      ]
     },
     "execution_count": 36,
     "metadata": {},
     "output_type": "execute_result"
    }
   ],
   "source": [
    "prediction.shape"
   ]
  },
  {
   "cell_type": "code",
   "execution_count": 37,
   "metadata": {
    "collapsed": false
   },
   "outputs": [
    {
     "data": {
      "image/png": "[encoded data removed]",
      "text/plain": [
       "<matplotlib.figure.Figure at 0x7f2d08311b50>"
      ]
     },
     "metadata": {},
     "output_type": "display_data"
    }
   ],
   "source": [
    "fig, ax = plt.subplots(2,5, sharex=True, sharey=False, figsize=(15, 6))\n",
    "ax = ax.flatten()\n",
    "for i in xrange(x.shape[0]):\n",
    "    ax[i].plot(x[i, :, 0], y[i, :, 0], \"b-\")\n",
    "    ax[i].plot(x[i, :, 0], prediction[i, :, 0], \"r--\")\n",
    "    \n",
    "fig.tight_layout()"
   ]
  },
  {
   "cell_type": "code",
   "execution_count": null,
   "metadata": {
    "collapsed": true
   },
   "outputs": [],
   "source": []
  }
 ],
 "metadata": {
  "kernelspec": {
   "display_name": "Python 2",
   "language": "python",
   "name": "python2"
  },
  "language_info": {
   "codemirror_mode": {
    "name": "ipython",
    "version": 2
   },
   "file_extension": ".py",
   "mimetype": "text/x-python",
   "name": "python",
   "nbconvert_exporter": "python",
   "pygments_lexer": "ipython2",
   "version": "2.7.12"
  }
 },
 "nbformat": 4,
 "nbformat_minor": 1
}
