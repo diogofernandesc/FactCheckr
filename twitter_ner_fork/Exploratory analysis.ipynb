{
 "cells": [
  {
   "cell_type": "code",
   "execution_count": 1,
   "metadata": {
    "collapsed": true
   },
   "outputs": [],
   "source": [
    "%matplotlib inline\n",
    "import numpy as np\n",
    "import pandas as pd\n",
    "\n",
    "import matplotlib.pyplot as plt\n",
    "import seaborn as sns\n",
    "\n",
    "from collections import namedtuple, defaultdict, Counter, OrderedDict"
   ]
  },
  {
   "cell_type": "code",
   "execution_count": 2,
   "metadata": {
    "collapsed": true
   },
   "outputs": [],
   "source": [
    "sns.set_context(\"poster\")\n",
    "sns.set_style(\"ticks\")"
   ]
  },
  {
   "cell_type": "code",
   "execution_count": 3,
   "metadata": {
    "collapsed": true
   },
   "outputs": [],
   "source": [
    "DATA_DIR=\"data/data/\"\n",
    "CLEANED_DIR=\"data/cleaned/\"\n",
    "\n",
    "Tag = namedtuple(\"Tag\", [\"token\", \"tag\"])\n",
    "\n",
    "def load_sequences(filename, sep=\"\\t\", notypes=False):\n",
    "    tag_count = defaultdict(int)\n",
    "    sequences = []\n",
    "    with open(filename) as fp:\n",
    "        seq = []\n",
    "        for line in fp:\n",
    "            line = line.strip()\n",
    "            if line:\n",
    "                line = line.split(sep)\n",
    "                if notypes:\n",
    "                    line[1] = line[1][0]\n",
    "                tag_count[line[1]] += 1\n",
    "                #print line\n",
    "                seq.append(Tag(*line))\n",
    "            else:\n",
    "                sequences.append(seq)\n",
    "                seq = []\n",
    "        if seq:\n",
    "            sequences.append(seq)\n",
    "    return sequences, tag_count\n",
    "\n",
    "def count_phrases(sequences, ptype=\"movie\"):\n",
    "    phrase_counts = defaultdict(int)\n",
    "    check_tag = ptype\n",
    "    for seq in sequences:\n",
    "        phrase = \"\"\n",
    "        for tag in seq:\n",
    "            if not phrase and tag.tag == \"B-%s\" % check_tag:\n",
    "                phrase = tag.token\n",
    "                continue\n",
    "            if tag.tag == \"I-%s\" % check_tag:\n",
    "                phrase += \" %s\" % tag.token\n",
    "                continue\n",
    "            if phrase:\n",
    "                phrase_counts[phrase] += 1\n",
    "                phrase = \"\"\n",
    "    return phrase_counts\n",
    "\n",
    "def count_phrases_lengths(sequences):\n",
    "    lengths = []\n",
    "    for seq in sequences:\n",
    "        phrase_len = 0\n",
    "        for tag in seq:\n",
    "            if tag.tag[0] == \"B\":\n",
    "                if phrase_len == 0:\n",
    "                    phrase_len += 1\n",
    "                else:\n",
    "                    lengths.append(phrase_len)\n",
    "                    phrase_len = 1\n",
    "                continue\n",
    "            if tag.tag[0] == \"I\":\n",
    "                phrase_len += 1\n",
    "                continue\n",
    "            if phrase_len:\n",
    "                lengths.append(phrase_len)\n",
    "                phrase_len = 0\n",
    "        if phrase_len:\n",
    "            lengths.append(phrase_len)\n",
    "            phrase_len = 0\n",
    "    return lengths\n",
    "\n",
    "\n"
   ]
  },
  {
   "cell_type": "code",
   "execution_count": 4,
   "metadata": {
    "collapsed": true
   },
   "outputs": [],
   "source": [
    "sequences, tag_count = load_sequences(\"data/cleaned/train.tsv\", sep=\"\\t\")"
   ]
  },
  {
   "cell_type": "code",
   "execution_count": 5,
   "metadata": {
    "collapsed": true
   },
   "outputs": [],
   "source": [
    "df = pd.DataFrame(sum(sequences, []))"
   ]
  },
  {
   "cell_type": "code",
   "execution_count": 6,
   "metadata": {
    "collapsed": false
   },
   "outputs": [
    {
     "data": {
      "text/html": [
       "<div>\n",
       "<table border=\"1\" class=\"dataframe\">\n",
       "  <thead>\n",
       "    <tr style=\"text-align: right;\">\n",
       "      <th></th>\n",
       "      <th>token</th>\n",
       "      <th>tag</th>\n",
       "    </tr>\n",
       "  </thead>\n",
       "  <tbody>\n",
       "    <tr>\n",
       "      <th>0</th>\n",
       "      <td>@SammieLynnsMom</td>\n",
       "      <td>O</td>\n",
       "    </tr>\n",
       "    <tr>\n",
       "      <th>1</th>\n",
       "      <td>@tg10781</td>\n",
       "      <td>O</td>\n",
       "    </tr>\n",
       "    <tr>\n",
       "      <th>2</th>\n",
       "      <td>they</td>\n",
       "      <td>O</td>\n",
       "    </tr>\n",
       "    <tr>\n",
       "      <th>3</th>\n",
       "      <td>will</td>\n",
       "      <td>O</td>\n",
       "    </tr>\n",
       "    <tr>\n",
       "      <th>4</th>\n",
       "      <td>be</td>\n",
       "      <td>O</td>\n",
       "    </tr>\n",
       "  </tbody>\n",
       "</table>\n",
       "</div>"
      ],
      "text/plain": [
       "             token tag\n",
       "0  @SammieLynnsMom   O\n",
       "1         @tg10781   O\n",
       "2             they   O\n",
       "3             will   O\n",
       "4               be   O"
      ]
     },
     "execution_count": 6,
     "metadata": {},
     "output_type": "execute_result"
    }
   ],
   "source": [
    "df.head()"
   ]
  },
  {
   "cell_type": "code",
   "execution_count": 7,
   "metadata": {
    "collapsed": false
   },
   "outputs": [
    {
     "data": {
      "text/plain": [
       "(46469, 2)"
      ]
     },
     "execution_count": 7,
     "metadata": {},
     "output_type": "execute_result"
    }
   ],
   "source": [
    "df.shape"
   ]
  },
  {
   "cell_type": "code",
   "execution_count": 8,
   "metadata": {
    "collapsed": false
   },
   "outputs": [
    {
     "data": {
      "text/plain": [
       "<matplotlib.axes._subplots.AxesSubplot at 0x7f9983b0d750>"
      ]
     },
     "execution_count": 8,
     "metadata": {},
     "output_type": "execute_result"
    },
    {
     "data": {
      "image/png": "[encoded data removed]",
      "text/plain": [
       "<matplotlib.figure.Figure at 0x7f9983b367d0>"
      ]
     },
     "metadata": {},
     "output_type": "display_data"
    }
   ],
   "source": [
    "df[df.tag != \"O\"][\"tag\"].value_counts().plot(kind=\"bar\")"
   ]
  },
  {
   "cell_type": "code",
   "execution_count": 9,
   "metadata": {
    "collapsed": true
   },
   "outputs": [],
   "source": [
    "lengths = count_phrases_lengths(sequences)"
   ]
  },
  {
   "cell_type": "code",
   "execution_count": 10,
   "metadata": {
    "collapsed": false
   },
   "outputs": [
    {
     "data": {
      "text/plain": [
       "<matplotlib.axes._subplots.AxesSubplot at 0x7f99815ef190>"
      ]
     },
     "execution_count": 10,
     "metadata": {},
     "output_type": "execute_result"
    },
    {
     "data": {
      "image/png": "[encoded data removed]",
      "text/plain": [
       "<matplotlib.figure.Figure at 0x7f99815fc8d0>"
      ]
     },
     "metadata": {},
     "output_type": "display_data"
    }
   ],
   "source": [
    "pd.DataFrame(Counter(lengths).items(), columns=[\"phrase_length\", \"counts\"]).plot(x=\"phrase_length\", y=\"counts\", kind=\"bar\")"
   ]
  },
  {
   "cell_type": "markdown",
   "metadata": {
    "collapsed": true
   },
   "source": [
    "## BIEOU"
   ]
  },
  {
   "cell_type": "code",
   "execution_count": 11,
   "metadata": {
    "collapsed": true
   },
   "outputs": [],
   "source": [
    "sequences, tag_count = load_sequences(\"data/cleaned/train.BIEOU.tsv\", sep=\"\\t\")"
   ]
  },
  {
   "cell_type": "code",
   "execution_count": 12,
   "metadata": {
    "collapsed": false
   },
   "outputs": [
    {
     "name": "stdout",
     "output_type": "stream",
     "text": [
      "(46469, 2)\n"
     ]
    },
    {
     "data": {
      "text/html": [
       "<div>\n",
       "<table border=\"1\" class=\"dataframe\">\n",
       "  <thead>\n",
       "    <tr style=\"text-align: right;\">\n",
       "      <th></th>\n",
       "      <th>token</th>\n",
       "      <th>tag</th>\n",
       "    </tr>\n",
       "  </thead>\n",
       "  <tbody>\n",
       "    <tr>\n",
       "      <th>0</th>\n",
       "      <td>@SammieLynnsMom</td>\n",
       "      <td>O</td>\n",
       "    </tr>\n",
       "    <tr>\n",
       "      <th>1</th>\n",
       "      <td>@tg10781</td>\n",
       "      <td>O</td>\n",
       "    </tr>\n",
       "    <tr>\n",
       "      <th>2</th>\n",
       "      <td>they</td>\n",
       "      <td>O</td>\n",
       "    </tr>\n",
       "    <tr>\n",
       "      <th>3</th>\n",
       "      <td>will</td>\n",
       "      <td>O</td>\n",
       "    </tr>\n",
       "    <tr>\n",
       "      <th>4</th>\n",
       "      <td>be</td>\n",
       "      <td>O</td>\n",
       "    </tr>\n",
       "  </tbody>\n",
       "</table>\n",
       "</div>"
      ],
      "text/plain": [
       "             token tag\n",
       "0  @SammieLynnsMom   O\n",
       "1         @tg10781   O\n",
       "2             they   O\n",
       "3             will   O\n",
       "4               be   O"
      ]
     },
     "execution_count": 12,
     "metadata": {},
     "output_type": "execute_result"
    }
   ],
   "source": [
    "df = pd.DataFrame(sum(sequences, []))\n",
    "print df.shape\n",
    "df.head()"
   ]
  },
  {
   "cell_type": "code",
   "execution_count": 13,
   "metadata": {
    "collapsed": false
   },
   "outputs": [
    {
     "data": {
      "text/plain": [
       "<matplotlib.axes._subplots.AxesSubplot at 0x7f9984528150>"
      ]
     },
     "execution_count": 13,
     "metadata": {},
     "output_type": "execute_result"
    },
    {
     "data": {
      "image/png": "[encoded data removed]",
      "text/plain": [
       "<matplotlib.figure.Figure at 0x7f9981568c90>"
      ]
     },
     "metadata": {},
     "output_type": "display_data"
    }
   ],
   "source": [
    "df[df.tag != \"O\"][\"tag\"].value_counts().plot(kind=\"bar\")"
   ]
  },
  {
   "cell_type": "code",
   "execution_count": 14,
   "metadata": {
    "collapsed": false
   },
   "outputs": [
    {
     "data": {
      "text/html": [
       "<div>\n",
       "<table border=\"1\" class=\"dataframe\">\n",
       "  <thead>\n",
       "    <tr style=\"text-align: right;\">\n",
       "      <th></th>\n",
       "      <th>index</th>\n",
       "      <th>tag</th>\n",
       "      <th>Boundary</th>\n",
       "      <th>Class</th>\n",
       "    </tr>\n",
       "  </thead>\n",
       "  <tbody>\n",
       "    <tr>\n",
       "      <th>0</th>\n",
       "      <td>U-person</td>\n",
       "      <td>250</td>\n",
       "      <td>U</td>\n",
       "      <td>person</td>\n",
       "    </tr>\n",
       "    <tr>\n",
       "      <th>1</th>\n",
       "      <td>U-geo-loc</td>\n",
       "      <td>232</td>\n",
       "      <td>U</td>\n",
       "      <td>geo-loc</td>\n",
       "    </tr>\n",
       "    <tr>\n",
       "      <th>2</th>\n",
       "      <td>B-person</td>\n",
       "      <td>199</td>\n",
       "      <td>B</td>\n",
       "      <td>person</td>\n",
       "    </tr>\n",
       "    <tr>\n",
       "      <th>3</th>\n",
       "      <td>E-person</td>\n",
       "      <td>197</td>\n",
       "      <td>E</td>\n",
       "      <td>person</td>\n",
       "    </tr>\n",
       "    <tr>\n",
       "      <th>4</th>\n",
       "      <td>I-other</td>\n",
       "      <td>164</td>\n",
       "      <td>I</td>\n",
       "      <td>other</td>\n",
       "    </tr>\n",
       "    <tr>\n",
       "      <th>5</th>\n",
       "      <td>B-other</td>\n",
       "      <td>157</td>\n",
       "      <td>B</td>\n",
       "      <td>other</td>\n",
       "    </tr>\n",
       "    <tr>\n",
       "      <th>6</th>\n",
       "      <td>E-other</td>\n",
       "      <td>156</td>\n",
       "      <td>E</td>\n",
       "      <td>other</td>\n",
       "    </tr>\n",
       "    <tr>\n",
       "      <th>7</th>\n",
       "      <td>U-company</td>\n",
       "      <td>144</td>\n",
       "      <td>U</td>\n",
       "      <td>company</td>\n",
       "    </tr>\n",
       "    <tr>\n",
       "      <th>8</th>\n",
       "      <td>B-facility</td>\n",
       "      <td>79</td>\n",
       "      <td>B</td>\n",
       "      <td>facility</td>\n",
       "    </tr>\n",
       "    <tr>\n",
       "      <th>9</th>\n",
       "      <td>E-facility</td>\n",
       "      <td>78</td>\n",
       "      <td>E</td>\n",
       "      <td>facility</td>\n",
       "    </tr>\n",
       "    <tr>\n",
       "      <th>10</th>\n",
       "      <td>U-other</td>\n",
       "      <td>68</td>\n",
       "      <td>U</td>\n",
       "      <td>other</td>\n",
       "    </tr>\n",
       "    <tr>\n",
       "      <th>11</th>\n",
       "      <td>U-product</td>\n",
       "      <td>49</td>\n",
       "      <td>U</td>\n",
       "      <td>product</td>\n",
       "    </tr>\n",
       "    <tr>\n",
       "      <th>12</th>\n",
       "      <td>B-product</td>\n",
       "      <td>49</td>\n",
       "      <td>B</td>\n",
       "      <td>product</td>\n",
       "    </tr>\n",
       "    <tr>\n",
       "      <th>13</th>\n",
       "      <td>E-product</td>\n",
       "      <td>48</td>\n",
       "      <td>E</td>\n",
       "      <td>product</td>\n",
       "    </tr>\n",
       "    <tr>\n",
       "      <th>14</th>\n",
       "      <td>B-geo-loc</td>\n",
       "      <td>45</td>\n",
       "      <td>B</td>\n",
       "      <td>geo-loc</td>\n",
       "    </tr>\n",
       "    <tr>\n",
       "      <th>15</th>\n",
       "      <td>E-geo-loc</td>\n",
       "      <td>40</td>\n",
       "      <td>E</td>\n",
       "      <td>geo-loc</td>\n",
       "    </tr>\n",
       "    <tr>\n",
       "      <th>16</th>\n",
       "      <td>B-musicartist</td>\n",
       "      <td>37</td>\n",
       "      <td>B</td>\n",
       "      <td>musicartist</td>\n",
       "    </tr>\n",
       "    <tr>\n",
       "      <th>17</th>\n",
       "      <td>E-musicartist</td>\n",
       "      <td>37</td>\n",
       "      <td>E</td>\n",
       "      <td>musicartist</td>\n",
       "    </tr>\n",
       "    <tr>\n",
       "      <th>18</th>\n",
       "      <td>I-product</td>\n",
       "      <td>31</td>\n",
       "      <td>I</td>\n",
       "      <td>product</td>\n",
       "    </tr>\n",
       "    <tr>\n",
       "      <th>19</th>\n",
       "      <td>B-movie</td>\n",
       "      <td>29</td>\n",
       "      <td>B</td>\n",
       "      <td>movie</td>\n",
       "    </tr>\n",
       "    <tr>\n",
       "      <th>20</th>\n",
       "      <td>U-sportsteam</td>\n",
       "      <td>29</td>\n",
       "      <td>U</td>\n",
       "      <td>sportsteam</td>\n",
       "    </tr>\n",
       "    <tr>\n",
       "      <th>21</th>\n",
       "      <td>E-movie</td>\n",
       "      <td>29</td>\n",
       "      <td>E</td>\n",
       "      <td>movie</td>\n",
       "    </tr>\n",
       "    <tr>\n",
       "      <th>22</th>\n",
       "      <td>B-company</td>\n",
       "      <td>27</td>\n",
       "      <td>B</td>\n",
       "      <td>company</td>\n",
       "    </tr>\n",
       "    <tr>\n",
       "      <th>23</th>\n",
       "      <td>E-company</td>\n",
       "      <td>27</td>\n",
       "      <td>E</td>\n",
       "      <td>company</td>\n",
       "    </tr>\n",
       "    <tr>\n",
       "      <th>24</th>\n",
       "      <td>U-facility</td>\n",
       "      <td>26</td>\n",
       "      <td>U</td>\n",
       "      <td>facility</td>\n",
       "    </tr>\n",
       "    <tr>\n",
       "      <th>25</th>\n",
       "      <td>I-facility</td>\n",
       "      <td>26</td>\n",
       "      <td>I</td>\n",
       "      <td>facility</td>\n",
       "    </tr>\n",
       "    <tr>\n",
       "      <th>26</th>\n",
       "      <td>I-musicartist</td>\n",
       "      <td>24</td>\n",
       "      <td>I</td>\n",
       "      <td>musicartist</td>\n",
       "    </tr>\n",
       "    <tr>\n",
       "      <th>27</th>\n",
       "      <td>E-tvshow</td>\n",
       "      <td>22</td>\n",
       "      <td>E</td>\n",
       "      <td>tvshow</td>\n",
       "    </tr>\n",
       "    <tr>\n",
       "      <th>28</th>\n",
       "      <td>B-tvshow</td>\n",
       "      <td>22</td>\n",
       "      <td>B</td>\n",
       "      <td>tvshow</td>\n",
       "    </tr>\n",
       "    <tr>\n",
       "      <th>29</th>\n",
       "      <td>B-sportsteam</td>\n",
       "      <td>22</td>\n",
       "      <td>B</td>\n",
       "      <td>sportsteam</td>\n",
       "    </tr>\n",
       "    <tr>\n",
       "      <th>30</th>\n",
       "      <td>E-sportsteam</td>\n",
       "      <td>21</td>\n",
       "      <td>E</td>\n",
       "      <td>sportsteam</td>\n",
       "    </tr>\n",
       "    <tr>\n",
       "      <th>31</th>\n",
       "      <td>U-musicartist</td>\n",
       "      <td>18</td>\n",
       "      <td>U</td>\n",
       "      <td>musicartist</td>\n",
       "    </tr>\n",
       "    <tr>\n",
       "      <th>32</th>\n",
       "      <td>I-person</td>\n",
       "      <td>18</td>\n",
       "      <td>I</td>\n",
       "      <td>person</td>\n",
       "    </tr>\n",
       "    <tr>\n",
       "      <th>33</th>\n",
       "      <td>I-movie</td>\n",
       "      <td>17</td>\n",
       "      <td>I</td>\n",
       "      <td>movie</td>\n",
       "    </tr>\n",
       "    <tr>\n",
       "      <th>34</th>\n",
       "      <td>U-tvshow</td>\n",
       "      <td>12</td>\n",
       "      <td>U</td>\n",
       "      <td>tvshow</td>\n",
       "    </tr>\n",
       "    <tr>\n",
       "      <th>35</th>\n",
       "      <td>I-tvshow</td>\n",
       "      <td>9</td>\n",
       "      <td>I</td>\n",
       "      <td>tvshow</td>\n",
       "    </tr>\n",
       "    <tr>\n",
       "      <th>36</th>\n",
       "      <td>I-company</td>\n",
       "      <td>9</td>\n",
       "      <td>I</td>\n",
       "      <td>company</td>\n",
       "    </tr>\n",
       "    <tr>\n",
       "      <th>37</th>\n",
       "      <td>I-geo-loc</td>\n",
       "      <td>8</td>\n",
       "      <td>I</td>\n",
       "      <td>geo-loc</td>\n",
       "    </tr>\n",
       "    <tr>\n",
       "      <th>38</th>\n",
       "      <td>U-movie</td>\n",
       "      <td>5</td>\n",
       "      <td>U</td>\n",
       "      <td>movie</td>\n",
       "    </tr>\n",
       "    <tr>\n",
       "      <th>39</th>\n",
       "      <td>I-sportsteam</td>\n",
       "      <td>2</td>\n",
       "      <td>I</td>\n",
       "      <td>sportsteam</td>\n",
       "    </tr>\n",
       "  </tbody>\n",
       "</table>\n",
       "</div>"
      ],
      "text/plain": [
       "            index  tag Boundary        Class\n",
       "0        U-person  250        U       person\n",
       "1       U-geo-loc  232        U      geo-loc\n",
       "2        B-person  199        B       person\n",
       "3        E-person  197        E       person\n",
       "4         I-other  164        I        other\n",
       "5         B-other  157        B        other\n",
       "6         E-other  156        E        other\n",
       "7       U-company  144        U      company\n",
       "8      B-facility   79        B     facility\n",
       "9      E-facility   78        E     facility\n",
       "10        U-other   68        U        other\n",
       "11      U-product   49        U      product\n",
       "12      B-product   49        B      product\n",
       "13      E-product   48        E      product\n",
       "14      B-geo-loc   45        B      geo-loc\n",
       "15      E-geo-loc   40        E      geo-loc\n",
       "16  B-musicartist   37        B  musicartist\n",
       "17  E-musicartist   37        E  musicartist\n",
       "18      I-product   31        I      product\n",
       "19        B-movie   29        B        movie\n",
       "20   U-sportsteam   29        U   sportsteam\n",
       "21        E-movie   29        E        movie\n",
       "22      B-company   27        B      company\n",
       "23      E-company   27        E      company\n",
       "24     U-facility   26        U     facility\n",
       "25     I-facility   26        I     facility\n",
       "26  I-musicartist   24        I  musicartist\n",
       "27       E-tvshow   22        E       tvshow\n",
       "28       B-tvshow   22        B       tvshow\n",
       "29   B-sportsteam   22        B   sportsteam\n",
       "30   E-sportsteam   21        E   sportsteam\n",
       "31  U-musicartist   18        U  musicartist\n",
       "32       I-person   18        I       person\n",
       "33        I-movie   17        I        movie\n",
       "34       U-tvshow   12        U       tvshow\n",
       "35       I-tvshow    9        I       tvshow\n",
       "36      I-company    9        I      company\n",
       "37      I-geo-loc    8        I      geo-loc\n",
       "38        U-movie    5        U        movie\n",
       "39   I-sportsteam    2        I   sportsteam"
      ]
     },
     "execution_count": 14,
     "metadata": {},
     "output_type": "execute_result"
    }
   ],
   "source": [
    "df_t = df[df.tag != \"O\"][\"tag\"].value_counts().reset_index()\n",
    "df_t[[\"Boundary\", \"Class\"]] = df_t[\"index\"].str.split(\"-\", 1, expand=True)\n",
    "df_t"
   ]
  },
  {
   "cell_type": "code",
   "execution_count": 15,
   "metadata": {
    "collapsed": false
   },
   "outputs": [
    {
     "data": {
      "text/plain": [
       "<seaborn.axisgrid.FacetGrid at 0x7f9983f4c750>"
      ]
     },
     "execution_count": 15,
     "metadata": {},
     "output_type": "execute_result"
    },
    {
     "data": {
      "image/png": "[encoded data removed]",
      "text/plain": [
       "<matplotlib.figure.Figure at 0x7f9983e9a610>"
      ]
     },
     "metadata": {},
     "output_type": "display_data"
    }
   ],
   "source": [
    "sns.factorplot(x=\"Boundary\", y=\"tag\", col=\"Class\", data=df_t, col_wrap=3, kind=\"bar\")"
   ]
  },
  {
   "cell_type": "markdown",
   "metadata": {
    "collapsed": true
   },
   "source": [
    "## Hashtags and Mentions"
   ]
  },
  {
   "cell_type": "code",
   "execution_count": 16,
   "metadata": {
    "collapsed": true
   },
   "outputs": [],
   "source": [
    "import regex as re"
   ]
  },
  {
   "cell_type": "code",
   "execution_count": 17,
   "metadata": {
    "collapsed": false
   },
   "outputs": [],
   "source": [
    "URL_REGEX = re.compile(r'^http[s]?://')\n",
    "assert URL_REGEX.match(\"http://Google.com\") is not None\n",
    "assert URL_REGEX.match(\"https://Google.com\") is not None\n",
    "assert URL_REGEX.match(\"abchttps://Google.com\") is None"
   ]
  },
  {
   "cell_type": "code",
   "execution_count": 18,
   "metadata": {
    "collapsed": false
   },
   "outputs": [],
   "source": [
    "REPEATED_CHAR_REGEX=re.compile(r'^[\\.\\,!\\?\"\\':;_\\-]{2,}$')\n",
    "assert REPEATED_CHAR_REGEX.match(\"!\") is None\n",
    "assert REPEATED_CHAR_REGEX.match(\"!!\") is not None\n",
    "assert REPEATED_CHAR_REGEX.match(\"!?...!\") is not None\n",
    "assert REPEATED_CHAR_REGEX.match('\".') is not None\n",
    "assert REPEATED_CHAR_REGEX.match(\"aaaaa\") is None\n",
    "assert REPEATED_CHAR_REGEX.match('\\\".') is not None"
   ]
  },
  {
   "cell_type": "code",
   "execution_count": 19,
   "metadata": {
    "collapsed": false
   },
   "outputs": [],
   "source": [
    "WORD_REGEX=re.compile(r'^([A-Za-z]+[\\'\\-\\.]?)+$')\n",
    "assert WORD_REGEX.match(\"ABC\") is not None\n",
    "assert WORD_REGEX.match(\"ABC-D\") is not None\n",
    "assert WORD_REGEX.match(\"ABC'D\") is not None\n",
    "assert WORD_REGEX.match(\"ABC.DFC.\") is not None\n",
    "assert WORD_REGEX.match(\"9-1\") is None\n",
    "assert WORD_REGEX.match(\"A.B.C\") is not None"
   ]
  },
  {
   "cell_type": "code",
   "execution_count": 20,
   "metadata": {
    "collapsed": false
   },
   "outputs": [],
   "source": [
    "PUNCT_REGEX=re.compile(ur'^\\p{P}$')\n",
    "assert PUNCT_REGEX.match(\".\") is not None\n",
    "assert PUNCT_REGEX.match(\"?\") is not None\n",
    "assert PUNCT_REGEX.match(\"!\") is not None\n",
    "assert PUNCT_REGEX.match(\"aa\") is None\n",
    "assert PUNCT_REGEX.match(\"a.\") is None"
   ]
  },
  {
   "cell_type": "code",
   "execution_count": 21,
   "metadata": {
    "collapsed": false
   },
   "outputs": [],
   "source": [
    "NUMBER_REGEX=re.compile(r'^(([0-9]*[.]?[0-9]+)|([0-9]+[,]?[0-9]+))$')\n",
    "assert NUMBER_REGEX.match(\"123\") is not None\n",
    "assert NUMBER_REGEX.match(\"123,4\") is not None\n",
    "assert NUMBER_REGEX.match(\"12.5\") is not None\n",
    "assert NUMBER_REGEX.match(\".5\") is not None\n",
    "assert NUMBER_REGEX.match(\"12-A\") is None\n",
    "assert NUMBER_REGEX.match(\",55\") is None\n",
    "assert NUMBER_REGEX.match(\"5.5.55\") is None"
   ]
  },
  {
   "cell_type": "code",
   "execution_count": 22,
   "metadata": {
    "collapsed": true
   },
   "outputs": [],
   "source": [
    "def get_token_type(t):\n",
    "    if len(t.token) > 1 and t.token[0] in ['\\'', '\\\"', '(', '-']:\n",
    "        return get_token_type(Tag(t.token[1:], t.tag))\n",
    "    if PUNCT_REGEX.match(t.token):\n",
    "        return \"Puctuation\"\n",
    "    if len(t.token) > 1 and t.token[0] == \"@\":\n",
    "        return \"Mention\"\n",
    "    if len(t.token) > 1 and t.token[0] == \"#\":\n",
    "        return \"Hashtag\"\n",
    "    if len(t.token) > 1 and t.token[0] == \"$\":\n",
    "        return \"Money\"\n",
    "    if URL_REGEX.match(t.token):\n",
    "        return \"URL\"\n",
    "    if NUMBER_REGEX.match(t.token):\n",
    "        return \"Number\"\n",
    "    if WORD_REGEX.match(t.token):\n",
    "        return \"Word\"\n",
    "    if t.token.isalnum():\n",
    "        return \"Alphanumeric\"\n",
    "    if REPEATED_CHAR_REGEX.match(t.token):\n",
    "        return \"Repeatedchar\"\n",
    "    return \"Other\""
   ]
  },
  {
   "cell_type": "code",
   "execution_count": 23,
   "metadata": {
    "collapsed": false
   },
   "outputs": [
    {
     "data": {
      "text/html": [
       "<div>\n",
       "<table border=\"1\" class=\"dataframe\">\n",
       "  <thead>\n",
       "    <tr style=\"text-align: right;\">\n",
       "      <th></th>\n",
       "      <th>Type</th>\n",
       "      <th>Counts</th>\n",
       "    </tr>\n",
       "  </thead>\n",
       "  <tbody>\n",
       "    <tr>\n",
       "      <th>0</th>\n",
       "      <td>Word</td>\n",
       "      <td>36523</td>\n",
       "    </tr>\n",
       "    <tr>\n",
       "      <th>1</th>\n",
       "      <td>Puctuation</td>\n",
       "      <td>4848</td>\n",
       "    </tr>\n",
       "    <tr>\n",
       "      <th>2</th>\n",
       "      <td>Mention</td>\n",
       "      <td>1300</td>\n",
       "    </tr>\n",
       "    <tr>\n",
       "      <th>3</th>\n",
       "      <td>Other</td>\n",
       "      <td>1029</td>\n",
       "    </tr>\n",
       "    <tr>\n",
       "      <th>4</th>\n",
       "      <td>Repeatedchar</td>\n",
       "      <td>1010</td>\n",
       "    </tr>\n",
       "    <tr>\n",
       "      <th>5</th>\n",
       "      <td>Number</td>\n",
       "      <td>657</td>\n",
       "    </tr>\n",
       "    <tr>\n",
       "      <th>6</th>\n",
       "      <td>Hashtag</td>\n",
       "      <td>449</td>\n",
       "    </tr>\n",
       "    <tr>\n",
       "      <th>7</th>\n",
       "      <td>URL</td>\n",
       "      <td>448</td>\n",
       "    </tr>\n",
       "    <tr>\n",
       "      <th>8</th>\n",
       "      <td>Alphanumeric</td>\n",
       "      <td>185</td>\n",
       "    </tr>\n",
       "    <tr>\n",
       "      <th>9</th>\n",
       "      <td>Money</td>\n",
       "      <td>20</td>\n",
       "    </tr>\n",
       "  </tbody>\n",
       "</table>\n",
       "</div>"
      ],
      "text/plain": [
       "           Type  Counts\n",
       "0          Word   36523\n",
       "1    Puctuation    4848\n",
       "2       Mention    1300\n",
       "3         Other    1029\n",
       "4  Repeatedchar    1010\n",
       "5        Number     657\n",
       "6       Hashtag     449\n",
       "7           URL     448\n",
       "8  Alphanumeric     185\n",
       "9         Money      20"
      ]
     },
     "execution_count": 23,
     "metadata": {},
     "output_type": "execute_result"
    }
   ],
   "source": [
    "pd.DataFrame(Counter(get_token_type(t) for seq in sequences for t in seq).most_common(), columns=[\"Type\", \"Counts\"])"
   ]
  },
  {
   "cell_type": "code",
   "execution_count": 24,
   "metadata": {
    "collapsed": false
   },
   "outputs": [],
   "source": [
    "other_tokens = filter(lambda x: get_token_type(x) == \"Money\", (t for seq in sequences for t in seq))"
   ]
  },
  {
   "cell_type": "code",
   "execution_count": 25,
   "metadata": {
    "collapsed": false,
    "scrolled": false
   },
   "outputs": [
    {
     "name": "stdout",
     "output_type": "stream",
     "text": [
      "[0] ('$100', 2)\n",
      "[1] ('$4T', 2)\n",
      "[2] ('$6', 2)\n",
      "[3] ('$4', 2)\n",
      "[4] ('$5', 2)\n",
      "[5] ('$1497-$3497', 1)\n",
      "[6] ('$15', 1)\n",
      "[7] ('$2/month', 1)\n",
      "[8] ('$$', 1)\n",
      "[9] ('$49', 1)\n",
      "[10] ('$37K', 1)\n",
      "[11] ('$150', 1)\n",
      "[12] ('$320000', 1)\n",
      "[13] ('$1000', 1)\n",
      "[14] ('$1', 1)\n"
     ]
    }
   ],
   "source": [
    "token_counts = Counter(t.token for t in other_tokens).most_common()\n",
    "for i, t in enumerate(token_counts):\n",
    "    print \"[%s] %s\" % (i,t)"
   ]
  },
  {
   "cell_type": "markdown",
   "metadata": {},
   "source": [
    "## Build vocab"
   ]
  },
  {
   "cell_type": "code",
   "execution_count": 52,
   "metadata": {
    "collapsed": false
   },
   "outputs": [],
   "source": [
    "TYPE_MAPPINGS=OrderedDict({\n",
    "    \"Other\": \"OOV\",\n",
    "    \"Hashtag\": \"#Hashtag\",\n",
    "    \"Mention\": \"@Mention\",\n",
    "    \"Puctuation\": \".\",\n",
    "    \"Number\": \"1111\",\n",
    "    \"Money\": \"$100\",\n",
    "    \"URL\": \"http://URL.com\",\n",
    "    \"Repeatedchar\": \"...\"\n",
    "})\n",
    "\n",
    "def get_vocab(sequences, prepend_extras=True):\n",
    "    excluded_types=set(TYPE_MAPPINGS.keys())\n",
    "    vocab = defaultdict(int)\n",
    "    for seq in sequences:\n",
    "        for t in seq:\n",
    "            t_type = get_token_type(t)\n",
    "            if t_type not in excluded_types:\n",
    "                vocab[t.token] += 1\n",
    "    id2word = [\"OOV\"]\n",
    "    if prepend_extras:\n",
    "        id2word = [\"<MASK>\", \"<BOS>\", \"<EOS>\"] + TYPE_MAPPINGS.values()\n",
    "    id2word.extend([t[0] for t in sorted(vocab.iteritems(), key=lambda x: x[1], reverse=True)])\n",
    "    print len(id2word)\n",
    "    word2id = OrderedDict({k:i for i,k in enumerate(id2word)})\n",
    "    return id2word, word2id, vocab\n",
    "                \n",
    "                \n",
    "            "
   ]
  },
  {
   "cell_type": "code",
   "execution_count": 53,
   "metadata": {
    "collapsed": false
   },
   "outputs": [
    {
     "name": "stdout",
     "output_type": "stream",
     "text": [
      "8033\n"
     ]
    }
   ],
   "source": [
    "id2word, word2id, vocab = get_vocab(sequences)"
   ]
  },
  {
   "cell_type": "code",
   "execution_count": 54,
   "metadata": {
    "collapsed": false
   },
   "outputs": [],
   "source": [
    "assert len(id2word) == len(word2id)"
   ]
  },
  {
   "cell_type": "code",
   "execution_count": 55,
   "metadata": {
    "collapsed": false
   },
   "outputs": [
    {
     "data": {
      "text/plain": [
       "[('Calaman', 1),\n",
       " ('four', 1),\n",
       " ('Does', 1),\n",
       " ('Olympics', 1),\n",
       " ('hanging', 1),\n",
       " ('Until', 1),\n",
       " ('LiLo', 1),\n",
       " ('LAST', 1),\n",
       " ('PAPALOTE', 1),\n",
       " ('otra', 1)]"
      ]
     },
     "execution_count": 55,
     "metadata": {},
     "output_type": "execute_result"
    }
   ],
   "source": [
    "Counter(id2word).most_common(10)"
   ]
  },
  {
   "cell_type": "code",
   "execution_count": 56,
   "metadata": {
    "collapsed": false
   },
   "outputs": [
    {
     "name": "stdout",
     "output_type": "stream",
     "text": [
      "Done\n",
      "8023\n",
      "Done\n"
     ]
    }
   ],
   "source": [
    "with open(\"vocab.txt\", \"wb+\") as fp:\n",
    "    for t in id2word:\n",
    "        print >> fp, t\n",
    "print \"Done\"\n",
    "\n",
    "id2word, word2id, vocab = get_vocab(sequences, prepend_extras=False)\n",
    "with open(\"vocab.no_extras.txt\", \"wb+\") as fp:\n",
    "    for t in id2word:\n",
    "        print >> fp, t\n",
    "print \"Done\""
   ]
  },
  {
   "cell_type": "markdown",
   "metadata": {
    "collapsed": true
   },
   "source": [
    "## Phrase counts"
   ]
  },
  {
   "cell_type": "code",
   "execution_count": 31,
   "metadata": {
    "collapsed": true
   },
   "outputs": [],
   "source": [
    "def phrases_per_seq(sequences):\n",
    "    count_phrases = []\n",
    "    count_phrase_types = defaultdict(list)\n",
    "    for seq in sequences:\n",
    "        current_phrase_count = 0\n",
    "        phrase_type_count = defaultdict(int)\n",
    "        for t in seq:\n",
    "            if t.tag[0] in (\"U\", \"B\"):\n",
    "                current_phrase_count += 1\n",
    "                phrase_type_count[t.tag[2:]] += 1\n",
    "        count_phrases.append(current_phrase_count)\n",
    "        for k,v in phrase_type_count.iteritems():\n",
    "            count_phrase_types[k].append(v)\n",
    "    return count_phrases, count_phrase_types\n",
    "                "
   ]
  },
  {
   "cell_type": "code",
   "execution_count": 32,
   "metadata": {
    "collapsed": true
   },
   "outputs": [],
   "source": [
    "count_phrases, count_phrase_types = phrases_per_seq(sequences)"
   ]
  },
  {
   "cell_type": "code",
   "execution_count": 33,
   "metadata": {
    "collapsed": false
   },
   "outputs": [
    {
     "data": {
      "text/plain": [
       "(array([ 1476.,   549.,   228.,    95.,    28.,    11.,     7.,     0.,\n",
       "            0.]),\n",
       " array([0, 1, 2, 3, 4, 5, 6, 7, 8, 9]),\n",
       " <a list of 9 Patch objects>)"
      ]
     },
     "execution_count": 33,
     "metadata": {},
     "output_type": "execute_result"
    },
    {
     "data": {
      "image/png": "[encoded data removed]",
      "text/plain": [
       "<matplotlib.figure.Figure at 0x7f9983e9a310>"
      ]
     },
     "metadata": {},
     "output_type": "display_data"
    }
   ],
   "source": [
    "plt.hist(count_phrases, bins=range(10))"
   ]
  },
  {
   "cell_type": "code",
   "execution_count": 34,
   "metadata": {
    "collapsed": false
   },
   "outputs": [
    {
     "data": {
      "text/plain": [
       "Counter({0: 1476, 1: 549, 2: 228, 3: 95, 4: 28, 5: 11, 6: 7})"
      ]
     },
     "execution_count": 34,
     "metadata": {},
     "output_type": "execute_result"
    }
   ],
   "source": [
    "Counter(count_phrases)"
   ]
  },
  {
   "cell_type": "code",
   "execution_count": 35,
   "metadata": {
    "collapsed": false
   },
   "outputs": [
    {
     "data": {
      "text/plain": [
       "True"
      ]
     },
     "execution_count": 35,
     "metadata": {},
     "output_type": "execute_result"
    }
   ],
   "source": [
    "sum(Counter(count_phrases).values()) == len(sequences)"
   ]
  },
  {
   "cell_type": "code",
   "execution_count": 36,
   "metadata": {
    "collapsed": false
   },
   "outputs": [
    {
     "data": {
      "text/plain": [
       "61.65413533834587"
      ]
     },
     "execution_count": 36,
     "metadata": {},
     "output_type": "execute_result"
    }
   ],
   "source": [
    "Counter(count_phrases)[0] * 100. / len(sequences)"
   ]
  },
  {
   "cell_type": "code",
   "execution_count": 37,
   "metadata": {
    "collapsed": false
   },
   "outputs": [
    {
     "data": {
      "text/plain": [
       "445"
      ]
     },
     "execution_count": 37,
     "metadata": {},
     "output_type": "execute_result"
    }
   ],
   "source": [
    "count_phrases.index(6)"
   ]
  },
  {
   "cell_type": "code",
   "execution_count": 38,
   "metadata": {
    "collapsed": false
   },
   "outputs": [
    {
     "data": {
      "text/plain": [
       "[Tag(token='Yahoo', tag='U-company'),\n",
       " Tag(token=':', tag='O'),\n",
       " Tag(token='Jackie', tag='U-person'),\n",
       " Tag(token='joins', tag='O'),\n",
       " Tag(token='Twitter', tag='U-company'),\n",
       " Tag(token='50', tag='O'),\n",
       " Tag(token='years', tag='O'),\n",
       " Tag(token='after', tag='O'),\n",
       " Tag(token='JFK', tag='U-person'),\n",
       " Tag(token='campaign', tag='O'),\n",
       " Tag(token=':', tag='O'),\n",
       " Tag(token='Had', tag='O'),\n",
       " Tag(token='Twitter', tag='U-company'),\n",
       " Tag(token='been', tag='O'),\n",
       " Tag(token='an', tag='O'),\n",
       " Tag(token='option', tag='O'),\n",
       " Tag(token='in', tag='O'),\n",
       " Tag(token='1960', tag='O'),\n",
       " Tag(token=',', tag='O'),\n",
       " Tag(token='a', tag='O'),\n",
       " Tag(token='pregnant', tag='O'),\n",
       " Tag(token='Jacquelin', tag='U-person'),\n",
       " Tag(token='...', tag='O'),\n",
       " Tag(token='http://yhoo.it/9VAD4A', tag='O')]"
      ]
     },
     "execution_count": 38,
     "metadata": {},
     "output_type": "execute_result"
    }
   ],
   "source": [
    "sequences[445]"
   ]
  },
  {
   "cell_type": "code",
   "execution_count": 39,
   "metadata": {
    "collapsed": false
   },
   "outputs": [
    {
     "name": "stdout",
     "output_type": "stream",
     "text": [
      "product Counter({1: 56, 2: 11, 3: 4, 4: 2})\n",
      "facility Counter({1: 84, 2: 9, 3: 1})\n",
      "movie Counter({1: 20, 2: 2, 3: 2, 4: 1})\n",
      "company Counter({1: 134, 2: 14, 3: 3})\n",
      "sportsteam Counter({1: 33, 2: 9})\n",
      "musicartist Counter({1: 35, 2: 4, 3: 4})\n",
      "person Counter({1: 269, 2: 54, 3: 17, 4: 4, 5: 1})\n",
      "other Counter({1: 166, 2: 23, 3: 3, 4: 1})\n",
      "geo-loc Counter({1: 161, 2: 44, 3: 4, 4: 4})\n",
      "tvshow Counter({1: 32, 2: 1})\n"
     ]
    }
   ],
   "source": [
    "for k, v in count_phrase_types.iteritems():\n",
    "    print k, Counter(v)\n",
    "    "
   ]
  },
  {
   "cell_type": "markdown",
   "metadata": {},
   "source": [
    "## Context words"
   ]
  },
  {
   "cell_type": "code",
   "execution_count": 40,
   "metadata": {
    "collapsed": true
   },
   "outputs": [],
   "source": [
    "def phrases_context_words(sequences, lowercase=False):\n",
    "    context_words = defaultdict(lambda : defaultdict(int))\n",
    "    global_word_counts = defaultdict(int)\n",
    "    for seq in sequences:\n",
    "        phrase_types = set()\n",
    "        outside_word_counts = defaultdict(int)\n",
    "        for t in seq:\n",
    "            token, tag = t\n",
    "            if lowercase:\n",
    "                token = token.lower()\n",
    "            if tag[0] in (\"U\", \"B\"):\n",
    "                phrase_types.add(tag[2:])\n",
    "            elif t.tag[0] == \"O\":\n",
    "                outside_word_counts[token] += 1\n",
    "        for k,v in outside_word_counts.iteritems():\n",
    "            global_word_counts[k] += 1\n",
    "            for p in phrase_types:\n",
    "                context_words[p][k] += v\n",
    "    return context_words, global_word_counts         "
   ]
  },
  {
   "cell_type": "code",
   "execution_count": 41,
   "metadata": {
    "collapsed": false
   },
   "outputs": [],
   "source": [
    "context_words, global_word_counts = phrases_context_words(sequences, lowercase=True)"
   ]
  },
  {
   "cell_type": "code",
   "execution_count": 42,
   "metadata": {
    "collapsed": false,
    "scrolled": false
   },
   "outputs": [
    {
     "data": {
      "text/plain": [
       "['product',\n",
       " 'facility',\n",
       " 'movie',\n",
       " 'company',\n",
       " 'sportsteam',\n",
       " 'musicartist',\n",
       " 'person',\n",
       " 'other',\n",
       " 'geo-loc',\n",
       " 'tvshow']"
      ]
     },
     "execution_count": 42,
     "metadata": {},
     "output_type": "execute_result"
    }
   ],
   "source": [
    "context_words.keys()"
   ]
  },
  {
   "cell_type": "code",
   "execution_count": 43,
   "metadata": {
    "collapsed": true
   },
   "outputs": [],
   "source": [
    "def get_diff_type_occurence(w,context_words):\n",
    "    n = 0\n",
    "    for k, v in context_words.iteritems():\n",
    "        if w in v:\n",
    "            n += 1\n",
    "    return n"
   ]
  },
  {
   "cell_type": "code",
   "execution_count": 44,
   "metadata": {
    "collapsed": false
   },
   "outputs": [
    {
     "name": "stdout",
     "output_type": "stream",
     "text": [
      "Top 10 tokens in category product: \n",
      "\trefresh: 2\n",
      "\tmascara: 2\n",
      "\ttank: 2\n",
      "\thand: 2\n",
      "\trecord: 2\n",
      "\tmonday: 3\n",
      "\twant: 5\n",
      "\tthird: 2\n",
      "\tlo: 2\n",
      "\tmlia: 2\n",
      "Top 10 tokens in category facility: \n",
      "\tnight: 10\n",
      "\tsalsa: 2\n",
      "\tsafety: 2\n",
      "\tself-defense: 2\n",
      "\tview: 2\n",
      "\ttamales: 2\n",
      "\t@paulwalk: 2\n",
      "\tsoyrizo: 2\n",
      "\tsaturday: 5\n",
      "\twhere: 6\n",
      "Top 10 tokens in category movie: \n",
      "\tmovie: 5\n",
      "\t5:00: 2\n",
      "\t8:45: 2\n",
      "\t@glasgowfilm: 2\n",
      "\thttp://bit.ly/bhulum: 2\n",
      "\t7:00: 2\n",
      "\tapplications: 2\n",
      "\tmovies: 3\n",
      "\treally: 5\n",
      "\t:p: 2\n",
      "Top 10 tokens in category company: \n",
      "\tdrama: 7\n",
      "\t@liltwist: 5\n",
      "\tedition: 7\n",
      "\tvideos: 9\n",
      "\tmeltdowns: 5\n",
      "\tepic: 6\n",
      "\thttp://bit.ly/cuy0yt: 3\n",
      "\tcryin: 3\n",
      "\tusually: 4\n",
      "\temail: 4\n",
      "Top 10 tokens in category sportsteam: \n",
      "\tfootball: 7\n",
      "\tgame: 13\n",
      "\tvs: 5\n",
      "\tscores: 3\n",
      "\tcheap: 2\n",
      "\tbrooms: 2\n",
      "\tunseen: 2\n",
      "\t#ryerson: 2\n",
      "\t@robmoysey: 2\n",
      "\t@ruquidditch: 2\n",
      "Top 10 tokens in category musicartist: \n",
      "\t((: 2\n",
      "\tconcerts: 2\n",
      "\tduring/before: 2\n",
      "\t@jaredleto: 2\n",
      "\trican: 2\n",
      "\thttp://ht.ly/2g4ns: 2\n",
      "\t@planetill: 2\n",
      "\tstage: 2\n",
      "\twants: 2\n",
      "\tcosta: 2\n",
      "Top 10 tokens in category person: \n",
      "\t...\": 14\n",
      "\ttook: 17\n",
      "\tpart: 14\n",
      "\twake: 7\n",
      "\tconcert: 10\n",
      "\tyoiu: 6\n",
      "\ttrampled: 6\n",
      "\tgot: 24\n",
      "\ttest: 10\n",
      "\ttry: 17\n",
      "Top 10 tokens in category other: \n",
      "\tstressful: 3\n",
      "\tstyle: 3\n",
      "\tdriving: 7\n",
      "\tthedeandreway: 3\n",
      "\t@souljaboy: 3\n",
      "\tnap: 3\n",
      "\tlist: 4\n",
      "\tnov: 4\n",
      "\taway: 4\n",
      "\tmonday: 4\n",
      "Top 10 tokens in category geo-loc: \n",
      "\tparty: 10\n",
      "\tfollow: 6\n",
      "\t3d: 3\n",
      "\tf: 3\n",
      "\thttp://bit.ly/cds8pd: 3\n",
      "\tsony/bud: 3\n",
      "\tlight: 3\n",
      "\tforward: 3\n",
      "\tbeautiful: 4\n",
      "\tetc: 4\n",
      "Top 10 tokens in category tvshow: \n",
      "\tloop: 2\n",
      "\t@k8_walsh: 2\n",
      "\tepisodes: 2\n",
      "\t@fuseboxradio: 2\n",
      "\tstupid: 2\n",
      "\trican: 2\n",
      "\thttp://ht.ly/2g4ns: 2\n",
      "\t@planetill: 2\n",
      "\tik: 2\n",
      "\tpremiere: 2\n"
     ]
    }
   ],
   "source": [
    "TOPN=10\n",
    "context_sums = {k: (sum(v.values())*1.) for k,v in context_words.iteritems()}\n",
    "global_sum = len(context_words)*1.\n",
    "\n",
    "for k,v in context_words.iteritems():\n",
    "    print \"Top %s tokens in category %s: \" % (TOPN, k)\n",
    "    print \"\\t\", \"\\n\\t\".join(\"%s: %s\" % t for t in sorted(v.iteritems(),\n",
    "                                                   key=lambda x: ((x[1]/context_sums[k])\n",
    "                                                                  *np.log10(global_sum/get_diff_type_occurence(x[0], context_words))),\n",
    "                                                   reverse=True)[:10])"
   ]
  },
  {
   "cell_type": "code",
   "execution_count": 45,
   "metadata": {
    "collapsed": false
   },
   "outputs": [
    {
     "data": {
      "text/html": [
       "<div>\n",
       "<table border=\"1\" class=\"dataframe\">\n",
       "  <thead>\n",
       "    <tr style=\"text-align: right;\">\n",
       "      <th></th>\n",
       "      <th>token</th>\n",
       "      <th>count</th>\n",
       "      <th>normed_score</th>\n",
       "      <th>normed_global_score</th>\n",
       "      <th>tf_idf</th>\n",
       "    </tr>\n",
       "  </thead>\n",
       "  <tbody>\n",
       "    <tr>\n",
       "      <th>217</th>\n",
       "      <td>loop</td>\n",
       "      <td>2</td>\n",
       "      <td>0.003503</td>\n",
       "      <td>1.00000</td>\n",
       "      <td>0.003503</td>\n",
       "    </tr>\n",
       "    <tr>\n",
       "      <th>277</th>\n",
       "      <td>@k8_walsh</td>\n",
       "      <td>2</td>\n",
       "      <td>0.003503</td>\n",
       "      <td>1.00000</td>\n",
       "      <td>0.003503</td>\n",
       "    </tr>\n",
       "    <tr>\n",
       "      <th>95</th>\n",
       "      <td>@fuseboxradio</td>\n",
       "      <td>2</td>\n",
       "      <td>0.003503</td>\n",
       "      <td>0.69897</td>\n",
       "      <td>0.002448</td>\n",
       "    </tr>\n",
       "    <tr>\n",
       "      <th>148</th>\n",
       "      <td>rican</td>\n",
       "      <td>2</td>\n",
       "      <td>0.003503</td>\n",
       "      <td>0.69897</td>\n",
       "      <td>0.002448</td>\n",
       "    </tr>\n",
       "    <tr>\n",
       "      <th>169</th>\n",
       "      <td>@planetill</td>\n",
       "      <td>2</td>\n",
       "      <td>0.003503</td>\n",
       "      <td>0.69897</td>\n",
       "      <td>0.002448</td>\n",
       "    </tr>\n",
       "    <tr>\n",
       "      <th>265</th>\n",
       "      <td>premiere</td>\n",
       "      <td>2</td>\n",
       "      <td>0.003503</td>\n",
       "      <td>0.69897</td>\n",
       "      <td>0.002448</td>\n",
       "    </tr>\n",
       "    <tr>\n",
       "      <th>100</th>\n",
       "      <td>stupid</td>\n",
       "      <td>2</td>\n",
       "      <td>0.003503</td>\n",
       "      <td>0.69897</td>\n",
       "      <td>0.002448</td>\n",
       "    </tr>\n",
       "    <tr>\n",
       "      <th>11</th>\n",
       "      <td>episodes</td>\n",
       "      <td>2</td>\n",
       "      <td>0.003503</td>\n",
       "      <td>0.69897</td>\n",
       "      <td>0.002448</td>\n",
       "    </tr>\n",
       "    <tr>\n",
       "      <th>152</th>\n",
       "      <td>http://ht.ly/2g4ns</td>\n",
       "      <td>2</td>\n",
       "      <td>0.003503</td>\n",
       "      <td>0.69897</td>\n",
       "      <td>0.002448</td>\n",
       "    </tr>\n",
       "    <tr>\n",
       "      <th>283</th>\n",
       "      <td>costa</td>\n",
       "      <td>2</td>\n",
       "      <td>0.003503</td>\n",
       "      <td>0.69897</td>\n",
       "      <td>0.002448</td>\n",
       "    </tr>\n",
       "  </tbody>\n",
       "</table>\n",
       "</div>"
      ],
      "text/plain": [
       "                  token  count  normed_score  normed_global_score    tf_idf\n",
       "217                loop      2      0.003503              1.00000  0.003503\n",
       "277           @k8_walsh      2      0.003503              1.00000  0.003503\n",
       "95        @fuseboxradio      2      0.003503              0.69897  0.002448\n",
       "148               rican      2      0.003503              0.69897  0.002448\n",
       "169          @planetill      2      0.003503              0.69897  0.002448\n",
       "265            premiere      2      0.003503              0.69897  0.002448\n",
       "100              stupid      2      0.003503              0.69897  0.002448\n",
       "11             episodes      2      0.003503              0.69897  0.002448\n",
       "152  http://ht.ly/2g4ns      2      0.003503              0.69897  0.002448\n",
       "283               costa      2      0.003503              0.69897  0.002448"
      ]
     },
     "execution_count": 45,
     "metadata": {},
     "output_type": "execute_result"
    }
   ],
   "source": [
    "phrase_type_key=\"tvshow\"\n",
    "df_t = pd.DataFrame(context_words[phrase_type_key].items(), columns=[\"token\", \"count\"])\n",
    "df_t[\"normed_score\"] = df_t.apply(lambda x: (x[\"count\"] /context_sums[phrase_type_key]), axis=1)\n",
    "df_t[\"normed_global_score\"] = df_t.apply(lambda x: np.log10(global_sum/get_diff_type_occurence(x[0], context_words)), axis=1)\n",
    "df_t[\"tf_idf\"] = df_t[\"normed_score\"]*df_t[\"normed_global_score\"]\n",
    "df_t.sort_values(\"tf_idf\", ascending=False).head(10)"
   ]
  },
  {
   "cell_type": "code",
   "execution_count": 46,
   "metadata": {
    "collapsed": false
   },
   "outputs": [
    {
     "data": {
      "text/html": [
       "<div>\n",
       "<table border=\"1\" class=\"dataframe\">\n",
       "  <thead>\n",
       "    <tr style=\"text-align: right;\">\n",
       "      <th></th>\n",
       "      <th>token</th>\n",
       "      <th>count</th>\n",
       "      <th>normed_score</th>\n",
       "      <th>normed_global_score</th>\n",
       "      <th>tf_idf</th>\n",
       "    </tr>\n",
       "  </thead>\n",
       "  <tbody>\n",
       "    <tr>\n",
       "      <th>795</th>\n",
       "      <td>...\"</td>\n",
       "      <td>14</td>\n",
       "      <td>0.002070</td>\n",
       "      <td>0.698970</td>\n",
       "      <td>0.001447</td>\n",
       "    </tr>\n",
       "    <tr>\n",
       "      <th>206</th>\n",
       "      <td>took</td>\n",
       "      <td>17</td>\n",
       "      <td>0.002514</td>\n",
       "      <td>0.522879</td>\n",
       "      <td>0.001314</td>\n",
       "    </tr>\n",
       "    <tr>\n",
       "      <th>1225</th>\n",
       "      <td>part</td>\n",
       "      <td>14</td>\n",
       "      <td>0.002070</td>\n",
       "      <td>0.522879</td>\n",
       "      <td>0.001082</td>\n",
       "    </tr>\n",
       "    <tr>\n",
       "      <th>853</th>\n",
       "      <td>wake</td>\n",
       "      <td>7</td>\n",
       "      <td>0.001035</td>\n",
       "      <td>1.000000</td>\n",
       "      <td>0.001035</td>\n",
       "    </tr>\n",
       "    <tr>\n",
       "      <th>808</th>\n",
       "      <td>concert</td>\n",
       "      <td>10</td>\n",
       "      <td>0.001479</td>\n",
       "      <td>0.698970</td>\n",
       "      <td>0.001034</td>\n",
       "    </tr>\n",
       "    <tr>\n",
       "      <th>149</th>\n",
       "      <td>yoiu</td>\n",
       "      <td>6</td>\n",
       "      <td>0.000887</td>\n",
       "      <td>1.000000</td>\n",
       "      <td>0.000887</td>\n",
       "    </tr>\n",
       "    <tr>\n",
       "      <th>379</th>\n",
       "      <td>trampled</td>\n",
       "      <td>6</td>\n",
       "      <td>0.000887</td>\n",
       "      <td>1.000000</td>\n",
       "      <td>0.000887</td>\n",
       "    </tr>\n",
       "    <tr>\n",
       "      <th>170</th>\n",
       "      <td>got</td>\n",
       "      <td>24</td>\n",
       "      <td>0.003549</td>\n",
       "      <td>0.221849</td>\n",
       "      <td>0.000787</td>\n",
       "    </tr>\n",
       "    <tr>\n",
       "      <th>476</th>\n",
       "      <td>test</td>\n",
       "      <td>10</td>\n",
       "      <td>0.001479</td>\n",
       "      <td>0.522879</td>\n",
       "      <td>0.000773</td>\n",
       "    </tr>\n",
       "    <tr>\n",
       "      <th>1523</th>\n",
       "      <td>try</td>\n",
       "      <td>17</td>\n",
       "      <td>0.002514</td>\n",
       "      <td>0.301030</td>\n",
       "      <td>0.000757</td>\n",
       "    </tr>\n",
       "  </tbody>\n",
       "</table>\n",
       "</div>"
      ],
      "text/plain": [
       "         token  count  normed_score  normed_global_score    tf_idf\n",
       "795       ...\"     14      0.002070             0.698970  0.001447\n",
       "206       took     17      0.002514             0.522879  0.001314\n",
       "1225      part     14      0.002070             0.522879  0.001082\n",
       "853       wake      7      0.001035             1.000000  0.001035\n",
       "808    concert     10      0.001479             0.698970  0.001034\n",
       "149       yoiu      6      0.000887             1.000000  0.000887\n",
       "379   trampled      6      0.000887             1.000000  0.000887\n",
       "170        got     24      0.003549             0.221849  0.000787\n",
       "476       test     10      0.001479             0.522879  0.000773\n",
       "1523       try     17      0.002514             0.301030  0.000757"
      ]
     },
     "execution_count": 46,
     "metadata": {},
     "output_type": "execute_result"
    }
   ],
   "source": [
    "phrase_type_key=\"person\"\n",
    "df_t = pd.DataFrame(context_words[phrase_type_key].items(), columns=[\"token\", \"count\"])\n",
    "df_t[\"normed_score\"] = df_t.apply(lambda x: (x[\"count\"] /context_sums[phrase_type_key]), axis=1)\n",
    "df_t[\"normed_global_score\"] = df_t.apply(lambda x: np.log10(global_sum/get_diff_type_occurence(x[0], context_words)), axis=1)\n",
    "df_t[\"tf_idf\"] = df_t[\"normed_score\"]*df_t[\"normed_global_score\"]\n",
    "df_t.sort_values(\"tf_idf\", ascending=False).head(10)"
   ]
  },
  {
   "cell_type": "code",
   "execution_count": 47,
   "metadata": {
    "collapsed": false
   },
   "outputs": [
    {
     "data": {
      "text/html": [
       "<div>\n",
       "<table border=\"1\" class=\"dataframe\">\n",
       "  <thead>\n",
       "    <tr style=\"text-align: right;\">\n",
       "      <th></th>\n",
       "      <th>token</th>\n",
       "      <th>count</th>\n",
       "      <th>normed_score</th>\n",
       "      <th>normed_global_score</th>\n",
       "      <th>tf_idf</th>\n",
       "    </tr>\n",
       "  </thead>\n",
       "  <tbody>\n",
       "    <tr>\n",
       "      <th>956</th>\n",
       "      <td>party</td>\n",
       "      <td>10</td>\n",
       "      <td>0.002571</td>\n",
       "      <td>0.397940</td>\n",
       "      <td>0.001023</td>\n",
       "    </tr>\n",
       "    <tr>\n",
       "      <th>420</th>\n",
       "      <td>follow</td>\n",
       "      <td>6</td>\n",
       "      <td>0.001542</td>\n",
       "      <td>0.522879</td>\n",
       "      <td>0.000806</td>\n",
       "    </tr>\n",
       "    <tr>\n",
       "      <th>1199</th>\n",
       "      <td>forward</td>\n",
       "      <td>3</td>\n",
       "      <td>0.000771</td>\n",
       "      <td>1.000000</td>\n",
       "      <td>0.000771</td>\n",
       "    </tr>\n",
       "    <tr>\n",
       "      <th>245</th>\n",
       "      <td>f</td>\n",
       "      <td>3</td>\n",
       "      <td>0.000771</td>\n",
       "      <td>1.000000</td>\n",
       "      <td>0.000771</td>\n",
       "    </tr>\n",
       "    <tr>\n",
       "      <th>135</th>\n",
       "      <td>3d</td>\n",
       "      <td>3</td>\n",
       "      <td>0.000771</td>\n",
       "      <td>1.000000</td>\n",
       "      <td>0.000771</td>\n",
       "    </tr>\n",
       "    <tr>\n",
       "      <th>573</th>\n",
       "      <td>sony/bud</td>\n",
       "      <td>3</td>\n",
       "      <td>0.000771</td>\n",
       "      <td>1.000000</td>\n",
       "      <td>0.000771</td>\n",
       "    </tr>\n",
       "    <tr>\n",
       "      <th>859</th>\n",
       "      <td>light</td>\n",
       "      <td>3</td>\n",
       "      <td>0.000771</td>\n",
       "      <td>1.000000</td>\n",
       "      <td>0.000771</td>\n",
       "    </tr>\n",
       "    <tr>\n",
       "      <th>517</th>\n",
       "      <td>http://bit.ly/cds8pd</td>\n",
       "      <td>3</td>\n",
       "      <td>0.000771</td>\n",
       "      <td>1.000000</td>\n",
       "      <td>0.000771</td>\n",
       "    </tr>\n",
       "    <tr>\n",
       "      <th>830</th>\n",
       "      <td>etc</td>\n",
       "      <td>4</td>\n",
       "      <td>0.001028</td>\n",
       "      <td>0.698970</td>\n",
       "      <td>0.000719</td>\n",
       "    </tr>\n",
       "    <tr>\n",
       "      <th>263</th>\n",
       "      <td>beautiful</td>\n",
       "      <td>4</td>\n",
       "      <td>0.001028</td>\n",
       "      <td>0.698970</td>\n",
       "      <td>0.000719</td>\n",
       "    </tr>\n",
       "  </tbody>\n",
       "</table>\n",
       "</div>"
      ],
      "text/plain": [
       "                     token  count  normed_score  normed_global_score    tf_idf\n",
       "956                  party     10      0.002571             0.397940  0.001023\n",
       "420                 follow      6      0.001542             0.522879  0.000806\n",
       "1199               forward      3      0.000771             1.000000  0.000771\n",
       "245                      f      3      0.000771             1.000000  0.000771\n",
       "135                     3d      3      0.000771             1.000000  0.000771\n",
       "573               sony/bud      3      0.000771             1.000000  0.000771\n",
       "859                  light      3      0.000771             1.000000  0.000771\n",
       "517   http://bit.ly/cds8pd      3      0.000771             1.000000  0.000771\n",
       "830                    etc      4      0.001028             0.698970  0.000719\n",
       "263              beautiful      4      0.001028             0.698970  0.000719"
      ]
     },
     "execution_count": 47,
     "metadata": {},
     "output_type": "execute_result"
    }
   ],
   "source": [
    "phrase_type_key=\"geo-loc\"\n",
    "df_t = pd.DataFrame(context_words[phrase_type_key].items(), columns=[\"token\", \"count\"])\n",
    "df_t[\"normed_score\"] = df_t.apply(lambda x: (x[\"count\"] /context_sums[phrase_type_key]), axis=1)\n",
    "df_t[\"normed_global_score\"] = df_t.apply(lambda x: np.log10(global_sum/get_diff_type_occurence(x[0], context_words)), axis=1)\n",
    "df_t[\"tf_idf\"] = df_t[\"normed_score\"]*df_t[\"normed_global_score\"]\n",
    "df_t.sort_values(\"tf_idf\", ascending=False).head(10)"
   ]
  },
  {
   "cell_type": "code",
   "execution_count": null,
   "metadata": {
    "collapsed": true
   },
   "outputs": [],
   "source": []
  }
 ],
 "metadata": {
  "kernelspec": {
   "display_name": "Python 2",
   "language": "python",
   "name": "python2"
  },
  "language_info": {
   "codemirror_mode": {
    "name": "ipython",
    "version": 2
   },
   "file_extension": ".py",
   "mimetype": "text/x-python",
   "name": "python",
   "nbconvert_exporter": "python",
   "pygments_lexer": "ipython2",
   "version": "2.7.12"
  }
 },
 "nbformat": 4,
 "nbformat_minor": 1
}
