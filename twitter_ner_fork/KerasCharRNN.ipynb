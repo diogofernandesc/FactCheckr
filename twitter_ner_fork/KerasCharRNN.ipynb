{
 "cells": [
  {
   "cell_type": "code",
   "execution_count": 1,
   "metadata": {
    "collapsed": false
   },
   "outputs": [],
   "source": [
    "%matplotlib inline\n",
    "\n",
    "import numpy as np\n",
    "import pandas as pd\n",
    "\n",
    "import matplotlib.pyplot as plt\n",
    "import seaborn as sns\n",
    "\n",
    "from collections import namedtuple, defaultdict, Counter"
   ]
  },
  {
   "cell_type": "code",
   "execution_count": 2,
   "metadata": {
    "collapsed": true
   },
   "outputs": [],
   "source": [
    "sns.set_context(\"poster\")\n",
    "sns.set_style(\"ticks\")"
   ]
  },
  {
   "cell_type": "code",
   "execution_count": 3,
   "metadata": {
    "collapsed": false
   },
   "outputs": [],
   "source": [
    "Tag = namedtuple(\"Tag\", [\"token\", \"tag\"])\n",
    "BEGIN_TAG = Tag(\"^\", \"<BOS>\")\n",
    "END_TAG = Tag(\"$\", \"<EOS>\")\n",
    "\n",
    "def load_sequences(filename, sep=\"\\t\", notypes=False, to_chars=False):\n",
    "    sequences = []\n",
    "    prev_char_tag = \"O\"\n",
    "    with open(filename) as fp:\n",
    "        seq = []\n",
    "        if to_chars:\n",
    "            seq = [BEGIN_TAG]\n",
    "        for line in fp:\n",
    "            line = line.strip()\n",
    "            if line:\n",
    "                line = line.split(sep)\n",
    "                if notypes:\n",
    "                    line[1] = line[1][0]\n",
    "                if not to_chars:\n",
    "                    seq.append(Tag(*line))\n",
    "                else:\n",
    "                    if line[1] == \"O\":\n",
    "                        # Take care of outside blocks\n",
    "                        t = \"O\"\n",
    "                        for l in line[0]:\n",
    "                            seq.append(Tag(l, t))\n",
    "                    # Take care of phrase blocks\n",
    "                    elif len(line[0]) == 1 and line[1][0] == \"U\":\n",
    "                        t = \"U%s\" % line[1][1:]\n",
    "                        seq.append(Tag(l, t))\n",
    "                    else:\n",
    "                        if line[1][0] in [\"B\", \"U\"]:\n",
    "                            # start with B\n",
    "                            t = \"%s%s\" % (\"B\", line[1][1:])\n",
    "                        else:\n",
    "                            # continue with inside\n",
    "                            t = \"%s%s\" % (\"I\", line[1][1:])\n",
    "                        seq.append(Tag(line[0][0], t))\n",
    "                        for l in line[0][1:-1]:\n",
    "                            t = \"%s%s\" % (\"I\", line[1][1:])\n",
    "                            seq.append(Tag(l, t))\n",
    "                        if line[1][0] in [\"U\", \"E\"]:\n",
    "                            t = \"%s%s\" % (\"E\", line[1][1:])\n",
    "                            seq.append(Tag(line[0][-1], t))\n",
    "                        else:\n",
    "                            t = \"%s%s\" % (\"I\", line[1][1:])\n",
    "                            seq.append(Tag(line[0][-1], t))\n",
    "                    if t[0] in [\"B\", \"I\"]:\n",
    "                        t = \"%s%s\" % (\"I\", line[1][1:])\n",
    "                        seq.append(Tag(\" \", t))\n",
    "                    else:\n",
    "                        t = \"O\"\n",
    "                        seq.append(Tag(\" \", t))\n",
    "            else:\n",
    "                if to_chars:\n",
    "                    seq.append(END_TAG)\n",
    "                sequences.append(seq)\n",
    "                seq = []\n",
    "                if to_chars:\n",
    "                    seq = [BEGIN_TAG]\n",
    "        if seq:\n",
    "            if to_chars:\n",
    "                seq.append(END_TAG)\n",
    "            sequences.append(seq)\n",
    "    return sequences\n",
    "    "
   ]
  },
  {
   "cell_type": "code",
   "execution_count": 4,
   "metadata": {
    "collapsed": true
   },
   "outputs": [],
   "source": [
    "train = load_sequences(\"data/cleaned/train.BIEOU.tsv\", to_chars=True, notypes=True)\n",
    "test = load_sequences(\"data/cleaned/dev.BIEOU.tsv\", to_chars=True, notypes=True)"
   ]
  },
  {
   "cell_type": "code",
   "execution_count": 5,
   "metadata": {
    "collapsed": false
   },
   "outputs": [
    {
     "data": {
      "text/plain": [
       "<matplotlib.text.Text at 0x7f05d995a450>"
      ]
     },
     "execution_count": 5,
     "metadata": {},
     "output_type": "execute_result"
    },
    {
     "data": {
      "image/png": "[encoded data removed]",
      "text/plain": [
       "<matplotlib.figure.Figure at 0x7f0610415bd0>"
      ]
     },
     "metadata": {},
     "output_type": "display_data"
    }
   ],
   "source": [
    "fig, ax = plt.subplots(1,2)\n",
    "ax[0].hist([len(seq) for seq in train], bins=range(0,180,10))\n",
    "ax[1].hist([len(seq) for seq in test], bins=range(0,180,10))\n",
    "ax[0].set_title(\"Train\")\n",
    "ax[1].set_title(\"Validation\")"
   ]
  },
  {
   "cell_type": "code",
   "execution_count": 6,
   "metadata": {
    "collapsed": false
   },
   "outputs": [
    {
     "data": {
      "text/plain": [
       "['<BOS>', '<EOS>', 'B', 'E', 'I', 'O']"
      ]
     },
     "execution_count": 6,
     "metadata": {},
     "output_type": "execute_result"
    }
   ],
   "source": [
    "labels = sorted(Counter(t.tag for seq in train for t in seq).keys(), key=lambda x: x.split(\"-\")[-1])\n",
    "labels"
   ]
  },
  {
   "cell_type": "code",
   "execution_count": 7,
   "metadata": {
    "collapsed": false
   },
   "outputs": [
    {
     "data": {
      "text/plain": [
       "{'<BOS>': 1, '<EOS>': 2, 'B': 3, 'E': 4, 'I': 5, 'MASK': 0, 'O': 6}"
      ]
     },
     "execution_count": 7,
     "metadata": {},
     "output_type": "execute_result"
    }
   ],
   "source": [
    "labels = [\"MASK\"] + labels\n",
    "label2id = {l: i for i, l in enumerate(labels)}\n",
    "label2id"
   ]
  },
  {
   "cell_type": "markdown",
   "metadata": {},
   "source": [
    "## Modeling"
   ]
  },
  {
   "cell_type": "code",
   "execution_count": 43,
   "metadata": {
    "collapsed": false
   },
   "outputs": [],
   "source": [
    "from keras.preprocessing import sequence\n",
    "from keras.models import Sequential, Model\n",
    "from keras.layers import Dense, Dropout, Embedding, LSTM, Input, TimeDistributed, Merge, merge\n",
    "from keras.callbacks import TensorBoard, ModelCheckpoint"
   ]
  },
  {
   "cell_type": "code",
   "execution_count": 9,
   "metadata": {
    "collapsed": true
   },
   "outputs": [],
   "source": [
    "CHAR_INPUT_DIM=127 + 1\n",
    "CHAR_EMBED=50\n",
    "MAXLENGTH=150\n",
    "NUM_LABELS=len(label2id)"
   ]
  },
  {
   "cell_type": "code",
   "execution_count": 10,
   "metadata": {
    "collapsed": false
   },
   "outputs": [
    {
     "name": "stdout",
     "output_type": "stream",
     "text": [
      "('X_train shape:', (2395, 150))\n",
      "('X_test shape:', (1001, 150))\n"
     ]
    }
   ],
   "source": [
    "X_train = sequence.pad_sequences([[ord(t.token) for t in seq] for seq in train], maxlen=MAXLENGTH)\n",
    "X_test = sequence.pad_sequences([[ord(t.token) for t in seq] for seq in test], maxlen=MAXLENGTH)\n",
    "print('X_train shape:', X_train.shape)\n",
    "print('X_test shape:', X_test.shape)"
   ]
  },
  {
   "cell_type": "code",
   "execution_count": 11,
   "metadata": {
    "collapsed": false
   },
   "outputs": [
    {
     "name": "stdout",
     "output_type": "stream",
     "text": [
      "('y_train shape:', (2395, 150, 1))\n",
      "('y_test shape:', (1001, 150, 1))\n",
      "('train_sample_weight shape:', (2395, 150))\n",
      "('test_sample_weight shape:', (1001, 150))\n"
     ]
    }
   ],
   "source": [
    "Y_train = sequence.pad_sequences([[label2id[t.tag] for t in seq] for seq in train], maxlen=MAXLENGTH)\n",
    "Y_test = sequence.pad_sequences([[label2id[t.tag] for t in seq] for seq in test], maxlen=MAXLENGTH)\n",
    "\n",
    "train_sample_weight = Y_train != 0\n",
    "test_sample_weight = Y_test != 0\n",
    "\n",
    "Y_train = np.expand_dims(Y_train, -1)\n",
    "Y_test = np.expand_dims(Y_test, -1)\n",
    "\n",
    "\n",
    "print('y_train shape:', Y_train.shape)\n",
    "print('y_test shape:', Y_test.shape)\n",
    "\n",
    "print('train_sample_weight shape:', train_sample_weight.shape)\n",
    "print('test_sample_weight shape:', test_sample_weight.shape)"
   ]
  },
  {
   "cell_type": "code",
   "execution_count": 41,
   "metadata": {
    "collapsed": false
   },
   "outputs": [],
   "source": [
    "num_layers=3\n",
    "lstm_units=32\n",
    "\n",
    "input_layer = Input(shape=(MAXLENGTH,), dtype='int32')\n",
    "emb = Embedding(input_dim=CHAR_INPUT_DIM, output_dim=CHAR_EMBED,\n",
    "                           input_length=MAXLENGTH, mask_zero=True)(input_layer)\n",
    "# apply forwards LSTM\n",
    "forward_lstms = []\n",
    "prev_layer = emb\n",
    "for i in xrange(num_layers):\n",
    "    fw_lstm = LSTM(lstm_units, return_sequences=True)(prev_layer)\n",
    "    prev_layer = fw_lstm\n",
    "    forward_lstms.append(fw_lstm)\n",
    "\n",
    "# apply backwards LSTM\n",
    "backward_lstms = []\n",
    "prev_layer = emb\n",
    "for i in xrange(num_layers):\n",
    "    bw_lstm = LSTM(lstm_units, return_sequences=True, go_backwards=True)(prev_layer)\n",
    "    prev_layer = bw_lstm\n",
    "    backward_lstms.append(bw_lstm)\n",
    "\n",
    "merged_layer = merge([fw_lstm, bw_lstm], mode=\"concat\")\n",
    "dropout = Dropout(p=0.5)(merged_layer)\n",
    "dense = TimeDistributed(Dense(128, activation='tanh'))(dropout)\n",
    "out = TimeDistributed(Dense(NUM_LABELS, activation='softmax'))(dense)"
   ]
  },
  {
   "cell_type": "code",
   "execution_count": 44,
   "metadata": {
    "collapsed": false
   },
   "outputs": [],
   "source": [
    "model = Model(input=input_layer, output=out)\n",
    "model.compile(optimizer='adam', loss='sparse_categorical_crossentropy', sample_weight_mode=\"temporal\",  metrics=['accuracy'])\n",
    "tb_callback = TensorBoard(log_dir='./tb_logs', histogram_freq=0, write_graph=True)\n",
    "mc_callback = ModelCheckpoint(\"models/LSTM3.hdf5\", monitor='val_loss', save_best_only=True)"
   ]
  },
  {
   "cell_type": "code",
   "execution_count": null,
   "metadata": {
    "collapsed": false
   },
   "outputs": [],
   "source": [
    "model.fit(X_train, Y_train, nb_epoch=50,\n",
    "          sample_weight=train_sample_weight,\n",
    "         validation_data=(X_test, Y_test, test_sample_weight),\n",
    "         callbacks=[tb_callback, mc_callback])"
   ]
  },
  {
   "cell_type": "code",
   "execution_count": 46,
   "metadata": {
    "collapsed": false
   },
   "outputs": [
    {
     "data": {
      "text/plain": [
       "['acc', 'loss', 'val_acc', 'val_loss']"
      ]
     },
     "execution_count": 46,
     "metadata": {},
     "output_type": "execute_result"
    }
   ],
   "source": [
    "model.history.history.keys()"
   ]
  },
  {
   "cell_type": "code",
   "execution_count": 47,
   "metadata": {
    "collapsed": false
   },
   "outputs": [
    {
     "data": {
      "text/plain": [
       "<matplotlib.legend.Legend at 0x7f02e9129390>"
      ]
     },
     "execution_count": 47,
     "metadata": {},
     "output_type": "execute_result"
    },
    {
     "data": {
      "image/png": "[encoded data removed]",
      "text/plain": [
       "<matplotlib.figure.Figure at 0x7f03a9fd0ed0>"
      ]
     },
     "metadata": {},
     "output_type": "display_data"
    }
   ],
   "source": [
    "fig, ax = plt.subplots(1,2 ,figsize=(16,8))\n",
    "\n",
    "\n",
    "ax[0].plot(model.history.epoch, model.history.history[\"acc\"], \"-bo\", label=\"Train\")\n",
    "ax[0].plot(model.history.epoch, model.history.history[\"val_acc\"], \"-rs\", label=\"Validation\")\n",
    "ax[0].set_xlabel(\"Epoch\")\n",
    "ax[0].set_ylabel(\"Accuracy\")\n",
    "ax[0].legend(loc=\"upper left\")\n",
    "\n",
    "ax[1].plot(model.history.epoch, model.history.history[\"loss\"], \"-bo\", label=\"Train\")\n",
    "ax[1].plot(model.history.epoch, model.history.history[\"val_loss\"], \"-rs\", label=\"Validation\")\n",
    "ax[1].set_xlabel(\"Epoch\")\n",
    "ax[1].set_ylabel(\"Loss\")\n",
    "ax[1].legend(loc=\"upper left\")"
   ]
  },
  {
   "cell_type": "code",
   "execution_count": 48,
   "metadata": {
    "collapsed": true
   },
   "outputs": [],
   "source": [
    "predictions = model.predict(X_train)"
   ]
  },
  {
   "cell_type": "code",
   "execution_count": 49,
   "metadata": {
    "collapsed": false
   },
   "outputs": [
    {
     "data": {
      "text/plain": [
       "array([1, 1, 1, 1, 1, 1, 1, 1, 6, 6, 6, 6, 6, 6, 6, 6, 6, 6, 6, 6, 6, 6, 6,\n",
       "       6, 6, 6, 6, 6, 6, 3, 5, 6, 6, 6, 6, 6, 6, 6, 6, 6, 6, 6, 6, 6, 6, 6,\n",
       "       6, 6, 6, 6, 6, 6, 6, 6, 6, 6, 3, 5, 5, 5, 5, 5, 6, 6, 6, 6, 6, 6, 6,\n",
       "       6, 6, 6, 6, 6, 6, 6, 6, 6, 6, 6, 6, 6, 6, 6, 6, 6, 6, 6, 6, 6, 6, 6,\n",
       "       6, 6, 6, 6, 6, 6, 6, 6, 6, 6, 6, 6, 6, 6, 6, 6, 6, 6, 6, 6, 6, 6, 6,\n",
       "       6, 6, 6, 6, 6, 6, 6, 6, 6, 6, 6, 6, 6, 6, 6, 6, 6, 5, 5, 5, 6, 5, 5,\n",
       "       5, 5, 5, 6, 6, 6, 6, 6, 6, 6, 6, 2])"
      ]
     },
     "execution_count": 49,
     "metadata": {},
     "output_type": "execute_result"
    }
   ],
   "source": [
    "predictions.argmax(axis=-1)[1]"
   ]
  },
  {
   "cell_type": "code",
   "execution_count": 50,
   "metadata": {
    "collapsed": false,
    "scrolled": false
   },
   "outputs": [
    {
     "data": {
      "text/plain": [
       "array([0, 0, 0, 0, 0, 0, 0, 1, 6, 6, 6, 6, 6, 6, 6, 6, 6, 6, 6, 6, 6, 6, 6,\n",
       "       6, 6, 6, 6, 6, 6, 3, 4, 6, 6, 6, 6, 6, 6, 6, 6, 6, 6, 6, 6, 6, 6, 6,\n",
       "       6, 6, 6, 6, 6, 6, 6, 6, 6, 6, 3, 5, 5, 5, 5, 5, 5, 5, 5, 5, 5, 4, 6,\n",
       "       6, 6, 6, 6, 6, 6, 6, 6, 6, 6, 6, 6, 6, 6, 6, 6, 6, 6, 6, 6, 6, 6, 6,\n",
       "       6, 6, 6, 6, 6, 6, 6, 6, 6, 6, 6, 6, 6, 6, 6, 6, 6, 6, 6, 6, 6, 6, 6,\n",
       "       6, 6, 6, 6, 6, 6, 6, 6, 6, 6, 6, 6, 6, 6, 3, 5, 5, 5, 5, 5, 5, 5, 5,\n",
       "       5, 5, 4, 6, 6, 6, 6, 6, 6, 6, 6, 2], dtype=int32)"
      ]
     },
     "execution_count": 50,
     "metadata": {},
     "output_type": "execute_result"
    }
   ],
   "source": [
    "Y_train[1].flatten()"
   ]
  },
  {
   "cell_type": "code",
   "execution_count": 51,
   "metadata": {
    "collapsed": false
   },
   "outputs": [
    {
     "data": {
      "text/plain": [
       "array([False, False, False, False, False, False, False,  True,  True,\n",
       "        True,  True,  True,  True,  True,  True,  True,  True,  True,\n",
       "        True,  True,  True,  True,  True,  True,  True,  True,  True,\n",
       "        True,  True,  True, False,  True,  True,  True,  True,  True,\n",
       "        True,  True,  True,  True,  True,  True,  True,  True,  True,\n",
       "        True,  True,  True,  True,  True,  True,  True,  True,  True,\n",
       "        True,  True,  True,  True,  True,  True,  True,  True, False,\n",
       "       False, False, False, False, False,  True,  True,  True,  True,\n",
       "        True,  True,  True,  True,  True,  True,  True,  True,  True,\n",
       "        True,  True,  True,  True,  True,  True,  True,  True,  True,\n",
       "        True,  True,  True,  True,  True,  True,  True,  True,  True,\n",
       "        True,  True,  True,  True,  True,  True,  True,  True,  True,\n",
       "        True,  True,  True,  True,  True,  True,  True,  True,  True,\n",
       "        True,  True,  True,  True,  True,  True,  True,  True,  True,\n",
       "        True,  True,  True, False, False, False,  True,  True,  True,\n",
       "       False,  True,  True,  True,  True, False,  True,  True,  True,\n",
       "        True,  True,  True,  True,  True,  True], dtype=bool)"
      ]
     },
     "execution_count": 51,
     "metadata": {},
     "output_type": "execute_result"
    }
   ],
   "source": [
    "predictions.argmax(axis=-1)[1] == Y_train[1].flatten()"
   ]
  },
  {
   "cell_type": "code",
   "execution_count": 52,
   "metadata": {
    "collapsed": true
   },
   "outputs": [],
   "source": [
    "predictions_val = model.predict(X_test)"
   ]
  },
  {
   "cell_type": "code",
   "execution_count": 53,
   "metadata": {
    "collapsed": false
   },
   "outputs": [
    {
     "data": {
      "text/plain": [
       "array([1, 1, 1, 1, 1, 1, 1, 1, 1, 1, 1, 1, 1, 1, 1, 1, 1, 1, 1, 1, 1, 1, 1,\n",
       "       1, 1, 1, 1, 1, 1, 1, 1, 1, 1, 1, 1, 6, 6, 6, 6, 6, 6, 6, 6, 6, 6, 6,\n",
       "       6, 6, 6, 6, 6, 6, 6, 6, 6, 6, 6, 6, 6, 6, 6, 6, 6, 6, 6, 6, 6, 6, 6,\n",
       "       6, 6, 6, 6, 6, 6, 6, 6, 6, 6, 6, 6, 6, 6, 6, 6, 6, 6, 6, 6, 6, 6, 6,\n",
       "       6, 6, 6, 6, 6, 6, 6, 6, 6, 6, 6, 6, 6, 6, 6, 6, 6, 6, 6, 6, 6, 6, 6,\n",
       "       6, 6, 6, 6, 6, 6, 6, 6, 6, 6, 6, 6, 6, 6, 6, 6, 6, 6, 6, 6, 6, 6, 6,\n",
       "       6, 6, 6, 6, 6, 6, 6, 6, 6, 6, 6, 2])"
      ]
     },
     "execution_count": 53,
     "metadata": {},
     "output_type": "execute_result"
    }
   ],
   "source": [
    "predictions_val.argmax(axis=-1)[0]"
   ]
  },
  {
   "cell_type": "code",
   "execution_count": 54,
   "metadata": {
    "collapsed": false
   },
   "outputs": [
    {
     "data": {
      "text/plain": [
       "array([0, 0, 0, 0, 0, 0, 0, 0, 0, 0, 0, 0, 0, 0, 0, 0, 0, 0, 0, 0, 0, 0, 0,\n",
       "       0, 0, 0, 0, 0, 0, 0, 0, 0, 0, 0, 1, 6, 6, 6, 6, 6, 6, 6, 6, 6, 6, 6,\n",
       "       6, 6, 6, 6, 6, 6, 6, 6, 6, 6, 6, 6, 6, 6, 6, 6, 6, 6, 6, 6, 6, 6, 6,\n",
       "       6, 6, 6, 6, 6, 6, 6, 6, 6, 6, 6, 6, 6, 6, 6, 6, 6, 6, 6, 6, 6, 6, 6,\n",
       "       6, 6, 6, 6, 6, 6, 3, 5, 5, 5, 5, 4, 6, 6, 6, 6, 6, 6, 6, 6, 6, 6, 6,\n",
       "       6, 6, 6, 6, 6, 6, 6, 6, 6, 6, 6, 6, 6, 6, 6, 6, 6, 6, 6, 6, 6, 6, 6,\n",
       "       6, 6, 6, 6, 6, 6, 6, 6, 6, 6, 6, 2], dtype=int32)"
      ]
     },
     "execution_count": 54,
     "metadata": {},
     "output_type": "execute_result"
    }
   ],
   "source": [
    "Y_test[0].flatten()"
   ]
  },
  {
   "cell_type": "code",
   "execution_count": 62,
   "metadata": {
    "collapsed": true
   },
   "outputs": [],
   "source": [
    "from sklearn.metrics import classification_report, confusion_matrix"
   ]
  },
  {
   "cell_type": "code",
   "execution_count": 72,
   "metadata": {
    "collapsed": false
   },
   "outputs": [
    {
     "data": {
      "text/plain": [
       "array([[     0, 111872,    196,      0,      0,      0,   2342],\n",
       "       [     0,   2330,      0,      0,      0,      0,      0],\n",
       "       [     0,      0,   2394,      0,      0,      0,      1],\n",
       "       [     0,      0,      0,    436,      0,     12,   1049],\n",
       "       [     0,      0,      0,      0,      0,    754,    734],\n",
       "       [     0,      0,      0,     27,      0,   5126,   6135],\n",
       "       [     0,      0,     21,    241,      0,   2105, 223475]])"
      ]
     },
     "execution_count": 72,
     "metadata": {},
     "output_type": "execute_result"
    }
   ],
   "source": [
    "confusion_matrix(Y_train.flatten(),\n",
    "                            predictions.argmax(axis=-1).flatten(),\n",
    "                labels=range(len(labels)))"
   ]
  },
  {
   "cell_type": "code",
   "execution_count": 74,
   "metadata": {
    "collapsed": false
   },
   "outputs": [
    {
     "data": {
      "text/plain": [
       "array([[  2330,      0,      0,      0,      0,      0],\n",
       "       [     0,   2394,      0,      0,      0,      1],\n",
       "       [     0,      0,    436,      0,     12,   1049],\n",
       "       [     0,      0,      0,      0,    754,    734],\n",
       "       [     0,      0,     27,      0,   5126,   6135],\n",
       "       [     0,     21,    241,      0,   2105, 223475]])"
      ]
     },
     "execution_count": 74,
     "metadata": {},
     "output_type": "execute_result"
    }
   ],
   "source": [
    "confusion_matrix(Y_train.flatten()[Y_train.flatten() != 0],\n",
    "                            predictions.argmax(axis=-1).flatten()[Y_train.flatten() != 0],\n",
    "                labels=range(1,len(labels)))"
   ]
  },
  {
   "cell_type": "code",
   "execution_count": 77,
   "metadata": {
    "collapsed": false
   },
   "outputs": [
    {
     "name": "stdout",
     "output_type": "stream",
     "text": [
      "             precision    recall  f1-score   support\n",
      "\n",
      "      <BOS>       1.00      1.00      1.00      2330\n",
      "      <EOS>       0.99      1.00      1.00      2395\n",
      "          B       0.62      0.29      0.40      1497\n",
      "          E       0.00      0.00      0.00      1488\n",
      "          I       0.64      0.45      0.53     11288\n",
      "          O       0.97      0.99      0.98    225842\n",
      "\n",
      "avg / total       0.94      0.95      0.95    244840\n",
      "\n"
     ]
    }
   ],
   "source": [
    "print classification_report(Y_train.flatten()[Y_train.flatten() != 0],\n",
    "                            predictions.argmax(axis=-1).flatten()[Y_train.flatten() != 0],\n",
    "                labels=range(1,len(labels)), target_names=labels[1:])"
   ]
  },
  {
   "cell_type": "code",
   "execution_count": 78,
   "metadata": {
    "collapsed": false
   },
   "outputs": [
    {
     "data": {
      "text/html": [
       "<div>\n",
       "<table border=\"1\" class=\"dataframe\">\n",
       "  <thead>\n",
       "    <tr style=\"text-align: right;\">\n",
       "      <th></th>\n",
       "      <th>&lt;BOS&gt;</th>\n",
       "      <th>&lt;EOS&gt;</th>\n",
       "      <th>B</th>\n",
       "      <th>E</th>\n",
       "      <th>I</th>\n",
       "      <th>O</th>\n",
       "    </tr>\n",
       "  </thead>\n",
       "  <tbody>\n",
       "    <tr>\n",
       "      <th>&lt;BOS&gt;</th>\n",
       "      <td>2330</td>\n",
       "      <td>0</td>\n",
       "      <td>0</td>\n",
       "      <td>0</td>\n",
       "      <td>0</td>\n",
       "      <td>0</td>\n",
       "    </tr>\n",
       "    <tr>\n",
       "      <th>&lt;EOS&gt;</th>\n",
       "      <td>0</td>\n",
       "      <td>2394</td>\n",
       "      <td>0</td>\n",
       "      <td>0</td>\n",
       "      <td>0</td>\n",
       "      <td>1</td>\n",
       "    </tr>\n",
       "    <tr>\n",
       "      <th>B</th>\n",
       "      <td>0</td>\n",
       "      <td>0</td>\n",
       "      <td>436</td>\n",
       "      <td>0</td>\n",
       "      <td>12</td>\n",
       "      <td>1049</td>\n",
       "    </tr>\n",
       "    <tr>\n",
       "      <th>E</th>\n",
       "      <td>0</td>\n",
       "      <td>0</td>\n",
       "      <td>0</td>\n",
       "      <td>0</td>\n",
       "      <td>754</td>\n",
       "      <td>734</td>\n",
       "    </tr>\n",
       "    <tr>\n",
       "      <th>I</th>\n",
       "      <td>0</td>\n",
       "      <td>0</td>\n",
       "      <td>27</td>\n",
       "      <td>0</td>\n",
       "      <td>5126</td>\n",
       "      <td>6135</td>\n",
       "    </tr>\n",
       "    <tr>\n",
       "      <th>O</th>\n",
       "      <td>0</td>\n",
       "      <td>21</td>\n",
       "      <td>241</td>\n",
       "      <td>0</td>\n",
       "      <td>2105</td>\n",
       "      <td>223475</td>\n",
       "    </tr>\n",
       "  </tbody>\n",
       "</table>\n",
       "</div>"
      ],
      "text/plain": [
       "       <BOS>  <EOS>    B  E     I       O\n",
       "<BOS>   2330      0    0  0     0       0\n",
       "<EOS>      0   2394    0  0     0       1\n",
       "B          0      0  436  0    12    1049\n",
       "E          0      0    0  0   754     734\n",
       "I          0      0   27  0  5126    6135\n",
       "O          0     21  241  0  2105  223475"
      ]
     },
     "execution_count": 78,
     "metadata": {},
     "output_type": "execute_result"
    }
   ],
   "source": [
    "df_cfr = confusion_matrix(Y_train.flatten()[Y_train.flatten() != 0],\n",
    "                            predictions.argmax(axis=-1).flatten()[Y_train.flatten() != 0],\n",
    "                labels=range(1,len(labels)))\n",
    "\n",
    "df_cfr = pd.DataFrame(df_cfr, index=labels[1:], columns=labels[1:])\n",
    "df_cfr"
   ]
  },
  {
   "cell_type": "code",
   "execution_count": 80,
   "metadata": {
    "collapsed": false
   },
   "outputs": [
    {
     "data": {
      "text/plain": [
       "<matplotlib.axes._subplots.AxesSubplot at 0x7f02e9246250>"
      ]
     },
     "execution_count": 80,
     "metadata": {},
     "output_type": "execute_result"
    },
    {
     "data": {
      "image/png": "[encoded data removed]",
      "text/plain": [
       "<matplotlib.figure.Figure at 0x7f0189e74090>"
      ]
     },
     "metadata": {},
     "output_type": "display_data"
    }
   ],
   "source": [
    "sns.heatmap(df_cfr.divide(df_cfr.sum()))"
   ]
  },
  {
   "cell_type": "code",
   "execution_count": 81,
   "metadata": {
    "collapsed": false
   },
   "outputs": [
    {
     "data": {
      "text/html": [
       "<div>\n",
       "<table border=\"1\" class=\"dataframe\">\n",
       "  <thead>\n",
       "    <tr style=\"text-align: right;\">\n",
       "      <th></th>\n",
       "      <th>&lt;BOS&gt;</th>\n",
       "      <th>&lt;EOS&gt;</th>\n",
       "      <th>B</th>\n",
       "      <th>E</th>\n",
       "      <th>I</th>\n",
       "      <th>O</th>\n",
       "    </tr>\n",
       "  </thead>\n",
       "  <tbody>\n",
       "    <tr>\n",
       "      <th>&lt;BOS&gt;</th>\n",
       "      <td>991</td>\n",
       "      <td>0</td>\n",
       "      <td>0</td>\n",
       "      <td>0</td>\n",
       "      <td>0</td>\n",
       "      <td>0</td>\n",
       "    </tr>\n",
       "    <tr>\n",
       "      <th>&lt;EOS&gt;</th>\n",
       "      <td>0</td>\n",
       "      <td>1001</td>\n",
       "      <td>0</td>\n",
       "      <td>0</td>\n",
       "      <td>0</td>\n",
       "      <td>0</td>\n",
       "    </tr>\n",
       "    <tr>\n",
       "      <th>B</th>\n",
       "      <td>0</td>\n",
       "      <td>0</td>\n",
       "      <td>134</td>\n",
       "      <td>0</td>\n",
       "      <td>15</td>\n",
       "      <td>515</td>\n",
       "    </tr>\n",
       "    <tr>\n",
       "      <th>E</th>\n",
       "      <td>0</td>\n",
       "      <td>0</td>\n",
       "      <td>0</td>\n",
       "      <td>0</td>\n",
       "      <td>268</td>\n",
       "      <td>386</td>\n",
       "    </tr>\n",
       "    <tr>\n",
       "      <th>I</th>\n",
       "      <td>0</td>\n",
       "      <td>0</td>\n",
       "      <td>10</td>\n",
       "      <td>0</td>\n",
       "      <td>1750</td>\n",
       "      <td>3598</td>\n",
       "    </tr>\n",
       "    <tr>\n",
       "      <th>O</th>\n",
       "      <td>0</td>\n",
       "      <td>11</td>\n",
       "      <td>175</td>\n",
       "      <td>0</td>\n",
       "      <td>2168</td>\n",
       "      <td>85894</td>\n",
       "    </tr>\n",
       "  </tbody>\n",
       "</table>\n",
       "</div>"
      ],
      "text/plain": [
       "       <BOS>  <EOS>    B  E     I      O\n",
       "<BOS>    991      0    0  0     0      0\n",
       "<EOS>      0   1001    0  0     0      0\n",
       "B          0      0  134  0    15    515\n",
       "E          0      0    0  0   268    386\n",
       "I          0      0   10  0  1750   3598\n",
       "O          0     11  175  0  2168  85894"
      ]
     },
     "execution_count": 81,
     "metadata": {},
     "output_type": "execute_result"
    }
   ],
   "source": [
    "df_cfr = confusion_matrix(Y_test.flatten()[Y_test.flatten() != 0],\n",
    "                            predictions_val.argmax(axis=-1).flatten()[Y_test.flatten() != 0],\n",
    "                labels=range(1,len(labels)))\n",
    "\n",
    "df_cfr = pd.DataFrame(df_cfr, index=labels[1:], columns=labels[1:])\n",
    "df_cfr"
   ]
  },
  {
   "cell_type": "code",
   "execution_count": 82,
   "metadata": {
    "collapsed": false
   },
   "outputs": [
    {
     "data": {
      "text/plain": [
       "<matplotlib.axes._subplots.AxesSubplot at 0x7f02e9175710>"
      ]
     },
     "execution_count": 82,
     "metadata": {},
     "output_type": "execute_result"
    },
    {
     "data": {
      "image/png": "[encoded data removed]",
      "text/plain": [
       "<matplotlib.figure.Figure at 0x7f0189db5610>"
      ]
     },
     "metadata": {},
     "output_type": "display_data"
    }
   ],
   "source": [
    "sns.heatmap(df_cfr.divide(df_cfr.sum()))"
   ]
  },
  {
   "cell_type": "code",
   "execution_count": 86,
   "metadata": {
    "collapsed": false
   },
   "outputs": [
    {
     "data": {
      "text/plain": [
       "<BOS>      991\n",
       "<EOS>     1001\n",
       "B          664\n",
       "E          654\n",
       "I         5358\n",
       "O        88248\n",
       "dtype: int64"
      ]
     },
     "execution_count": 86,
     "metadata": {},
     "output_type": "execute_result"
    }
   ],
   "source": [
    "df_cfr.sum(axis=1)"
   ]
  },
  {
   "cell_type": "code",
   "execution_count": 92,
   "metadata": {
    "collapsed": false
   },
   "outputs": [
    {
     "data": {
      "text/plain": [
       "<matplotlib.axes._subplots.AxesSubplot at 0x7f02e8159550>"
      ]
     },
     "execution_count": 92,
     "metadata": {},
     "output_type": "execute_result"
    },
    {
     "data": {
      "image/png": "[encoded data removed]",
      "text/plain": [
       "<matplotlib.figure.Figure at 0x7f02e81d1510>"
      ]
     },
     "metadata": {},
     "output_type": "display_data"
    }
   ],
   "source": [
    "sns.heatmap(df_cfr.divide(df_cfr.sum(axis=1), axis=0))"
   ]
  },
  {
   "cell_type": "code",
   "execution_count": 115,
   "metadata": {
    "collapsed": true
   },
   "outputs": [],
   "source": [
    "def write_predictions(data, y_true, y_pred, labels, filename):\n",
    "    with open(filename, \"wb+\") as fp:\n",
    "        for i, seq in enumerate(data):\n",
    "            y = y_pred[i, (y_true[i, :]!= 0).flatten()]\n",
    "            for t, pred in zip(seq, y):\n",
    "                print_line = \"%s\\t%s\\t%s\" % (t.token, t.tag, labels[pred])\n",
    "                if t.token == \" \":\n",
    "                    print_line = \"%s\\t%s\\t%s\" % (\"<space>\", t.tag, labels[pred])\n",
    "                print >> fp, print_line\n"
   ]
  },
  {
   "cell_type": "code",
   "execution_count": 117,
   "metadata": {
    "collapsed": false
   },
   "outputs": [],
   "source": [
    "write_predictions(test, Y_test, predictions_val.argmax(axis=-1), labels, \"dev_notypes.char.tsv\")"
   ]
  },
  {
   "cell_type": "code",
   "execution_count": null,
   "metadata": {
    "collapsed": true
   },
   "outputs": [],
   "source": []
  }
 ],
 "metadata": {
  "kernelspec": {
   "display_name": "Python 2",
   "language": "python",
   "name": "python2"
  },
  "language_info": {
   "codemirror_mode": {
    "name": "ipython",
    "version": 2
   },
   "file_extension": ".py",
   "mimetype": "text/x-python",
   "name": "python",
   "nbconvert_exporter": "python",
   "pygments_lexer": "ipython2",
   "version": "2.7.12"
  }
 },
 "nbformat": 4,
 "nbformat_minor": 1
}
